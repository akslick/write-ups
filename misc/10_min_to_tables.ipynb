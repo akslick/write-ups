{
 "cells": [
  {
   "cell_type": "markdown",
   "metadata": {},
   "source": [
    "This is an introductory guide to some useful functions with the `Tables` class. It should be used as a reference rather than a comprehensive guide. For some other useful tutorials, check out:\n",
    "\n",
    "- [From the Datascience textbook](http://data8.org/text/1_data.html#tables)\n",
    "- [A few example notebooks](https://github.com/deculler/TableDemos)\n",
    "- [The official API documentation](http://data8.org/datascience/)"
   ]
  },
  {
   "cell_type": "code",
   "execution_count": 18,
   "metadata": {
    "collapsed": false
   },
   "outputs": [],
   "source": [
    "import datascience as ds\n",
    "import numpy as np\n",
    "import pandas as pd\n",
    "import string"
   ]
  },
  {
   "cell_type": "markdown",
   "metadata": {},
   "source": [
    "# Creating a Table from scratch\n",
    "\n",
    "In order to create a vanilla Table object, you need two things: a list of data columns and a set of labels for those columns.\n"
   ]
  },
  {
   "cell_type": "code",
   "execution_count": 19,
   "metadata": {
    "collapsed": false
   },
   "outputs": [],
   "source": [
    "nfeats, npoints = 10, 100\n",
    "data = list(np.random.randn(nfeats, npoints))\n",
    "labels = [string.ascii_lowercase[i] for i in range(nfeats)]\n",
    "table = ds.Table(data, labels=labels)"
   ]
  },
  {
   "cell_type": "markdown",
   "metadata": {},
   "source": [
    "You can also supply a dictionary where keys are labels and values are the column data"
   ]
  },
  {
   "cell_type": "code",
   "execution_count": 20,
   "metadata": {
    "collapsed": false
   },
   "outputs": [],
   "source": [
    "data_dict = {i: dat for i, dat in zip(labels, data)}\n",
    "table = ds.Table.from_columns_dict(data_dict)"
   ]
  },
  {
   "cell_type": "markdown",
   "metadata": {},
   "source": [
    "If you want to create a table by passing rows instead of columns, use the `from_rows` method"
   ]
  },
  {
   "cell_type": "code",
   "execution_count": 21,
   "metadata": {
    "collapsed": false
   },
   "outputs": [],
   "source": [
    "data_rows = list(np.random.randn(npoints, nfeats))\n",
    "table = ds.Table.from_rows(data_rows, column_labels=labels)"
   ]
  },
  {
   "cell_type": "markdown",
   "metadata": {},
   "source": [
    "# Viewing Data"
   ]
  },
  {
   "cell_type": "markdown",
   "metadata": {},
   "source": [
    "In a jupyter notebook, simply run a cell with a table in it, and it will display in nice HTML. However, it will cut off rows that are too long to be displayed"
   ]
  },
  {
   "cell_type": "code",
   "execution_count": 22,
   "metadata": {
    "collapsed": false
   },
   "outputs": [
    {
     "data": {
      "text/html": [
       "<table border=\"1\" class=\"dataframe\">\n",
       "    <thead>\n",
       "        <tr>\n",
       "            <th>a</th> <th>b</th> <th>c</th> <th>d</th> <th>e</th> <th>f</th> <th>g</th> <th>h</th> <th>i</th> <th>j</th>\n",
       "        </tr>\n",
       "    </thead>\n",
       "    <tbody>\n",
       "        <tr>\n",
       "            <td>1.47322  </td> <td>0.656063 </td> <td>-0.401252 </td> <td>0.719005 </td> <td>-1.04886 </td> <td>1.25265  </td> <td>0.433674 </td> <td>-0.422546</td> <td>0.808726 </td> <td>-0.584839</td>\n",
       "        </tr>\n",
       "    </tbody>\n",
       "        <tr>\n",
       "            <td>1.22433  </td> <td>1.68251  </td> <td>0.0884474 </td> <td>0.387752 </td> <td>0.29966  </td> <td>-1.04284 </td> <td>-0.760973</td> <td>-1.54238 </td> <td>-0.340201</td> <td>2.43176  </td>\n",
       "        </tr>\n",
       "    </tbody>\n",
       "        <tr>\n",
       "            <td>-0.374095</td> <td>-0.872324</td> <td>-0.844742 </td> <td>-0.639322</td> <td>-0.668143</td> <td>1.36785  </td> <td>0.89169  </td> <td>0.534444 </td> <td>0.808748 </td> <td>-0.649596</td>\n",
       "        </tr>\n",
       "    </tbody>\n",
       "        <tr>\n",
       "            <td>0.514309 </td> <td>-1.35711 </td> <td>0.480351  </td> <td>-0.836941</td> <td>1.36574  </td> <td>-0.923039</td> <td>0.325919 </td> <td>0.433147 </td> <td>0.421811 </td> <td>-0.576981</td>\n",
       "        </tr>\n",
       "    </tbody>\n",
       "        <tr>\n",
       "            <td>0.114981 </td> <td>2.08516  </td> <td>-1.64722  </td> <td>-0.279241</td> <td>-0.271861</td> <td>0.1985   </td> <td>-0.107857</td> <td>0.307659 </td> <td>1.64217  </td> <td>0.993    </td>\n",
       "        </tr>\n",
       "    </tbody>\n",
       "        <tr>\n",
       "            <td>-2.73727 </td> <td>1.98559  </td> <td>-0.177422 </td> <td>0.464792 </td> <td>0.111792 </td> <td>1.6894   </td> <td>0.250159 </td> <td>-0.584032</td> <td>-0.14129 </td> <td>-0.58728 </td>\n",
       "        </tr>\n",
       "    </tbody>\n",
       "        <tr>\n",
       "            <td>-0.796424</td> <td>-0.923416</td> <td>0.200698  </td> <td>0.949148 </td> <td>0.389305 </td> <td>-0.318975</td> <td>-0.360773</td> <td>0.360731 </td> <td>0.156811 </td> <td>0.821194 </td>\n",
       "        </tr>\n",
       "    </tbody>\n",
       "        <tr>\n",
       "            <td>1.0247   </td> <td>0.395183 </td> <td>-0.999285 </td> <td>0.610134 </td> <td>-0.605347</td> <td>-2.4624  </td> <td>2.32099  </td> <td>-0.604794</td> <td>1.28987  </td> <td>-0.325868</td>\n",
       "        </tr>\n",
       "    </tbody>\n",
       "        <tr>\n",
       "            <td>-0.454209</td> <td>-0.45885 </td> <td>-0.584588 </td> <td>-0.533117</td> <td>1.2416   </td> <td>0.773302 </td> <td>-0.995275</td> <td>0.35998  </td> <td>-1.68374 </td> <td>1.01766  </td>\n",
       "        </tr>\n",
       "    </tbody>\n",
       "        <tr>\n",
       "            <td>1.2669   </td> <td>0.590678 </td> <td>-0.0331148</td> <td>-0.969507</td> <td>1.3537   </td> <td>1.82663  </td> <td>-0.62562 </td> <td>-0.465854</td> <td>-0.392034</td> <td>0.186124 </td>\n",
       "        </tr>\n",
       "    </tbody>\n",
       "</table>\n",
       "<p>... (90 rows omitted)</p"
      ],
      "text/plain": [
       "a         | b         | c          | d         | e         | f         | g         | h         | i         | j\n",
       "1.47322   | 0.656063  | -0.401252  | 0.719005  | -1.04886  | 1.25265   | 0.433674  | -0.422546 | 0.808726  | -0.584839\n",
       "1.22433   | 1.68251   | 0.0884474  | 0.387752  | 0.29966   | -1.04284  | -0.760973 | -1.54238  | -0.340201 | 2.43176\n",
       "-0.374095 | -0.872324 | -0.844742  | -0.639322 | -0.668143 | 1.36785   | 0.89169   | 0.534444  | 0.808748  | -0.649596\n",
       "0.514309  | -1.35711  | 0.480351   | -0.836941 | 1.36574   | -0.923039 | 0.325919  | 0.433147  | 0.421811  | -0.576981\n",
       "0.114981  | 2.08516   | -1.64722   | -0.279241 | -0.271861 | 0.1985    | -0.107857 | 0.307659  | 1.64217   | 0.993\n",
       "-2.73727  | 1.98559   | -0.177422  | 0.464792  | 0.111792  | 1.6894    | 0.250159  | -0.584032 | -0.14129  | -0.58728\n",
       "-0.796424 | -0.923416 | 0.200698   | 0.949148  | 0.389305  | -0.318975 | -0.360773 | 0.360731  | 0.156811  | 0.821194\n",
       "1.0247    | 0.395183  | -0.999285  | 0.610134  | -0.605347 | -2.4624   | 2.32099   | -0.604794 | 1.28987   | -0.325868\n",
       "-0.454209 | -0.45885  | -0.584588  | -0.533117 | 1.2416    | 0.773302  | -0.995275 | 0.35998   | -1.68374  | 1.01766\n",
       "1.2669    | 0.590678  | -0.0331148 | -0.969507 | 1.3537    | 1.82663   | -0.62562  | -0.465854 | -0.392034 | 0.186124\n",
       "... (90 rows omitted)"
      ]
     },
     "execution_count": 22,
     "metadata": {},
     "output_type": "execute_result"
    }
   ],
   "source": [
    "table"
   ]
  },
  {
   "cell_type": "code",
   "execution_count": 23,
   "metadata": {
    "collapsed": false
   },
   "outputs": [
    {
     "name": "stdout",
     "output_type": "stream",
     "text": [
      "a         | b         | c          | d         | e         | f         | g         | h         | i         | j\n",
      "1.47322   | 0.656063  | -0.401252  | 0.719005  | -1.04886  | 1.25265   | 0.433674  | -0.422546 | 0.808726  | -0.584839\n",
      "1.22433   | 1.68251   | 0.0884474  | 0.387752  | 0.29966   | -1.04284  | -0.760973 | -1.54238  | -0.340201 | 2.43176\n",
      "-0.374095 | -0.872324 | -0.844742  | -0.639322 | -0.668143 | 1.36785   | 0.89169   | 0.534444  | 0.808748  | -0.649596\n",
      "0.514309  | -1.35711  | 0.480351   | -0.836941 | 1.36574   | -0.923039 | 0.325919  | 0.433147  | 0.421811  | -0.576981\n",
      "0.114981  | 2.08516   | -1.64722   | -0.279241 | -0.271861 | 0.1985    | -0.107857 | 0.307659  | 1.64217   | 0.993\n",
      "-2.73727  | 1.98559   | -0.177422  | 0.464792  | 0.111792  | 1.6894    | 0.250159  | -0.584032 | -0.14129  | -0.58728\n",
      "-0.796424 | -0.923416 | 0.200698   | 0.949148  | 0.389305  | -0.318975 | -0.360773 | 0.360731  | 0.156811  | 0.821194\n",
      "1.0247    | 0.395183  | -0.999285  | 0.610134  | -0.605347 | -2.4624   | 2.32099   | -0.604794 | 1.28987   | -0.325868\n",
      "-0.454209 | -0.45885  | -0.584588  | -0.533117 | 1.2416    | 0.773302  | -0.995275 | 0.35998   | -1.68374  | 1.01766\n",
      "1.2669    | 0.590678  | -0.0331148 | -0.969507 | 1.3537    | 1.82663   | -0.62562  | -0.465854 | -0.392034 | 0.186124\n",
      "... (90 rows omitted)\n"
     ]
    }
   ],
   "source": [
    "# Printing does the same, but with text output\n",
    "print(table)"
   ]
  },
  {
   "cell_type": "code",
   "execution_count": 24,
   "metadata": {
    "collapsed": false
   },
   "outputs": [
    {
     "name": "stdout",
     "output_type": "stream",
     "text": [
      "TEXT:\n",
      " a          | b           | c           | d          | e           | f          | g           | h          | i           | j\n",
      "1.47322    | 0.656063    | -0.401252   | 0.719005   | -1.04886    | 1.25265    | 0.433674    | -0.422546  | 0.808726    | -0.584839\n",
      "1.22433    | 1.68251     | 0.0884474   | 0.387752   | 0.29966     | -1.04284   | -0.760973   | -1.54238   | -0.340201   | 2.43176\n",
      "-0.374095  | -0.872324   | -0.844742   | -0.639322  | -0.668143   | 1.36785    | 0.89169     | 0.534444   | 0.808748    | -0.649596\n",
      "0.514309   | -1.35711    | 0.480351    | -0.836941  | 1.36574     | -0.923039  | 0.325919    | 0.433147   | 0.421811    | -0.576981\n",
      "0.114981   | 2.08516     | -1.64722    | -0.279241  | -0.271861   | 0.1985     | -0.107857   | 0.307659   | 1.64217     | 0.993\n",
      "-2.73727   | 1.98559     | -0.177422   | 0.464792   | 0.111792    | 1.6894     | 0.250159    | -0.584032  | -0.14129    | -0.58728\n",
      "-0.796424  | -0.923416   | 0.200698    | 0.949148   | 0.389305    | -0.318975  | -0.360773 \n",
      "\n",
      "\n",
      "HTML:\n",
      " <table border=\"1\" class=\"dataframe\">\n",
      "    <thead>\n",
      "        <tr>\n",
      "            <th>a</th> <th>b</th> <th>c</th> <th>d</th> <th>e</th> <th>f</th> <th>g</th> <th>h</th> <th>i</th> <th>j</th>\n",
      "        </tr>\n",
      "    </thead>\n",
      "    <tbody>\n",
      "        <tr>\n",
      "            <td>1.47322   </td> <td>0.656063   </td> <td>-0.401252  </td> <td>0.719005  </td> <td>-1.04886   </td> <td>1.25265   </td> <td>0.433674   </td> <td>-0.422546 </td> <td>0.808726   </td> <td>-0.584839 </td>\n",
      "        </tr>\n",
      "    </tbody>\n",
      "        <tr>\n",
      "            <td>1.22433   </td> <td>1.68251    </td> <td>0.0884474  </td> <td>0.387752  </td> <td>0.29966    </td> <td>-1.04284  </td> <td>-0.760973  </td> <td>-1.54238  </td> <td>-0.340201  </td> <td>2.43176   </td>\n",
      "        </tr>\n",
      "    </tbody>\n",
      "        <tr>\n",
      "            <td>-0.374095 </td> <td>-0.872324  </td> <td>-0.844742  </td> <td>-0.639322 </td> <td>-0.668143  </td> <td>1.36785   </td> <td>0.89169    </td> <td>0.534444  </td> <td>0.808748   </td> <td>-0.649596 </td>\n",
      "        </tr>\n",
      "    </tbody>\n",
      "      \n"
     ]
    }
   ],
   "source": [
    "# You can return a table as text\n",
    "print('TEXT:\\n', table.as_text()[:1000])\n",
    "\n",
    "# Or as html\n",
    "print('\\n\\nHTML:\\n', table.as_html()[:1000])"
   ]
  },
  {
   "cell_type": "markdown",
   "metadata": {},
   "source": [
    "You can also just access the column labels"
   ]
  },
  {
   "cell_type": "code",
   "execution_count": 25,
   "metadata": {
    "collapsed": false
   },
   "outputs": [
    {
     "name": "stdout",
     "output_type": "stream",
     "text": [
      "('a', 'b', 'c', 'd', 'e', 'f', 'g', 'h', 'i', 'j')\n"
     ]
    }
   ],
   "source": [
    "cols = table.column_labels\n",
    "print(cols)"
   ]
  },
  {
   "cell_type": "markdown",
   "metadata": {},
   "source": [
    "Transposing your data will not change your column labels. Instead, it will transpose the data __within__ each column."
   ]
  },
  {
   "cell_type": "code",
   "execution_count": 26,
   "metadata": {
    "collapsed": false
   },
   "outputs": [
    {
     "data": {
      "text/html": [
       "<table border=\"1\" class=\"dataframe\">\n",
       "    <thead>\n",
       "        <tr>\n",
       "            <th>a</th> <th>b</th> <th>c</th> <th>d</th> <th>e</th> <th>f</th> <th>g</th> <th>h</th> <th>i</th> <th>j</th>\n",
       "        </tr>\n",
       "    </thead>\n",
       "    <tbody>\n",
       "        <tr>\n",
       "            <td>[  1.47321821e+00   1.22432507e+00  -3.74095075e-01   5. ...</td> <td>[  6.56062831e-01   1.68250572e+00  -8.72324404e-01  -1. ...</td> <td>[-0.4012516   0.08844736 -0.84474159  0.48035136 -1.6472 ...</td> <td>[ 0.71900519  0.38775179 -0.63932194 -0.8369414  -0.2792 ...</td> <td>[-1.04885623  0.29966006 -0.66814331  1.36574489 -0.2718 ...</td> <td>[ 1.25264625 -1.04283559  1.36785104 -0.92303931  0.1984 ...</td> <td>[ 0.43367446 -0.760973    0.89168957  0.32591865 -0.1078 ...</td> <td>[-0.42254567 -1.54238251  0.53444362  0.43314672  0.3076 ...</td> <td>[ 0.80872565 -0.34020128  0.80874775  0.42181067  1.6421 ...</td> <td>[-0.5848387   2.43176149 -0.64959618 -0.57698051  0.9930 ...</td>\n",
       "        </tr>\n",
       "    </tbody>\n",
       "</table>"
      ],
      "text/plain": [
       "a                                                            | b                                                            | c                                                            | d                                                            | e                                                            | f                                                            | g                                                            | h                                                            | i                                                            | j\n",
       "[  1.47321821e+00   1.22432507e+00  -3.74095075e-01   5. ... | [  6.56062831e-01   1.68250572e+00  -8.72324404e-01  -1. ... | [-0.4012516   0.08844736 -0.84474159  0.48035136 -1.6472 ... | [ 0.71900519  0.38775179 -0.63932194 -0.8369414  -0.2792 ... | [-1.04885623  0.29966006 -0.66814331  1.36574489 -0.2718 ... | [ 1.25264625 -1.04283559  1.36785104 -0.92303931  0.1984 ... | [ 0.43367446 -0.760973    0.89168957  0.32591865 -0.1078 ... | [-0.42254567 -1.54238251  0.53444362  0.43314672  0.3076 ... | [ 0.80872565 -0.34020128  0.80874775  0.42181067  1.6421 ... | [-0.5848387   2.43176149 -0.64959618 -0.57698051  0.9930 ..."
      ]
     },
     "execution_count": 26,
     "metadata": {},
     "output_type": "execute_result"
    }
   ],
   "source": [
    "table.T"
   ]
  },
  {
   "cell_type": "markdown",
   "metadata": {},
   "source": [
    "You can also sort a table by the values in some column."
   ]
  },
  {
   "cell_type": "code",
   "execution_count": 27,
   "metadata": {
    "collapsed": false
   },
   "outputs": [
    {
     "data": {
      "text/html": [
       "<table border=\"1\" class=\"dataframe\">\n",
       "    <thead>\n",
       "        <tr>\n",
       "            <th>a</th> <th>b</th> <th>c</th> <th>d</th> <th>e</th> <th>f</th> <th>g</th> <th>h</th> <th>i</th> <th>j</th>\n",
       "        </tr>\n",
       "    </thead>\n",
       "    <tbody>\n",
       "        <tr>\n",
       "            <td>0.631133 </td> <td>-2.52612</td> <td>-1.14383 </td> <td>1.81571   </td> <td>0.121088 </td> <td>-1.07192  </td> <td>-0.740637</td> <td>-0.126649</td> <td>-0.123995</td> <td>0.367591 </td>\n",
       "        </tr>\n",
       "    </tbody>\n",
       "        <tr>\n",
       "            <td>-1.53046 </td> <td>-2.17092</td> <td>0.294224 </td> <td>0.20077   </td> <td>2.23185  </td> <td>-0.0368275</td> <td>-0.794108</td> <td>0.0763012</td> <td>1.42545  </td> <td>-0.287857</td>\n",
       "        </tr>\n",
       "    </tbody>\n",
       "        <tr>\n",
       "            <td>0.905952 </td> <td>-1.87998</td> <td>0.531758 </td> <td>-0.271506 </td> <td>0.525678 </td> <td>0.540884  </td> <td>0.687275 </td> <td>-0.325107</td> <td>0.278496 </td> <td>1.07534  </td>\n",
       "        </tr>\n",
       "    </tbody>\n",
       "        <tr>\n",
       "            <td>0.807724 </td> <td>-1.69117</td> <td>0.505064 </td> <td>-0.0850315</td> <td>0.894317 </td> <td>-0.177871 </td> <td>-1.40489 </td> <td>0.495216 </td> <td>0.803181 </td> <td>0.997855 </td>\n",
       "        </tr>\n",
       "    </tbody>\n",
       "        <tr>\n",
       "            <td>0.46686  </td> <td>-1.62605</td> <td>-0.578019</td> <td>-0.801059 </td> <td>0.485576 </td> <td>-1.58896  </td> <td>1.74624  </td> <td>0.610381 </td> <td>1.24042  </td> <td>-0.139482</td>\n",
       "        </tr>\n",
       "    </tbody>\n",
       "        <tr>\n",
       "            <td>-0.624877</td> <td>-1.50471</td> <td>0.495772 </td> <td>1.536     </td> <td>-0.25071 </td> <td>0.497601  </td> <td>-1.67993 </td> <td>1.98363  </td> <td>-0.329533</td> <td>-2.09749 </td>\n",
       "        </tr>\n",
       "    </tbody>\n",
       "        <tr>\n",
       "            <td>1.0814   </td> <td>-1.38552</td> <td>0.702214 </td> <td>-0.920861 </td> <td>0.917501 </td> <td>0.197329  </td> <td>-1.22076 </td> <td>1.20039  </td> <td>-1.6018  </td> <td>0.998539 </td>\n",
       "        </tr>\n",
       "    </tbody>\n",
       "        <tr>\n",
       "            <td>0.39218  </td> <td>-1.36009</td> <td>-0.573986</td> <td>-0.930537 </td> <td>1.20452  </td> <td>0.167886  </td> <td>0.276411 </td> <td>0.207481 </td> <td>0.120143 </td> <td>-0.891598</td>\n",
       "        </tr>\n",
       "    </tbody>\n",
       "        <tr>\n",
       "            <td>0.514309 </td> <td>-1.35711</td> <td>0.480351 </td> <td>-0.836941 </td> <td>1.36574  </td> <td>-0.923039 </td> <td>0.325919 </td> <td>0.433147 </td> <td>0.421811 </td> <td>-0.576981</td>\n",
       "        </tr>\n",
       "    </tbody>\n",
       "        <tr>\n",
       "            <td>0.140846 </td> <td>-1.26951</td> <td>0.528703 </td> <td>-1.47878  </td> <td>-0.994941</td> <td>-0.596272 </td> <td>-1.00333 </td> <td>0.468386 </td> <td>-1.14248 </td> <td>-0.549852</td>\n",
       "        </tr>\n",
       "    </tbody>\n",
       "</table>\n",
       "<p>... (90 rows omitted)</p"
      ],
      "text/plain": [
       "a         | b        | c         | d          | e         | f          | g         | h         | i         | j\n",
       "0.631133  | -2.52612 | -1.14383  | 1.81571    | 0.121088  | -1.07192   | -0.740637 | -0.126649 | -0.123995 | 0.367591\n",
       "-1.53046  | -2.17092 | 0.294224  | 0.20077    | 2.23185   | -0.0368275 | -0.794108 | 0.0763012 | 1.42545   | -0.287857\n",
       "0.905952  | -1.87998 | 0.531758  | -0.271506  | 0.525678  | 0.540884   | 0.687275  | -0.325107 | 0.278496  | 1.07534\n",
       "0.807724  | -1.69117 | 0.505064  | -0.0850315 | 0.894317  | -0.177871  | -1.40489  | 0.495216  | 0.803181  | 0.997855\n",
       "0.46686   | -1.62605 | -0.578019 | -0.801059  | 0.485576  | -1.58896   | 1.74624   | 0.610381  | 1.24042   | -0.139482\n",
       "-0.624877 | -1.50471 | 0.495772  | 1.536      | -0.25071  | 0.497601   | -1.67993  | 1.98363   | -0.329533 | -2.09749\n",
       "1.0814    | -1.38552 | 0.702214  | -0.920861  | 0.917501  | 0.197329   | -1.22076  | 1.20039   | -1.6018   | 0.998539\n",
       "0.39218   | -1.36009 | -0.573986 | -0.930537  | 1.20452   | 0.167886   | 0.276411  | 0.207481  | 0.120143  | -0.891598\n",
       "0.514309  | -1.35711 | 0.480351  | -0.836941  | 1.36574   | -0.923039  | 0.325919  | 0.433147  | 0.421811  | -0.576981\n",
       "0.140846  | -1.26951 | 0.528703  | -1.47878   | -0.994941 | -0.596272  | -1.00333  | 0.468386  | -1.14248  | -0.549852\n",
       "... (90 rows omitted)"
      ]
     },
     "execution_count": 27,
     "metadata": {},
     "output_type": "execute_result"
    }
   ],
   "source": [
    "table.sort('b')"
   ]
  },
  {
   "cell_type": "markdown",
   "metadata": {},
   "source": [
    "# Selecting data\n",
    "The simplest way of selecting data is by pulling out individual columns. This can be done by putting the column name in brackets (similar to how dictionaries work). Note that you must supply a single column name."
   ]
  },
  {
   "cell_type": "code",
   "execution_count": 28,
   "metadata": {
    "collapsed": false
   },
   "outputs": [
    {
     "name": "stdout",
     "output_type": "stream",
     "text": [
      "[ 1.47321821  1.22432507 -0.37409508  0.51430945  0.11498141]\n"
     ]
    }
   ],
   "source": [
    "print(table['a'][:5])"
   ]
  },
  {
   "cell_type": "markdown",
   "metadata": {},
   "source": [
    "Alternatively, one can select a subset of columns for viewing with the `.select` method. This lets you give multiple column labels:"
   ]
  },
  {
   "cell_type": "code",
   "execution_count": 29,
   "metadata": {
    "collapsed": false
   },
   "outputs": [
    {
     "data": {
      "text/html": [
       "<table border=\"1\" class=\"dataframe\">\n",
       "    <thead>\n",
       "        <tr>\n",
       "            <th>a</th> <th>b</th>\n",
       "        </tr>\n",
       "    </thead>\n",
       "    <tbody>\n",
       "        <tr>\n",
       "            <td>1.47322  </td> <td>0.656063 </td>\n",
       "        </tr>\n",
       "    </tbody>\n",
       "        <tr>\n",
       "            <td>1.22433  </td> <td>1.68251  </td>\n",
       "        </tr>\n",
       "    </tbody>\n",
       "        <tr>\n",
       "            <td>-0.374095</td> <td>-0.872324</td>\n",
       "        </tr>\n",
       "    </tbody>\n",
       "        <tr>\n",
       "            <td>0.514309 </td> <td>-1.35711 </td>\n",
       "        </tr>\n",
       "    </tbody>\n",
       "        <tr>\n",
       "            <td>0.114981 </td> <td>2.08516  </td>\n",
       "        </tr>\n",
       "    </tbody>\n",
       "        <tr>\n",
       "            <td>-2.73727 </td> <td>1.98559  </td>\n",
       "        </tr>\n",
       "    </tbody>\n",
       "        <tr>\n",
       "            <td>-0.796424</td> <td>-0.923416</td>\n",
       "        </tr>\n",
       "    </tbody>\n",
       "        <tr>\n",
       "            <td>1.0247   </td> <td>0.395183 </td>\n",
       "        </tr>\n",
       "    </tbody>\n",
       "        <tr>\n",
       "            <td>-0.454209</td> <td>-0.45885 </td>\n",
       "        </tr>\n",
       "    </tbody>\n",
       "        <tr>\n",
       "            <td>1.2669   </td> <td>0.590678 </td>\n",
       "        </tr>\n",
       "    </tbody>\n",
       "</table>\n",
       "<p>... (90 rows omitted)</p"
      ],
      "text/plain": [
       "a         | b\n",
       "1.47322   | 0.656063\n",
       "1.22433   | 1.68251\n",
       "-0.374095 | -0.872324\n",
       "0.514309  | -1.35711\n",
       "0.114981  | 2.08516\n",
       "-2.73727  | 1.98559\n",
       "-0.796424 | -0.923416\n",
       "1.0247    | 0.395183\n",
       "-0.454209 | -0.45885\n",
       "1.2669    | 0.590678\n",
       "... (90 rows omitted)"
      ]
     },
     "execution_count": 29,
     "metadata": {},
     "output_type": "execute_result"
    }
   ],
   "source": [
    "table.select(['a', 'b'])"
   ]
  },
  {
   "cell_type": "markdown",
   "metadata": {},
   "source": [
    "Finally, it is also possible to take specific rows from a table with the `.take` method. Note that this uses a list of row indices."
   ]
  },
  {
   "cell_type": "code",
   "execution_count": 30,
   "metadata": {
    "collapsed": false,
    "scrolled": true
   },
   "outputs": [
    {
     "data": {
      "text/html": [
       "<table border=\"1\" class=\"dataframe\">\n",
       "    <thead>\n",
       "        <tr>\n",
       "            <th>a</th> <th>b</th> <th>c</th> <th>d</th> <th>e</th> <th>f</th> <th>g</th> <th>h</th> <th>i</th> <th>j</th>\n",
       "        </tr>\n",
       "    </thead>\n",
       "    <tbody>\n",
       "        <tr>\n",
       "            <td>-0.269377 </td> <td>-1.21258 </td> <td>1.25533   </td> <td>-0.670401</td> <td>1.6302   </td> <td>-0.703309</td> <td>0.474981 </td> <td>-1.43215 </td> <td>-1.86944  </td> <td>0.329051 </td>\n",
       "        </tr>\n",
       "    </tbody>\n",
       "        <tr>\n",
       "            <td>0.748344  </td> <td>0.0032148</td> <td>-2.43325  </td> <td>2.0554   </td> <td>-0.415948</td> <td>0.549718 </td> <td>1.29614  </td> <td>0.949623 </td> <td>-0.335367 </td> <td>0.643406 </td>\n",
       "        </tr>\n",
       "    </tbody>\n",
       "        <tr>\n",
       "            <td>0.606681  </td> <td>-1.25332 </td> <td>-1.0536   </td> <td>-1.65571 </td> <td>-0.67423 </td> <td>1.13089  </td> <td>-0.732706</td> <td>0.806318 </td> <td>0.168059  </td> <td>-0.656456</td>\n",
       "        </tr>\n",
       "    </tbody>\n",
       "        <tr>\n",
       "            <td>0.00172327</td> <td>-0.889739</td> <td>-0.676941 </td> <td>0.92932  </td> <td>-0.436971</td> <td>0.871484 </td> <td>0.250141 </td> <td>1.702    </td> <td>0.734066  </td> <td>-2.56131 </td>\n",
       "        </tr>\n",
       "    </tbody>\n",
       "        <tr>\n",
       "            <td>-0.549943 </td> <td>-1.24675 </td> <td>-0.279867 </td> <td>-0.336909</td> <td>-0.713432</td> <td>1.05668  </td> <td>0.340095 </td> <td>0.58285  </td> <td>-0.0295073</td> <td>0.270806 </td>\n",
       "        </tr>\n",
       "    </tbody>\n",
       "        <tr>\n",
       "            <td>0.905952  </td> <td>-1.87998 </td> <td>0.531758  </td> <td>-0.271506</td> <td>0.525678 </td> <td>0.540884 </td> <td>0.687275 </td> <td>-0.325107</td> <td>0.278496  </td> <td>1.07534  </td>\n",
       "        </tr>\n",
       "    </tbody>\n",
       "        <tr>\n",
       "            <td>1.06566   </td> <td>1.67654  </td> <td>-1.05963  </td> <td>0.570834 </td> <td>1.14379  </td> <td>-0.130271</td> <td>1.34092  </td> <td>1.41367  </td> <td>0.246207  </td> <td>0.620767 </td>\n",
       "        </tr>\n",
       "    </tbody>\n",
       "        <tr>\n",
       "            <td>-1.6479   </td> <td>-0.652662</td> <td>0.54276   </td> <td>1.49411  </td> <td>1.3833   </td> <td>-2.01935 </td> <td>-0.504203</td> <td>0.27486  </td> <td>-0.746772 </td> <td>-0.55384 </td>\n",
       "        </tr>\n",
       "    </tbody>\n",
       "        <tr>\n",
       "            <td>0.529588  </td> <td>0.897776 </td> <td>1.38103   </td> <td>1.33667  </td> <td>0.136833 </td> <td>1.24665  </td> <td>-0.379145</td> <td>-0.257535</td> <td>-1.43249  </td> <td>0.705022 </td>\n",
       "        </tr>\n",
       "    </tbody>\n",
       "        <tr>\n",
       "            <td>0.0345289 </td> <td>1.42296  </td> <td>-0.0288642</td> <td>-0.357137</td> <td>1.14504  </td> <td>-0.22056 </td> <td>-0.775806</td> <td>1.94606  </td> <td>1.79141   </td> <td>-3.13676 </td>\n",
       "        </tr>\n",
       "    </tbody>\n",
       "</table>"
      ],
      "text/plain": [
       "a          | b         | c          | d         | e         | f         | g         | h         | i          | j\n",
       "-0.269377  | -1.21258  | 1.25533    | -0.670401 | 1.6302    | -0.703309 | 0.474981  | -1.43215  | -1.86944   | 0.329051\n",
       "0.748344   | 0.0032148 | -2.43325   | 2.0554    | -0.415948 | 0.549718  | 1.29614   | 0.949623  | -0.335367  | 0.643406\n",
       "0.606681   | -1.25332  | -1.0536    | -1.65571  | -0.67423  | 1.13089   | -0.732706 | 0.806318  | 0.168059   | -0.656456\n",
       "0.00172327 | -0.889739 | -0.676941  | 0.92932   | -0.436971 | 0.871484  | 0.250141  | 1.702     | 0.734066   | -2.56131\n",
       "-0.549943  | -1.24675  | -0.279867  | -0.336909 | -0.713432 | 1.05668   | 0.340095  | 0.58285   | -0.0295073 | 0.270806\n",
       "0.905952   | -1.87998  | 0.531758   | -0.271506 | 0.525678  | 0.540884  | 0.687275  | -0.325107 | 0.278496   | 1.07534\n",
       "1.06566    | 1.67654   | -1.05963   | 0.570834  | 1.14379   | -0.130271 | 1.34092   | 1.41367   | 0.246207   | 0.620767\n",
       "-1.6479    | -0.652662 | 0.54276    | 1.49411   | 1.3833    | -2.01935  | -0.504203 | 0.27486   | -0.746772  | -0.55384\n",
       "0.529588   | 0.897776  | 1.38103    | 1.33667   | 0.136833  | 1.24665   | -0.379145 | -0.257535 | -1.43249   | 0.705022\n",
       "0.0345289  | 1.42296   | -0.0288642 | -0.357137 | 1.14504   | -0.22056  | -0.775806 | 1.94606   | 1.79141    | -3.13676"
      ]
     },
     "execution_count": 30,
     "metadata": {},
     "output_type": "execute_result"
    }
   ],
   "source": [
    "ix_rows = range(10, 20)\n",
    "table.take(ix_rows)"
   ]
  },
  {
   "cell_type": "markdown",
   "metadata": {},
   "source": [
    "Finally, if you want to forget about the column labels and just treat it as a numpy array, you can use the `.columns` attribute. This will return a list of your column values, which is easily converted into a numpy array (but note that this will also transpose the data)"
   ]
  },
  {
   "cell_type": "code",
   "execution_count": 31,
   "metadata": {
    "collapsed": false
   },
   "outputs": [
    {
     "name": "stdout",
     "output_type": "stream",
     "text": [
      "[[ 1.47321821  1.22432507 -0.37409508  0.51430945  0.11498141]\n",
      " [ 0.65606283  1.68250572 -0.8723244  -1.35711083  2.08516489]\n",
      " [-0.4012516   0.08844736 -0.84474159  0.48035136 -1.64721898]\n",
      " [ 0.71900519  0.38775179 -0.63932194 -0.8369414  -0.27924074]\n",
      " [-1.04885623  0.29966006 -0.66814331  1.36574489 -0.27186133]]\n",
      "<class 'numpy.ndarray'>\n"
     ]
    }
   ],
   "source": [
    "table_array = table.columns\n",
    "table_array = np.array(table_array)\n",
    "print(table_array[:5, :5])\n",
    "print(type(table_array))"
   ]
  },
  {
   "cell_type": "markdown",
   "metadata": {},
   "source": [
    "# Renaming columns\n",
    "We can quickly rename columns with the `relabel` method"
   ]
  },
  {
   "cell_type": "code",
   "execution_count": 32,
   "metadata": {
    "collapsed": false
   },
   "outputs": [
    {
     "data": {
      "text/html": [
       "<table border=\"1\" class=\"dataframe\">\n",
       "    <thead>\n",
       "        <tr>\n",
       "            <th>definitely_not_a</th> <th>b</th> <th>c</th> <th>d</th> <th>e</th> <th>f</th> <th>g</th> <th>h</th> <th>i</th> <th>j</th>\n",
       "        </tr>\n",
       "    </thead>\n",
       "    <tbody>\n",
       "        <tr>\n",
       "            <td>1.47322         </td> <td>0.656063 </td> <td>-0.401252 </td> <td>0.719005 </td> <td>-1.04886 </td> <td>1.25265  </td> <td>0.433674 </td> <td>-0.422546</td> <td>0.808726 </td> <td>-0.584839</td>\n",
       "        </tr>\n",
       "    </tbody>\n",
       "        <tr>\n",
       "            <td>1.22433         </td> <td>1.68251  </td> <td>0.0884474 </td> <td>0.387752 </td> <td>0.29966  </td> <td>-1.04284 </td> <td>-0.760973</td> <td>-1.54238 </td> <td>-0.340201</td> <td>2.43176  </td>\n",
       "        </tr>\n",
       "    </tbody>\n",
       "        <tr>\n",
       "            <td>-0.374095       </td> <td>-0.872324</td> <td>-0.844742 </td> <td>-0.639322</td> <td>-0.668143</td> <td>1.36785  </td> <td>0.89169  </td> <td>0.534444 </td> <td>0.808748 </td> <td>-0.649596</td>\n",
       "        </tr>\n",
       "    </tbody>\n",
       "        <tr>\n",
       "            <td>0.514309        </td> <td>-1.35711 </td> <td>0.480351  </td> <td>-0.836941</td> <td>1.36574  </td> <td>-0.923039</td> <td>0.325919 </td> <td>0.433147 </td> <td>0.421811 </td> <td>-0.576981</td>\n",
       "        </tr>\n",
       "    </tbody>\n",
       "        <tr>\n",
       "            <td>0.114981        </td> <td>2.08516  </td> <td>-1.64722  </td> <td>-0.279241</td> <td>-0.271861</td> <td>0.1985   </td> <td>-0.107857</td> <td>0.307659 </td> <td>1.64217  </td> <td>0.993    </td>\n",
       "        </tr>\n",
       "    </tbody>\n",
       "        <tr>\n",
       "            <td>-2.73727        </td> <td>1.98559  </td> <td>-0.177422 </td> <td>0.464792 </td> <td>0.111792 </td> <td>1.6894   </td> <td>0.250159 </td> <td>-0.584032</td> <td>-0.14129 </td> <td>-0.58728 </td>\n",
       "        </tr>\n",
       "    </tbody>\n",
       "        <tr>\n",
       "            <td>-0.796424       </td> <td>-0.923416</td> <td>0.200698  </td> <td>0.949148 </td> <td>0.389305 </td> <td>-0.318975</td> <td>-0.360773</td> <td>0.360731 </td> <td>0.156811 </td> <td>0.821194 </td>\n",
       "        </tr>\n",
       "    </tbody>\n",
       "        <tr>\n",
       "            <td>1.0247          </td> <td>0.395183 </td> <td>-0.999285 </td> <td>0.610134 </td> <td>-0.605347</td> <td>-2.4624  </td> <td>2.32099  </td> <td>-0.604794</td> <td>1.28987  </td> <td>-0.325868</td>\n",
       "        </tr>\n",
       "    </tbody>\n",
       "        <tr>\n",
       "            <td>-0.454209       </td> <td>-0.45885 </td> <td>-0.584588 </td> <td>-0.533117</td> <td>1.2416   </td> <td>0.773302 </td> <td>-0.995275</td> <td>0.35998  </td> <td>-1.68374 </td> <td>1.01766  </td>\n",
       "        </tr>\n",
       "    </tbody>\n",
       "        <tr>\n",
       "            <td>1.2669          </td> <td>0.590678 </td> <td>-0.0331148</td> <td>-0.969507</td> <td>1.3537   </td> <td>1.82663  </td> <td>-0.62562 </td> <td>-0.465854</td> <td>-0.392034</td> <td>0.186124 </td>\n",
       "        </tr>\n",
       "    </tbody>\n",
       "</table>\n",
       "<p>... (90 rows omitted)</p"
      ],
      "text/plain": [
       "definitely_not_a | b         | c          | d         | e         | f         | g         | h         | i         | j\n",
       "1.47322          | 0.656063  | -0.401252  | 0.719005  | -1.04886  | 1.25265   | 0.433674  | -0.422546 | 0.808726  | -0.584839\n",
       "1.22433          | 1.68251   | 0.0884474  | 0.387752  | 0.29966   | -1.04284  | -0.760973 | -1.54238  | -0.340201 | 2.43176\n",
       "-0.374095        | -0.872324 | -0.844742  | -0.639322 | -0.668143 | 1.36785   | 0.89169   | 0.534444  | 0.808748  | -0.649596\n",
       "0.514309         | -1.35711  | 0.480351   | -0.836941 | 1.36574   | -0.923039 | 0.325919  | 0.433147  | 0.421811  | -0.576981\n",
       "0.114981         | 2.08516   | -1.64722   | -0.279241 | -0.271861 | 0.1985    | -0.107857 | 0.307659  | 1.64217   | 0.993\n",
       "-2.73727         | 1.98559   | -0.177422  | 0.464792  | 0.111792  | 1.6894    | 0.250159  | -0.584032 | -0.14129  | -0.58728\n",
       "-0.796424        | -0.923416 | 0.200698   | 0.949148  | 0.389305  | -0.318975 | -0.360773 | 0.360731  | 0.156811  | 0.821194\n",
       "1.0247           | 0.395183  | -0.999285  | 0.610134  | -0.605347 | -2.4624   | 2.32099   | -0.604794 | 1.28987   | -0.325868\n",
       "-0.454209        | -0.45885  | -0.584588  | -0.533117 | 1.2416    | 0.773302  | -0.995275 | 0.35998   | -1.68374  | 1.01766\n",
       "1.2669           | 0.590678  | -0.0331148 | -0.969507 | 1.3537    | 1.82663   | -0.62562  | -0.465854 | -0.392034 | 0.186124\n",
       "... (90 rows omitted)"
      ]
     },
     "execution_count": 32,
     "metadata": {},
     "output_type": "execute_result"
    }
   ],
   "source": [
    "# Note that this will relabel the column *in place*\n",
    "table_to_relabel = table.copy()\n",
    "table_to_relabel.relabel('a', 'definitely_not_a')"
   ]
  },
  {
   "cell_type": "markdown",
   "metadata": {},
   "source": [
    "You can also relabel multiple columns at once"
   ]
  },
  {
   "cell_type": "code",
   "execution_count": 33,
   "metadata": {
    "collapsed": false
   },
   "outputs": [
    {
     "data": {
      "text/html": [
       "<table border=\"1\" class=\"dataframe\">\n",
       "    <thead>\n",
       "        <tr>\n",
       "            <th>definitely_not_a</th> <th>totally_not_b</th> <th>maybe_still_c</th> <th>d</th> <th>e</th> <th>f</th> <th>g</th> <th>h</th> <th>i</th> <th>j</th>\n",
       "        </tr>\n",
       "    </thead>\n",
       "    <tbody>\n",
       "        <tr>\n",
       "            <td>1.47322         </td> <td>0.656063     </td> <td>-0.401252    </td> <td>0.719005 </td> <td>-1.04886 </td> <td>1.25265  </td> <td>0.433674 </td> <td>-0.422546</td> <td>0.808726 </td> <td>-0.584839</td>\n",
       "        </tr>\n",
       "    </tbody>\n",
       "        <tr>\n",
       "            <td>1.22433         </td> <td>1.68251      </td> <td>0.0884474    </td> <td>0.387752 </td> <td>0.29966  </td> <td>-1.04284 </td> <td>-0.760973</td> <td>-1.54238 </td> <td>-0.340201</td> <td>2.43176  </td>\n",
       "        </tr>\n",
       "    </tbody>\n",
       "        <tr>\n",
       "            <td>-0.374095       </td> <td>-0.872324    </td> <td>-0.844742    </td> <td>-0.639322</td> <td>-0.668143</td> <td>1.36785  </td> <td>0.89169  </td> <td>0.534444 </td> <td>0.808748 </td> <td>-0.649596</td>\n",
       "        </tr>\n",
       "    </tbody>\n",
       "        <tr>\n",
       "            <td>0.514309        </td> <td>-1.35711     </td> <td>0.480351     </td> <td>-0.836941</td> <td>1.36574  </td> <td>-0.923039</td> <td>0.325919 </td> <td>0.433147 </td> <td>0.421811 </td> <td>-0.576981</td>\n",
       "        </tr>\n",
       "    </tbody>\n",
       "        <tr>\n",
       "            <td>0.114981        </td> <td>2.08516      </td> <td>-1.64722     </td> <td>-0.279241</td> <td>-0.271861</td> <td>0.1985   </td> <td>-0.107857</td> <td>0.307659 </td> <td>1.64217  </td> <td>0.993    </td>\n",
       "        </tr>\n",
       "    </tbody>\n",
       "        <tr>\n",
       "            <td>-2.73727        </td> <td>1.98559      </td> <td>-0.177422    </td> <td>0.464792 </td> <td>0.111792 </td> <td>1.6894   </td> <td>0.250159 </td> <td>-0.584032</td> <td>-0.14129 </td> <td>-0.58728 </td>\n",
       "        </tr>\n",
       "    </tbody>\n",
       "        <tr>\n",
       "            <td>-0.796424       </td> <td>-0.923416    </td> <td>0.200698     </td> <td>0.949148 </td> <td>0.389305 </td> <td>-0.318975</td> <td>-0.360773</td> <td>0.360731 </td> <td>0.156811 </td> <td>0.821194 </td>\n",
       "        </tr>\n",
       "    </tbody>\n",
       "        <tr>\n",
       "            <td>1.0247          </td> <td>0.395183     </td> <td>-0.999285    </td> <td>0.610134 </td> <td>-0.605347</td> <td>-2.4624  </td> <td>2.32099  </td> <td>-0.604794</td> <td>1.28987  </td> <td>-0.325868</td>\n",
       "        </tr>\n",
       "    </tbody>\n",
       "        <tr>\n",
       "            <td>-0.454209       </td> <td>-0.45885     </td> <td>-0.584588    </td> <td>-0.533117</td> <td>1.2416   </td> <td>0.773302 </td> <td>-0.995275</td> <td>0.35998  </td> <td>-1.68374 </td> <td>1.01766  </td>\n",
       "        </tr>\n",
       "    </tbody>\n",
       "        <tr>\n",
       "            <td>1.2669          </td> <td>0.590678     </td> <td>-0.0331148   </td> <td>-0.969507</td> <td>1.3537   </td> <td>1.82663  </td> <td>-0.62562 </td> <td>-0.465854</td> <td>-0.392034</td> <td>0.186124 </td>\n",
       "        </tr>\n",
       "    </tbody>\n",
       "</table>\n",
       "<p>... (90 rows omitted)</p"
      ],
      "text/plain": [
       "definitely_not_a | totally_not_b | maybe_still_c | d         | e         | f         | g         | h         | i         | j\n",
       "1.47322          | 0.656063      | -0.401252     | 0.719005  | -1.04886  | 1.25265   | 0.433674  | -0.422546 | 0.808726  | -0.584839\n",
       "1.22433          | 1.68251       | 0.0884474     | 0.387752  | 0.29966   | -1.04284  | -0.760973 | -1.54238  | -0.340201 | 2.43176\n",
       "-0.374095        | -0.872324     | -0.844742     | -0.639322 | -0.668143 | 1.36785   | 0.89169   | 0.534444  | 0.808748  | -0.649596\n",
       "0.514309         | -1.35711      | 0.480351      | -0.836941 | 1.36574   | -0.923039 | 0.325919  | 0.433147  | 0.421811  | -0.576981\n",
       "0.114981         | 2.08516       | -1.64722      | -0.279241 | -0.271861 | 0.1985    | -0.107857 | 0.307659  | 1.64217   | 0.993\n",
       "-2.73727         | 1.98559       | -0.177422     | 0.464792  | 0.111792  | 1.6894    | 0.250159  | -0.584032 | -0.14129  | -0.58728\n",
       "-0.796424        | -0.923416     | 0.200698      | 0.949148  | 0.389305  | -0.318975 | -0.360773 | 0.360731  | 0.156811  | 0.821194\n",
       "1.0247           | 0.395183      | -0.999285     | 0.610134  | -0.605347 | -2.4624   | 2.32099   | -0.604794 | 1.28987   | -0.325868\n",
       "-0.454209        | -0.45885      | -0.584588     | -0.533117 | 1.2416    | 0.773302  | -0.995275 | 0.35998   | -1.68374  | 1.01766\n",
       "1.2669           | 0.590678      | -0.0331148    | -0.969507 | 1.3537    | 1.82663   | -0.62562  | -0.465854 | -0.392034 | 0.186124\n",
       "... (90 rows omitted)"
      ]
     },
     "execution_count": 33,
     "metadata": {},
     "output_type": "execute_result"
    }
   ],
   "source": [
    "table_to_relabel.relabel(['b', 'c'], ['totally_not_b', 'maybe_still_c'])"
   ]
  },
  {
   "cell_type": "markdown",
   "metadata": {},
   "source": [
    "## Boolean indexing"
   ]
  },
  {
   "cell_type": "markdown",
   "metadata": {},
   "source": [
    "You can't use boolean operators directly with a Table, but it is quite easy to accomplish the same thing by selecting a subset of the data to create boolean masks, then by using the `.where` method."
   ]
  },
  {
   "cell_type": "code",
   "execution_count": 34,
   "metadata": {
    "collapsed": false
   },
   "outputs": [
    {
     "ename": "TypeError",
     "evalue": "unorderable types: Table() > int()",
     "output_type": "error",
     "traceback": [
      "\u001b[0;31m---------------------------------------------------------------------------\u001b[0m",
      "\u001b[0;31mTypeError\u001b[0m                                 Traceback (most recent call last)",
      "\u001b[0;32m<ipython-input-34-4f51b7ad675e>\u001b[0m in \u001b[0;36m<module>\u001b[0;34m()\u001b[0m\n\u001b[0;32m----> 1\u001b[0;31m \u001b[0mtable\u001b[0m \u001b[0;34m>\u001b[0m \u001b[0;36m1\u001b[0m\u001b[0;34m\u001b[0m\u001b[0m\n\u001b[0m",
      "\u001b[0;31mTypeError\u001b[0m: unorderable types: Table() > int()"
     ]
    }
   ],
   "source": [
    "table > 1"
   ]
  },
  {
   "cell_type": "code",
   "execution_count": 35,
   "metadata": {
    "collapsed": false
   },
   "outputs": [
    {
     "data": {
      "text/plain": [
       "array([[ True,  True, False, False, False],\n",
       "       [False,  True, False, False,  True],\n",
       "       [False, False, False, False, False],\n",
       "       [False, False, False, False, False],\n",
       "       [False, False, False,  True, False]], dtype=bool)"
      ]
     },
     "execution_count": 35,
     "metadata": {},
     "output_type": "execute_result"
    }
   ],
   "source": [
    "# We'll convert the matrix to an array\n",
    "msk = np.array(table.columns) > 1\n",
    "msk[:5, :5]"
   ]
  },
  {
   "cell_type": "markdown",
   "metadata": {},
   "source": [
    "Now we can use the `.where` method, which takes an array with the length == the number of rows in our Table, and returns the rows where the array is == \"value\" (which defaults to the value `True`)"
   ]
  },
  {
   "cell_type": "code",
   "execution_count": 36,
   "metadata": {
    "collapsed": false
   },
   "outputs": [
    {
     "data": {
      "text/html": [
       "<table border=\"1\" class=\"dataframe\">\n",
       "    <thead>\n",
       "        <tr>\n",
       "            <th>a</th> <th>b</th> <th>c</th> <th>d</th> <th>e</th> <th>f</th> <th>g</th> <th>h</th> <th>i</th> <th>j</th>\n",
       "        </tr>\n",
       "    </thead>\n",
       "    <tbody>\n",
       "        <tr>\n",
       "            <td>1.47322</td> <td>0.656063 </td> <td>-0.401252 </td> <td>0.719005 </td> <td>-1.04886 </td> <td>1.25265   </td> <td>0.433674 </td> <td>-0.422546</td> <td>0.808726 </td> <td>-0.584839 </td>\n",
       "        </tr>\n",
       "    </tbody>\n",
       "        <tr>\n",
       "            <td>1.22433</td> <td>1.68251  </td> <td>0.0884474 </td> <td>0.387752 </td> <td>0.29966  </td> <td>-1.04284  </td> <td>-0.760973</td> <td>-1.54238 </td> <td>-0.340201</td> <td>2.43176   </td>\n",
       "        </tr>\n",
       "    </tbody>\n",
       "        <tr>\n",
       "            <td>1.0247 </td> <td>0.395183 </td> <td>-0.999285 </td> <td>0.610134 </td> <td>-0.605347</td> <td>-2.4624   </td> <td>2.32099  </td> <td>-0.604794</td> <td>1.28987  </td> <td>-0.325868 </td>\n",
       "        </tr>\n",
       "    </tbody>\n",
       "        <tr>\n",
       "            <td>1.2669 </td> <td>0.590678 </td> <td>-0.0331148</td> <td>-0.969507</td> <td>1.3537   </td> <td>1.82663   </td> <td>-0.62562 </td> <td>-0.465854</td> <td>-0.392034</td> <td>0.186124  </td>\n",
       "        </tr>\n",
       "    </tbody>\n",
       "        <tr>\n",
       "            <td>1.06566</td> <td>1.67654  </td> <td>-1.05963  </td> <td>0.570834 </td> <td>1.14379  </td> <td>-0.130271 </td> <td>1.34092  </td> <td>1.41367  </td> <td>0.246207 </td> <td>0.620767  </td>\n",
       "        </tr>\n",
       "    </tbody>\n",
       "        <tr>\n",
       "            <td>1.02892</td> <td>0.434381 </td> <td>-1.38518  </td> <td>0.364566 </td> <td>0.694705 </td> <td>-0.0937167</td> <td>1.04433  </td> <td>-1.00718 </td> <td>-0.075005</td> <td>-1.28552  </td>\n",
       "        </tr>\n",
       "    </tbody>\n",
       "        <tr>\n",
       "            <td>1.74898</td> <td>-0.665449</td> <td>-2.54059  </td> <td>0.572492 </td> <td>1.8456   </td> <td>-2.54048  </td> <td>-0.506473</td> <td>-0.860224</td> <td>-1.28063 </td> <td>-0.0371092</td>\n",
       "        </tr>\n",
       "    </tbody>\n",
       "        <tr>\n",
       "            <td>1.31416</td> <td>1.00748  </td> <td>0.898124  </td> <td>-1.08303 </td> <td>0.378031 </td> <td>-1.10801  </td> <td>0.687217 </td> <td>1.39948  </td> <td>-1.0984  </td> <td>-0.743289 </td>\n",
       "        </tr>\n",
       "    </tbody>\n",
       "        <tr>\n",
       "            <td>1.0814 </td> <td>-1.38552 </td> <td>0.702214  </td> <td>-0.920861</td> <td>0.917501 </td> <td>0.197329  </td> <td>-1.22076 </td> <td>1.20039  </td> <td>-1.6018  </td> <td>0.998539  </td>\n",
       "        </tr>\n",
       "    </tbody>\n",
       "        <tr>\n",
       "            <td>1.05256</td> <td>0.337919 </td> <td>-0.171616 </td> <td>-0.994148</td> <td>-1.57571 </td> <td>0.690607  </td> <td>0.886733 </td> <td>2.0747   </td> <td>-1.6401  </td> <td>0.635325  </td>\n",
       "        </tr>\n",
       "    </tbody>\n",
       "</table>\n",
       "<p>... (10 rows omitted)</p"
      ],
      "text/plain": [
       "a       | b         | c          | d         | e         | f          | g         | h         | i         | j\n",
       "1.47322 | 0.656063  | -0.401252  | 0.719005  | -1.04886  | 1.25265    | 0.433674  | -0.422546 | 0.808726  | -0.584839\n",
       "1.22433 | 1.68251   | 0.0884474  | 0.387752  | 0.29966   | -1.04284   | -0.760973 | -1.54238  | -0.340201 | 2.43176\n",
       "1.0247  | 0.395183  | -0.999285  | 0.610134  | -0.605347 | -2.4624    | 2.32099   | -0.604794 | 1.28987   | -0.325868\n",
       "1.2669  | 0.590678  | -0.0331148 | -0.969507 | 1.3537    | 1.82663    | -0.62562  | -0.465854 | -0.392034 | 0.186124\n",
       "1.06566 | 1.67654   | -1.05963   | 0.570834  | 1.14379   | -0.130271  | 1.34092   | 1.41367   | 0.246207  | 0.620767\n",
       "1.02892 | 0.434381  | -1.38518   | 0.364566  | 0.694705  | -0.0937167 | 1.04433   | -1.00718  | -0.075005 | -1.28552\n",
       "1.74898 | -0.665449 | -2.54059   | 0.572492  | 1.8456    | -2.54048   | -0.506473 | -0.860224 | -1.28063  | -0.0371092\n",
       "1.31416 | 1.00748   | 0.898124   | -1.08303  | 0.378031  | -1.10801   | 0.687217  | 1.39948   | -1.0984   | -0.743289\n",
       "1.0814  | -1.38552  | 0.702214   | -0.920861 | 0.917501  | 0.197329   | -1.22076  | 1.20039   | -1.6018   | 0.998539\n",
       "1.05256 | 0.337919  | -0.171616  | -0.994148 | -1.57571  | 0.690607   | 0.886733  | 2.0747    | -1.6401   | 0.635325\n",
       "... (10 rows omitted)"
      ]
     },
     "execution_count": 36,
     "metadata": {},
     "output_type": "execute_result"
    }
   ],
   "source": [
    "table.where(msk[0])"
   ]
  },
  {
   "cell_type": "code",
   "execution_count": 37,
   "metadata": {
    "collapsed": false
   },
   "outputs": [
    {
     "name": "stdout",
     "output_type": "stream",
     "text": [
      "[['a' 'a' 'b' 'b' 'b']\n",
      " ['b' 'a' 'b' 'b' 'a']\n",
      " ['b' 'b' 'b' 'b' 'b']\n",
      " ['b' 'b' 'b' 'b' 'b']\n",
      " ['b' 'b' 'b' 'a' 'b']]\n"
     ]
    }
   ],
   "source": [
    "msk_letter = msk.copy().astype(str)\n",
    "msk_letter[msk] = 'a'\n",
    "msk_letter[~msk] = 'b'\n",
    "print(msk_letter[:5, :5])"
   ]
  },
  {
   "cell_type": "code",
   "execution_count": 38,
   "metadata": {
    "collapsed": false
   },
   "outputs": [
    {
     "data": {
      "text/html": [
       "<table border=\"1\" class=\"dataframe\">\n",
       "    <thead>\n",
       "        <tr>\n",
       "            <th>a</th> <th>b</th> <th>c</th> <th>d</th> <th>e</th> <th>f</th> <th>g</th> <th>h</th> <th>i</th> <th>j</th>\n",
       "        </tr>\n",
       "    </thead>\n",
       "    <tbody>\n",
       "        <tr>\n",
       "            <td>-0.374095 </td> <td>-0.872324</td> <td>-0.844742</td> <td>-0.639322</td> <td>-0.668143</td> <td>1.36785  </td> <td>0.89169  </td> <td>0.534444 </td> <td>0.808748 </td> <td>-0.649596</td>\n",
       "        </tr>\n",
       "    </tbody>\n",
       "        <tr>\n",
       "            <td>0.514309  </td> <td>-1.35711 </td> <td>0.480351 </td> <td>-0.836941</td> <td>1.36574  </td> <td>-0.923039</td> <td>0.325919 </td> <td>0.433147 </td> <td>0.421811 </td> <td>-0.576981</td>\n",
       "        </tr>\n",
       "    </tbody>\n",
       "        <tr>\n",
       "            <td>0.114981  </td> <td>2.08516  </td> <td>-1.64722 </td> <td>-0.279241</td> <td>-0.271861</td> <td>0.1985   </td> <td>-0.107857</td> <td>0.307659 </td> <td>1.64217  </td> <td>0.993    </td>\n",
       "        </tr>\n",
       "    </tbody>\n",
       "        <tr>\n",
       "            <td>-2.73727  </td> <td>1.98559  </td> <td>-0.177422</td> <td>0.464792 </td> <td>0.111792 </td> <td>1.6894   </td> <td>0.250159 </td> <td>-0.584032</td> <td>-0.14129 </td> <td>-0.58728 </td>\n",
       "        </tr>\n",
       "    </tbody>\n",
       "        <tr>\n",
       "            <td>-0.796424 </td> <td>-0.923416</td> <td>0.200698 </td> <td>0.949148 </td> <td>0.389305 </td> <td>-0.318975</td> <td>-0.360773</td> <td>0.360731 </td> <td>0.156811 </td> <td>0.821194 </td>\n",
       "        </tr>\n",
       "    </tbody>\n",
       "        <tr>\n",
       "            <td>-0.454209 </td> <td>-0.45885 </td> <td>-0.584588</td> <td>-0.533117</td> <td>1.2416   </td> <td>0.773302 </td> <td>-0.995275</td> <td>0.35998  </td> <td>-1.68374 </td> <td>1.01766  </td>\n",
       "        </tr>\n",
       "    </tbody>\n",
       "        <tr>\n",
       "            <td>-0.269377 </td> <td>-1.21258 </td> <td>1.25533  </td> <td>-0.670401</td> <td>1.6302   </td> <td>-0.703309</td> <td>0.474981 </td> <td>-1.43215 </td> <td>-1.86944 </td> <td>0.329051 </td>\n",
       "        </tr>\n",
       "    </tbody>\n",
       "        <tr>\n",
       "            <td>0.748344  </td> <td>0.0032148</td> <td>-2.43325 </td> <td>2.0554   </td> <td>-0.415948</td> <td>0.549718 </td> <td>1.29614  </td> <td>0.949623 </td> <td>-0.335367</td> <td>0.643406 </td>\n",
       "        </tr>\n",
       "    </tbody>\n",
       "        <tr>\n",
       "            <td>0.606681  </td> <td>-1.25332 </td> <td>-1.0536  </td> <td>-1.65571 </td> <td>-0.67423 </td> <td>1.13089  </td> <td>-0.732706</td> <td>0.806318 </td> <td>0.168059 </td> <td>-0.656456</td>\n",
       "        </tr>\n",
       "    </tbody>\n",
       "        <tr>\n",
       "            <td>0.00172327</td> <td>-0.889739</td> <td>-0.676941</td> <td>0.92932  </td> <td>-0.436971</td> <td>0.871484 </td> <td>0.250141 </td> <td>1.702    </td> <td>0.734066 </td> <td>-2.56131 </td>\n",
       "        </tr>\n",
       "    </tbody>\n",
       "</table>\n",
       "<p>... (70 rows omitted)</p"
      ],
      "text/plain": [
       "a          | b         | c         | d         | e         | f         | g         | h         | i         | j\n",
       "-0.374095  | -0.872324 | -0.844742 | -0.639322 | -0.668143 | 1.36785   | 0.89169   | 0.534444  | 0.808748  | -0.649596\n",
       "0.514309   | -1.35711  | 0.480351  | -0.836941 | 1.36574   | -0.923039 | 0.325919  | 0.433147  | 0.421811  | -0.576981\n",
       "0.114981   | 2.08516   | -1.64722  | -0.279241 | -0.271861 | 0.1985    | -0.107857 | 0.307659  | 1.64217   | 0.993\n",
       "-2.73727   | 1.98559   | -0.177422 | 0.464792  | 0.111792  | 1.6894    | 0.250159  | -0.584032 | -0.14129  | -0.58728\n",
       "-0.796424  | -0.923416 | 0.200698  | 0.949148  | 0.389305  | -0.318975 | -0.360773 | 0.360731  | 0.156811  | 0.821194\n",
       "-0.454209  | -0.45885  | -0.584588 | -0.533117 | 1.2416    | 0.773302  | -0.995275 | 0.35998   | -1.68374  | 1.01766\n",
       "-0.269377  | -1.21258  | 1.25533   | -0.670401 | 1.6302    | -0.703309 | 0.474981  | -1.43215  | -1.86944  | 0.329051\n",
       "0.748344   | 0.0032148 | -2.43325  | 2.0554    | -0.415948 | 0.549718  | 1.29614   | 0.949623  | -0.335367 | 0.643406\n",
       "0.606681   | -1.25332  | -1.0536   | -1.65571  | -0.67423  | 1.13089   | -0.732706 | 0.806318  | 0.168059  | -0.656456\n",
       "0.00172327 | -0.889739 | -0.676941 | 0.92932   | -0.436971 | 0.871484  | 0.250141  | 1.702     | 0.734066  | -2.56131\n",
       "... (70 rows omitted)"
      ]
     },
     "execution_count": 38,
     "metadata": {},
     "output_type": "execute_result"
    }
   ],
   "source": [
    "table.where(msk_letter[0], 'b')"
   ]
  },
  {
   "cell_type": "markdown",
   "metadata": {},
   "source": [
    "# Chaining these together\n",
    "Note that you can chain some methods together in order to do lots of things at once. E.g.:"
   ]
  },
  {
   "cell_type": "code",
   "execution_count": 39,
   "metadata": {
    "collapsed": false
   },
   "outputs": [
    {
     "data": {
      "text/html": [
       "<table border=\"1\" class=\"dataframe\">\n",
       "    <thead>\n",
       "        <tr>\n",
       "            <th>a</th> <th>b</th> <th>c</th>\n",
       "        </tr>\n",
       "    </thead>\n",
       "    <tbody>\n",
       "        <tr>\n",
       "            <td>1.47322   </td> <td>0.656063 </td> <td>-0.401252 </td>\n",
       "        </tr>\n",
       "    </tbody>\n",
       "        <tr>\n",
       "            <td>-0.374095 </td> <td>-0.872324</td> <td>-0.844742 </td>\n",
       "        </tr>\n",
       "    </tbody>\n",
       "        <tr>\n",
       "            <td>0.114981  </td> <td>2.08516  </td> <td>-1.64722  </td>\n",
       "        </tr>\n",
       "    </tbody>\n",
       "        <tr>\n",
       "            <td>-2.73727  </td> <td>1.98559  </td> <td>-0.177422 </td>\n",
       "        </tr>\n",
       "    </tbody>\n",
       "        <tr>\n",
       "            <td>-0.454209 </td> <td>-0.45885 </td> <td>-0.584588 </td>\n",
       "        </tr>\n",
       "    </tbody>\n",
       "        <tr>\n",
       "            <td>1.2669    </td> <td>0.590678 </td> <td>-0.0331148</td>\n",
       "        </tr>\n",
       "    </tbody>\n",
       "        <tr>\n",
       "            <td>0.748344  </td> <td>0.0032148</td> <td>-2.43325  </td>\n",
       "        </tr>\n",
       "    </tbody>\n",
       "        <tr>\n",
       "            <td>0.606681  </td> <td>-1.25332 </td> <td>-1.0536   </td>\n",
       "        </tr>\n",
       "    </tbody>\n",
       "        <tr>\n",
       "            <td>0.00172327</td> <td>-0.889739</td> <td>-0.676941 </td>\n",
       "        </tr>\n",
       "    </tbody>\n",
       "        <tr>\n",
       "            <td>-0.549943 </td> <td>-1.24675 </td> <td>-0.279867 </td>\n",
       "        </tr>\n",
       "    </tbody>\n",
       "</table>\n",
       "<p>... (38 rows omitted)</p"
      ],
      "text/plain": [
       "a          | b         | c\n",
       "1.47322    | 0.656063  | -0.401252\n",
       "-0.374095  | -0.872324 | -0.844742\n",
       "0.114981   | 2.08516   | -1.64722\n",
       "-2.73727   | 1.98559   | -0.177422\n",
       "-0.454209  | -0.45885  | -0.584588\n",
       "1.2669     | 0.590678  | -0.0331148\n",
       "0.748344   | 0.0032148 | -2.43325\n",
       "0.606681   | -1.25332  | -1.0536\n",
       "0.00172327 | -0.889739 | -0.676941\n",
       "-0.549943  | -1.24675  | -0.279867\n",
       "... (38 rows omitted)"
      ]
     },
     "execution_count": 39,
     "metadata": {},
     "output_type": "execute_result"
    }
   ],
   "source": [
    "# Select columns a, b, c, and rows where f > 0\n",
    "table.select(['a', 'b', 'c']).where(table['f'] > 0)"
   ]
  },
  {
   "cell_type": "markdown",
   "metadata": {},
   "source": [
    "# Adding new data\n",
    "It is possible to add a new column directly to our Table object. This is done by passing values that have the same number of rows, along with a column name"
   ]
  },
  {
   "cell_type": "code",
   "execution_count": 40,
   "metadata": {
    "collapsed": false,
    "scrolled": true
   },
   "outputs": [
    {
     "data": {
      "text/plain": [
       "array([ 101.47321821,  101.22432507,   99.62590492,  100.51430945,\n",
       "        100.11498141,   97.26273285,   99.20357639,  101.0247046 ,\n",
       "         99.54579092,  101.26689522,   99.73062311,  100.74834433,\n",
       "        100.60668138,  100.00172327,   99.45005723,  100.90595238,\n",
       "        101.06565545,   98.35210305,  100.52958816,  100.03452886,\n",
       "        101.02892388,  101.74898474,   99.82718256,  100.80772355,\n",
       "        100.03464553,   98.58183166,   97.6048549 ,   99.40050798,\n",
       "         98.52235756,  100.26849425,   98.46954432,   98.07375098,\n",
       "        101.31416336,  100.59396782,  101.08139925,   99.80538453,\n",
       "         98.99884224,   99.87265496,   99.22125047,  101.0525612 ,\n",
       "        100.18674993,  100.31758832,   99.81748537,  100.78740252,\n",
       "        101.16433856,  100.2830118 ,   99.75262539,   99.86589715,\n",
       "        100.03385524,   98.96160761,   99.05278761,  100.87040532,\n",
       "        100.3376311 ,   99.2402282 ,   99.55304003,  100.67467987,\n",
       "        101.08014281,   97.80836176,   99.52501689,  100.19554314,\n",
       "        102.61982486,   99.58629537,  100.39217982,  100.75689132,\n",
       "        100.14084608,   99.3682877 ,   99.61358577,   99.51289467,\n",
       "        101.22341792,  100.44444616,   99.37512305,   99.1625052 ,\n",
       "        100.46686009,  100.20440893,  100.518463  ,  100.24377702,\n",
       "        101.28093495,  100.99824198,  100.93968156,   98.10918826,\n",
       "         99.25761633,  100.70876386,  100.97246725,  101.89656113,\n",
       "         98.62166116,   99.86529776,   99.220207  ,   99.36322653,\n",
       "        100.63113342,  101.04778771,   98.43129817,  100.16805233,\n",
       "        100.39255305,  101.06308827,  100.20314495,   98.1784494 ,\n",
       "        101.01610184,  100.58734805,  102.39053006,   99.89767628])"
      ]
     },
     "execution_count": 40,
     "metadata": {},
     "output_type": "execute_result"
    }
   ],
   "source": [
    "table['custom_col'] = table['a'] + 100\n",
    "table['custom_col']"
   ]
  },
  {
   "cell_type": "code",
   "execution_count": 41,
   "metadata": {
    "collapsed": false
   },
   "outputs": [
    {
     "data": {
      "text/html": [
       "<table border=\"1\" class=\"dataframe\">\n",
       "    <thead>\n",
       "        <tr>\n",
       "            <th>a</th> <th>b</th> <th>c</th> <th>d</th> <th>e</th> <th>f</th> <th>g</th> <th>h</th> <th>i</th> <th>j</th> <th>custom_col</th> <th>not_a</th>\n",
       "        </tr>\n",
       "    </thead>\n",
       "    <tbody>\n",
       "        <tr>\n",
       "            <td>1.47322  </td> <td>0.656063 </td> <td>-0.401252 </td> <td>0.719005 </td> <td>-1.04886 </td> <td>1.25265  </td> <td>0.433674 </td> <td>-0.422546</td> <td>0.808726 </td> <td>-0.584839</td> <td>101.473   </td> <td>False</td>\n",
       "        </tr>\n",
       "    </tbody>\n",
       "        <tr>\n",
       "            <td>1.22433  </td> <td>1.68251  </td> <td>0.0884474 </td> <td>0.387752 </td> <td>0.29966  </td> <td>-1.04284 </td> <td>-0.760973</td> <td>-1.54238 </td> <td>-0.340201</td> <td>2.43176  </td> <td>101.224   </td> <td>False</td>\n",
       "        </tr>\n",
       "    </tbody>\n",
       "        <tr>\n",
       "            <td>-0.374095</td> <td>-0.872324</td> <td>-0.844742 </td> <td>-0.639322</td> <td>-0.668143</td> <td>1.36785  </td> <td>0.89169  </td> <td>0.534444 </td> <td>0.808748 </td> <td>-0.649596</td> <td>99.6259   </td> <td>True </td>\n",
       "        </tr>\n",
       "    </tbody>\n",
       "        <tr>\n",
       "            <td>0.514309 </td> <td>-1.35711 </td> <td>0.480351  </td> <td>-0.836941</td> <td>1.36574  </td> <td>-0.923039</td> <td>0.325919 </td> <td>0.433147 </td> <td>0.421811 </td> <td>-0.576981</td> <td>100.514   </td> <td>False</td>\n",
       "        </tr>\n",
       "    </tbody>\n",
       "        <tr>\n",
       "            <td>0.114981 </td> <td>2.08516  </td> <td>-1.64722  </td> <td>-0.279241</td> <td>-0.271861</td> <td>0.1985   </td> <td>-0.107857</td> <td>0.307659 </td> <td>1.64217  </td> <td>0.993    </td> <td>100.115   </td> <td>False</td>\n",
       "        </tr>\n",
       "    </tbody>\n",
       "        <tr>\n",
       "            <td>-2.73727 </td> <td>1.98559  </td> <td>-0.177422 </td> <td>0.464792 </td> <td>0.111792 </td> <td>1.6894   </td> <td>0.250159 </td> <td>-0.584032</td> <td>-0.14129 </td> <td>-0.58728 </td> <td>97.2627   </td> <td>True </td>\n",
       "        </tr>\n",
       "    </tbody>\n",
       "        <tr>\n",
       "            <td>-0.796424</td> <td>-0.923416</td> <td>0.200698  </td> <td>0.949148 </td> <td>0.389305 </td> <td>-0.318975</td> <td>-0.360773</td> <td>0.360731 </td> <td>0.156811 </td> <td>0.821194 </td> <td>99.2036   </td> <td>True </td>\n",
       "        </tr>\n",
       "    </tbody>\n",
       "        <tr>\n",
       "            <td>1.0247   </td> <td>0.395183 </td> <td>-0.999285 </td> <td>0.610134 </td> <td>-0.605347</td> <td>-2.4624  </td> <td>2.32099  </td> <td>-0.604794</td> <td>1.28987  </td> <td>-0.325868</td> <td>101.025   </td> <td>False</td>\n",
       "        </tr>\n",
       "    </tbody>\n",
       "        <tr>\n",
       "            <td>-0.454209</td> <td>-0.45885 </td> <td>-0.584588 </td> <td>-0.533117</td> <td>1.2416   </td> <td>0.773302 </td> <td>-0.995275</td> <td>0.35998  </td> <td>-1.68374 </td> <td>1.01766  </td> <td>99.5458   </td> <td>True </td>\n",
       "        </tr>\n",
       "    </tbody>\n",
       "        <tr>\n",
       "            <td>1.2669   </td> <td>0.590678 </td> <td>-0.0331148</td> <td>-0.969507</td> <td>1.3537   </td> <td>1.82663  </td> <td>-0.62562 </td> <td>-0.465854</td> <td>-0.392034</td> <td>0.186124 </td> <td>101.267   </td> <td>False</td>\n",
       "        </tr>\n",
       "    </tbody>\n",
       "</table>\n",
       "<p>... (90 rows omitted)</p"
      ],
      "text/plain": [
       "a         | b         | c          | d         | e         | f         | g         | h         | i         | j         | custom_col | not_a\n",
       "1.47322   | 0.656063  | -0.401252  | 0.719005  | -1.04886  | 1.25265   | 0.433674  | -0.422546 | 0.808726  | -0.584839 | 101.473    | False\n",
       "1.22433   | 1.68251   | 0.0884474  | 0.387752  | 0.29966   | -1.04284  | -0.760973 | -1.54238  | -0.340201 | 2.43176   | 101.224    | False\n",
       "-0.374095 | -0.872324 | -0.844742  | -0.639322 | -0.668143 | 1.36785   | 0.89169   | 0.534444  | 0.808748  | -0.649596 | 99.6259    | True\n",
       "0.514309  | -1.35711  | 0.480351   | -0.836941 | 1.36574   | -0.923039 | 0.325919  | 0.433147  | 0.421811  | -0.576981 | 100.514    | False\n",
       "0.114981  | 2.08516   | -1.64722   | -0.279241 | -0.271861 | 0.1985    | -0.107857 | 0.307659  | 1.64217   | 0.993     | 100.115    | False\n",
       "-2.73727  | 1.98559   | -0.177422  | 0.464792  | 0.111792  | 1.6894    | 0.250159  | -0.584032 | -0.14129  | -0.58728  | 97.2627    | True\n",
       "-0.796424 | -0.923416 | 0.200698   | 0.949148  | 0.389305  | -0.318975 | -0.360773 | 0.360731  | 0.156811  | 0.821194  | 99.2036    | True\n",
       "1.0247    | 0.395183  | -0.999285  | 0.610134  | -0.605347 | -2.4624   | 2.32099   | -0.604794 | 1.28987   | -0.325868 | 101.025    | False\n",
       "-0.454209 | -0.45885  | -0.584588  | -0.533117 | 1.2416    | 0.773302  | -0.995275 | 0.35998   | -1.68374  | 1.01766   | 99.5458    | True\n",
       "1.2669    | 0.590678  | -0.0331148 | -0.969507 | 1.3537    | 1.82663   | -0.62562  | -0.465854 | -0.392034 | 0.186124  | 101.267    | False\n",
       "... (90 rows omitted)"
      ]
     },
     "execution_count": 41,
     "metadata": {},
     "output_type": "execute_result"
    }
   ],
   "source": [
    "table['not_a'] = table['a'] < 0\n",
    "table"
   ]
  },
  {
   "cell_type": "markdown",
   "metadata": {},
   "source": [
    "# Operations\n",
    "\n",
    "Tables aren't meant to be operated on directly. Instead, you should operate on their data, e.g.:"
   ]
  },
  {
   "cell_type": "code",
   "execution_count": 42,
   "metadata": {
    "collapsed": false
   },
   "outputs": [
    {
     "ename": "TypeError",
     "evalue": "unsupported operand type(s) for +: 'Table' and 'int'",
     "output_type": "error",
     "traceback": [
      "\u001b[0;31m---------------------------------------------------------------------------\u001b[0m",
      "\u001b[0;31mTypeError\u001b[0m                                 Traceback (most recent call last)",
      "\u001b[0;32m<ipython-input-42-c997955f9c10>\u001b[0m in \u001b[0;36m<module>\u001b[0;34m()\u001b[0m\n\u001b[0;32m----> 1\u001b[0;31m \u001b[0mtable\u001b[0m \u001b[0;34m+\u001b[0m \u001b[0;36m2\u001b[0m\u001b[0;34m\u001b[0m\u001b[0m\n\u001b[0m",
      "\u001b[0;31mTypeError\u001b[0m: unsupported operand type(s) for +: 'Table' and 'int'"
     ]
    }
   ],
   "source": [
    "table + 2"
   ]
  },
  {
   "cell_type": "code",
   "execution_count": 43,
   "metadata": {
    "collapsed": false
   },
   "outputs": [],
   "source": [
    "table['a+2'] = table['a'] + 2"
   ]
  },
  {
   "cell_type": "markdown",
   "metadata": {},
   "source": [
    "Or to do it in place:"
   ]
  },
  {
   "cell_type": "code",
   "execution_count": 44,
   "metadata": {
    "collapsed": true
   },
   "outputs": [],
   "source": [
    "table['a'] += 2"
   ]
  },
  {
   "cell_type": "markdown",
   "metadata": {},
   "source": [
    "It is possible to do some simple statistics on the table object as well."
   ]
  },
  {
   "cell_type": "code",
   "execution_count": 45,
   "metadata": {
    "collapsed": false
   },
   "outputs": [
    {
     "data": {
      "text/html": [
       "<table border=\"1\" class=\"dataframe\">\n",
       "    <thead>\n",
       "        <tr>\n",
       "            <th>a</th> <th>b</th> <th>c</th> <th>d</th> <th>e</th> <th>f</th> <th>g</th> <th>h</th> <th>i</th> <th>j</th> <th>custom_col</th> <th>not_a</th> <th>a+2</th>\n",
       "        </tr>\n",
       "    </thead>\n",
       "    <tbody>\n",
       "        <tr>\n",
       "            <td>2.0737</td> <td>-0.00773374</td> <td>-0.00320692</td> <td>0.0117359</td> <td>0.200164</td> <td>-0.0167261</td> <td>-0.0966569</td> <td>0.215736</td> <td>0.0229408</td> <td>0.100279</td> <td>100.074   </td> <td>0.42 </td> <td>2.0737</td>\n",
       "        </tr>\n",
       "    </tbody>\n",
       "</table>"
      ],
      "text/plain": [
       "a      | b           | c           | d         | e        | f          | g          | h        | i         | j        | custom_col | not_a | a+2\n",
       "2.0737 | -0.00773374 | -0.00320692 | 0.0117359 | 0.200164 | -0.0167261 | -0.0966569 | 0.215736 | 0.0229408 | 0.100279 | 100.074    | 0.42  | 2.0737"
      ]
     },
     "execution_count": 45,
     "metadata": {},
     "output_type": "execute_result"
    }
   ],
   "source": [
    "np.mean(table)"
   ]
  },
  {
   "cell_type": "markdown",
   "metadata": {},
   "source": [
    "Or you can apply an arbitrary function to a specific column. Note that this will pass each item to the function, the whole column itself is not passed in one go."
   ]
  },
  {
   "cell_type": "code",
   "execution_count": 46,
   "metadata": {
    "collapsed": false
   },
   "outputs": [
    {
     "data": {
      "text/plain": [
       "array(['3.47321820692365_chris', '3.2243250665365037_chris',\n",
       "       '1.6259049246382662_chris', '2.5143094495267766_chris',\n",
       "       '2.114981412379621_chris'], \n",
       "      dtype='<U26')"
      ]
     },
     "execution_count": 46,
     "metadata": {},
     "output_type": "execute_result"
    }
   ],
   "source": [
    "def turn_into_chris(i):\n",
    "    return '{0}_chris'.format(i)  # This is how we plug a variable into a string\n",
    "\n",
    "# *each row* of the column will be passed to our function\n",
    "table['a_chris'] = table.apply(turn_into_chris, 'a')\n",
    "table['a_chris'][:5]"
   ]
  },
  {
   "cell_type": "markdown",
   "metadata": {},
   "source": [
    "# Merging / joining / etc"
   ]
  },
  {
   "cell_type": "code",
   "execution_count": 47,
   "metadata": {
    "collapsed": true
   },
   "outputs": [],
   "source": [
    "# First we'll create a column of features that are shared by each table\n",
    "common_feats = np.array(['feature_{0}'.format(i) for i in range(npoints)])\n",
    "\n",
    "# We'll create another table and add this feature to the new / old table\n",
    "table_new = ds.Table.from_columns_dict(\n",
    "    {string.ascii_uppercase[i]: np.random.randn(npoints) for i in range(5)})\n",
    "table_new['feature_a'] = common_feats\n",
    "table['feature_a'] = common_feats\n",
    "\n",
    "# We'll sort table_new so it's in a different order from `table`\n",
    "table_new = table_new.sort('D')"
   ]
  },
  {
   "cell_type": "markdown",
   "metadata": {},
   "source": [
    "Now, we have two tables with different columns __except for one__. We can use the overlapping column to combine these two tables together."
   ]
  },
  {
   "cell_type": "code",
   "execution_count": 48,
   "metadata": {
    "collapsed": false
   },
   "outputs": [
    {
     "data": {
      "text/html": [
       "<table border=\"1\" class=\"dataframe\">\n",
       "    <thead>\n",
       "        <tr>\n",
       "            <th>feature_a</th> <th>a</th> <th>b</th> <th>c</th> <th>d</th> <th>e</th> <th>f</th> <th>g</th> <th>h</th> <th>i</th> <th>j</th> <th>custom_col</th> <th>not_a</th> <th>a+2</th> <th>a_chris</th> <th>A</th> <th>E</th> <th>C</th> <th>D</th> <th>B</th>\n",
       "        </tr>\n",
       "    </thead>\n",
       "    <tbody>\n",
       "        <tr>\n",
       "            <td>feature_0 </td> <td>3.47322 </td> <td>0.656063 </td> <td>-0.401252</td> <td>0.719005 </td> <td>-1.04886 </td> <td>1.25265  </td> <td>0.433674 </td> <td>-0.422546</td> <td>0.808726  </td> <td>-0.584839</td> <td>101.473   </td> <td>False</td> <td>3.47322 </td> <td>3.47321820692365_chris  </td> <td>1.51738  </td> <td>-0.823739</td> <td>-1.07536 </td> <td>0.862783 </td> <td>-0.362529 </td>\n",
       "        </tr>\n",
       "    </tbody>\n",
       "        <tr>\n",
       "            <td>feature_1 </td> <td>3.22433 </td> <td>1.68251  </td> <td>0.0884474</td> <td>0.387752 </td> <td>0.29966  </td> <td>-1.04284 </td> <td>-0.760973</td> <td>-1.54238 </td> <td>-0.340201 </td> <td>2.43176  </td> <td>101.224   </td> <td>False</td> <td>3.22433 </td> <td>3.2243250665365037_chris</td> <td>-0.990384</td> <td>1.72074  </td> <td>0.203869 </td> <td>1.37326  </td> <td>0.790972  </td>\n",
       "        </tr>\n",
       "    </tbody>\n",
       "        <tr>\n",
       "            <td>feature_10</td> <td>1.73062 </td> <td>-1.21258 </td> <td>1.25533  </td> <td>-0.670401</td> <td>1.6302   </td> <td>-0.703309</td> <td>0.474981 </td> <td>-1.43215 </td> <td>-1.86944  </td> <td>0.329051 </td> <td>99.7306   </td> <td>True </td> <td>1.73062 </td> <td>1.7306231126510645_chris</td> <td>-0.330378</td> <td>0.112631 </td> <td>-1.84218 </td> <td>0.0916585</td> <td>-0.0360946</td>\n",
       "        </tr>\n",
       "    </tbody>\n",
       "        <tr>\n",
       "            <td>feature_11</td> <td>2.74834 </td> <td>0.0032148</td> <td>-2.43325 </td> <td>2.0554   </td> <td>-0.415948</td> <td>0.549718 </td> <td>1.29614  </td> <td>0.949623 </td> <td>-0.335367 </td> <td>0.643406 </td> <td>100.748   </td> <td>False</td> <td>2.74834 </td> <td>2.7483443300106063_chris</td> <td>-0.440853</td> <td>-1.29053 </td> <td>1.08981  </td> <td>0.45597  </td> <td>-0.756351 </td>\n",
       "        </tr>\n",
       "    </tbody>\n",
       "        <tr>\n",
       "            <td>feature_12</td> <td>2.60668 </td> <td>-1.25332 </td> <td>-1.0536  </td> <td>-1.65571 </td> <td>-0.67423 </td> <td>1.13089  </td> <td>-0.732706</td> <td>0.806318 </td> <td>0.168059  </td> <td>-0.656456</td> <td>100.607   </td> <td>False</td> <td>2.60668 </td> <td>2.606681378260962_chris </td> <td>0.594743 </td> <td>1.10643  </td> <td>1.58851  </td> <td>-0.408062</td> <td>0.696294  </td>\n",
       "        </tr>\n",
       "    </tbody>\n",
       "        <tr>\n",
       "            <td>feature_13</td> <td>2.00172 </td> <td>-0.889739</td> <td>-0.676941</td> <td>0.92932  </td> <td>-0.436971</td> <td>0.871484 </td> <td>0.250141 </td> <td>1.702    </td> <td>0.734066  </td> <td>-2.56131 </td> <td>100.002   </td> <td>False</td> <td>2.00172 </td> <td>2.001723273938175_chris </td> <td>-0.790639</td> <td>0.314977 </td> <td>-1.20921 </td> <td>0.586874 </td> <td>0.664407  </td>\n",
       "        </tr>\n",
       "    </tbody>\n",
       "        <tr>\n",
       "            <td>feature_14</td> <td>1.45006 </td> <td>-1.24675 </td> <td>-0.279867</td> <td>-0.336909</td> <td>-0.713432</td> <td>1.05668  </td> <td>0.340095 </td> <td>0.58285  </td> <td>-0.0295073</td> <td>0.270806 </td> <td>99.4501   </td> <td>True </td> <td>1.45006 </td> <td>1.450057230220187_chris </td> <td>-1.27573 </td> <td>1.24414  </td> <td>-0.279837</td> <td>0.0401781</td> <td>0.972834  </td>\n",
       "        </tr>\n",
       "    </tbody>\n",
       "        <tr>\n",
       "            <td>feature_15</td> <td>2.90595 </td> <td>-1.87998 </td> <td>0.531758 </td> <td>-0.271506</td> <td>0.525678 </td> <td>0.540884 </td> <td>0.687275 </td> <td>-0.325107</td> <td>0.278496  </td> <td>1.07534  </td> <td>100.906   </td> <td>False</td> <td>2.90595 </td> <td>2.9059523805439196_chris</td> <td>1.99979  </td> <td>-0.695669</td> <td>0.597173 </td> <td>-0.108465</td> <td>0.296062  </td>\n",
       "        </tr>\n",
       "    </tbody>\n",
       "        <tr>\n",
       "            <td>feature_16</td> <td>3.06566 </td> <td>1.67654  </td> <td>-1.05963 </td> <td>0.570834 </td> <td>1.14379  </td> <td>-0.130271</td> <td>1.34092  </td> <td>1.41367  </td> <td>0.246207  </td> <td>0.620767 </td> <td>101.066   </td> <td>False</td> <td>3.06566 </td> <td>3.0656554516190875_chris</td> <td>-0.738152</td> <td>0.0203097</td> <td>-0.852526</td> <td>-0.370657</td> <td>-1.01418  </td>\n",
       "        </tr>\n",
       "    </tbody>\n",
       "        <tr>\n",
       "            <td>feature_17</td> <td>0.352103</td> <td>-0.652662</td> <td>0.54276  </td> <td>1.49411  </td> <td>1.3833   </td> <td>-2.01935 </td> <td>-0.504203</td> <td>0.27486  </td> <td>-0.746772 </td> <td>-0.55384 </td> <td>98.3521   </td> <td>True </td> <td>0.352103</td> <td>0.3521030450794833_chris</td> <td>-1.05396 </td> <td>-0.527269</td> <td>0.616928 </td> <td>1.30991  </td> <td>-1.36348  </td>\n",
       "        </tr>\n",
       "    </tbody>\n",
       "</table>\n",
       "<p>... (90 rows omitted)</p"
      ],
      "text/plain": [
       "feature_a  | a        | b         | c         | d         | e         | f         | g         | h         | i          | j         | custom_col | not_a | a+2      | a_chris                  | A         | E         | C         | D         | B\n",
       "feature_0  | 3.47322  | 0.656063  | -0.401252 | 0.719005  | -1.04886  | 1.25265   | 0.433674  | -0.422546 | 0.808726   | -0.584839 | 101.473    | False | 3.47322  | 3.47321820692365_chris   | 1.51738   | -0.823739 | -1.07536  | 0.862783  | -0.362529\n",
       "feature_1  | 3.22433  | 1.68251   | 0.0884474 | 0.387752  | 0.29966   | -1.04284  | -0.760973 | -1.54238  | -0.340201  | 2.43176   | 101.224    | False | 3.22433  | 3.2243250665365037_chris | -0.990384 | 1.72074   | 0.203869  | 1.37326   | 0.790972\n",
       "feature_10 | 1.73062  | -1.21258  | 1.25533   | -0.670401 | 1.6302    | -0.703309 | 0.474981  | -1.43215  | -1.86944   | 0.329051  | 99.7306    | True  | 1.73062  | 1.7306231126510645_chris | -0.330378 | 0.112631  | -1.84218  | 0.0916585 | -0.0360946\n",
       "feature_11 | 2.74834  | 0.0032148 | -2.43325  | 2.0554    | -0.415948 | 0.549718  | 1.29614   | 0.949623  | -0.335367  | 0.643406  | 100.748    | False | 2.74834  | 2.7483443300106063_chris | -0.440853 | -1.29053  | 1.08981   | 0.45597   | -0.756351\n",
       "feature_12 | 2.60668  | -1.25332  | -1.0536   | -1.65571  | -0.67423  | 1.13089   | -0.732706 | 0.806318  | 0.168059   | -0.656456 | 100.607    | False | 2.60668  | 2.606681378260962_chris  | 0.594743  | 1.10643   | 1.58851   | -0.408062 | 0.696294\n",
       "feature_13 | 2.00172  | -0.889739 | -0.676941 | 0.92932   | -0.436971 | 0.871484  | 0.250141  | 1.702     | 0.734066   | -2.56131  | 100.002    | False | 2.00172  | 2.001723273938175_chris  | -0.790639 | 0.314977  | -1.20921  | 0.586874  | 0.664407\n",
       "feature_14 | 1.45006  | -1.24675  | -0.279867 | -0.336909 | -0.713432 | 1.05668   | 0.340095  | 0.58285   | -0.0295073 | 0.270806  | 99.4501    | True  | 1.45006  | 1.450057230220187_chris  | -1.27573  | 1.24414   | -0.279837 | 0.0401781 | 0.972834\n",
       "feature_15 | 2.90595  | -1.87998  | 0.531758  | -0.271506 | 0.525678  | 0.540884  | 0.687275  | -0.325107 | 0.278496   | 1.07534   | 100.906    | False | 2.90595  | 2.9059523805439196_chris | 1.99979   | -0.695669 | 0.597173  | -0.108465 | 0.296062\n",
       "feature_16 | 3.06566  | 1.67654   | -1.05963  | 0.570834  | 1.14379   | -0.130271 | 1.34092   | 1.41367   | 0.246207   | 0.620767  | 101.066    | False | 3.06566  | 3.0656554516190875_chris | -0.738152 | 0.0203097 | -0.852526 | -0.370657 | -1.01418\n",
       "feature_17 | 0.352103 | -0.652662 | 0.54276   | 1.49411   | 1.3833    | -2.01935  | -0.504203 | 0.27486   | -0.746772  | -0.55384  | 98.3521    | True  | 0.352103 | 0.3521030450794833_chris | -1.05396  | -0.527269 | 0.616928  | 1.30991   | -1.36348\n",
       "... (90 rows omitted)"
      ]
     },
     "execution_count": 48,
     "metadata": {},
     "output_type": "execute_result"
    }
   ],
   "source": [
    "# Note that the fact that table_new was in a different order doesn't matter\n",
    "table.join('feature_a', table_new)"
   ]
  },
  {
   "cell_type": "markdown",
   "metadata": {},
   "source": [
    "# Grouping\n",
    "\n",
    "Grouping is done by specifying a column to group by. The column's unique values will be calculated, and the rows will be accumulated according to its value in the column specified.\n",
    "\n",
    "Doing vanilla grouping will simply compile the numbers together in a list:"
   ]
  },
  {
   "cell_type": "code",
   "execution_count": 49,
   "metadata": {
    "collapsed": false
   },
   "outputs": [
    {
     "data": {
      "text/html": [
       "<table border=\"1\" class=\"dataframe\">\n",
       "    <thead>\n",
       "        <tr>\n",
       "            <th>groups</th> <th>a</th> <th>b</th> <th>c</th> <th>d</th> <th>e</th> <th>f</th> <th>g</th> <th>h</th> <th>i</th> <th>j</th> <th>custom_col</th> <th>not_a</th> <th>a+2</th> <th>a_chris</th> <th>feature_a</th>\n",
       "        </tr>\n",
       "    </thead>\n",
       "    <tbody>\n",
       "        <tr>\n",
       "            <td>carl  </td> <td>[ 3.47321821  3.22432507  1.62590492  2.51430945  2.1149 ...</td> <td>[ 0.65606283  1.68250572 -0.8723244  -1.35711083  2.0851 ...</td> <td>[-0.4012516   0.08844736 -0.84474159  0.48035136 -1.6472 ...</td> <td>[ 0.71900519  0.38775179 -0.63932194 -0.8369414  -0.2792 ...</td> <td>[-1.04885623  0.29966006 -0.66814331  1.36574489 -0.2718 ...</td> <td>[ 1.25264625 -1.04283559  1.36785104 -0.92303931  0.1984 ...</td> <td>[ 0.43367446 -0.760973    0.89168957  0.32591865 -0.1078 ...</td> <td>[-0.42254567 -1.54238251  0.53444362  0.43314672  0.3076 ...</td> <td>[ 0.80872565 -0.34020128  0.80874775  0.42181067  1.6421 ...</td> <td>[-0.5848387   2.43176149 -0.64959618 -0.57698051  0.9930 ...</td> <td>[ 101.47321821  101.22432507   99.62590492  100.51430945 ...</td> <td>[False False  True False False  True  True False  True F ...</td> <td>[ 3.47321821  3.22432507  1.62590492  2.51430945  2.1149 ...</td> <td>['3.47321820692365_chris' '3.2243250665365037_chris'\n",
       " '1 ...</td> <td>['feature_0' 'feature_1' 'feature_2' 'feature_3' 'featur ...</td>\n",
       "        </tr>\n",
       "    </tbody>\n",
       "        <tr>\n",
       "            <td>chris </td> <td>[ 0.46954432  0.07375098  3.31416336  2.59396782  3.0813 ...</td> <td>[ -2.17092386e+00   1.10851980e-01   1.00748319e+00  -7. ...</td> <td>[ 0.29422365  1.00595698  0.89812389  1.27536679  0.7022 ...</td> <td>[ 0.20077001 -0.29245932 -1.08303185 -1.11802139 -0.9208 ...</td> <td>[ 2.23184798 -0.51429298  0.37803116 -0.27112166  0.9175 ...</td> <td>[-0.03682746  1.11814618 -1.1080054  -0.18277532  0.1973 ...</td> <td>[-0.79410753  0.61216201  0.68721713  0.21429825 -1.2207 ...</td> <td>[ 0.07630124  1.34997052  1.39948236  0.0578844   1.2003 ...</td> <td>[ 1.42545452  1.83830449 -1.09839581  0.42240687 -1.6017 ...</td> <td>[-0.28785737 -1.32118022 -0.74328926  0.23362203  0.9985 ...</td> <td>[  98.46954432   98.07375098  101.31416336  100.59396782 ...</td> <td>[ True  True False False False  True  True  True  True F ...</td> <td>[ 0.46954432  0.07375098  3.31416336  2.59396782  3.0813 ...</td> <td>['0.46954432425009496_chris' '0.0737509823604674_chris'\n",
       " ...</td> <td>['feature_30' 'feature_31' 'feature_32' 'feature_33' 'fe ...</td>\n",
       "        </tr>\n",
       "    </tbody>\n",
       "</table>"
      ],
      "text/plain": [
       "groups | a                                                            | b                                                            | c                                                            | d                                                            | e                                                            | f                                                            | g                                                            | h                                                            | i                                                            | j                                                            | custom_col                                                   | not_a                                                        | a+2                                                          | a_chris                                                      | feature_a\n",
       "carl   | [ 3.47321821  3.22432507  1.62590492  2.51430945  2.1149 ... | [ 0.65606283  1.68250572 -0.8723244  -1.35711083  2.0851 ... | [-0.4012516   0.08844736 -0.84474159  0.48035136 -1.6472 ... | [ 0.71900519  0.38775179 -0.63932194 -0.8369414  -0.2792 ... | [-1.04885623  0.29966006 -0.66814331  1.36574489 -0.2718 ... | [ 1.25264625 -1.04283559  1.36785104 -0.92303931  0.1984 ... | [ 0.43367446 -0.760973    0.89168957  0.32591865 -0.1078 ... | [-0.42254567 -1.54238251  0.53444362  0.43314672  0.3076 ... | [ 0.80872565 -0.34020128  0.80874775  0.42181067  1.6421 ... | [-0.5848387   2.43176149 -0.64959618 -0.57698051  0.9930 ... | [ 101.47321821  101.22432507   99.62590492  100.51430945 ... | [False False  True False False  True  True False  True F ... | [ 3.47321821  3.22432507  1.62590492  2.51430945  2.1149 ... | ['3.47321820692365_chris' '3.2243250665365037_chris'\n",
       " '1 ... | ['feature_0' 'feature_1' 'feature_2' 'feature_3' 'featur ...\n",
       "chris  | [ 0.46954432  0.07375098  3.31416336  2.59396782  3.0813 ... | [ -2.17092386e+00   1.10851980e-01   1.00748319e+00  -7. ... | [ 0.29422365  1.00595698  0.89812389  1.27536679  0.7022 ... | [ 0.20077001 -0.29245932 -1.08303185 -1.11802139 -0.9208 ... | [ 2.23184798 -0.51429298  0.37803116 -0.27112166  0.9175 ... | [-0.03682746  1.11814618 -1.1080054  -0.18277532  0.1973 ... | [-0.79410753  0.61216201  0.68721713  0.21429825 -1.2207 ... | [ 0.07630124  1.34997052  1.39948236  0.0578844   1.2003 ... | [ 1.42545452  1.83830449 -1.09839581  0.42240687 -1.6017 ... | [-0.28785737 -1.32118022 -0.74328926  0.23362203  0.9985 ... | [  98.46954432   98.07375098  101.31416336  100.59396782 ... | [ True  True False False False  True  True  True  True F ... | [ 0.46954432  0.07375098  3.31416336  2.59396782  3.0813 ... | ['0.46954432425009496_chris' '0.0737509823604674_chris'\n",
       " ... | ['feature_30' 'feature_31' 'feature_32' 'feature_33' 'fe ..."
      ]
     },
     "execution_count": 49,
     "metadata": {},
     "output_type": "execute_result"
    }
   ],
   "source": [
    "# First we'll create an arbitrary groups variable\n",
    "groups = np.zeros(table.num_rows, dtype=bool)\n",
    "groups[30:] = True\n",
    "\n",
    "# Return chris or carl depending on true or false\n",
    "groups = np.where(groups, 'chris', 'carl')\n",
    "\n",
    "table['groups'] = groups\n",
    "table.group('groups')"
   ]
  },
  {
   "cell_type": "markdown",
   "metadata": {},
   "source": [
    "However, we can also automatically apply a function to each group in order to aggregate data more powerfully:"
   ]
  },
  {
   "cell_type": "code",
   "execution_count": 50,
   "metadata": {
    "collapsed": false
   },
   "outputs": [
    {
     "data": {
      "text/html": [
       "<table border=\"1\" class=\"dataframe\">\n",
       "    <thead>\n",
       "        <tr>\n",
       "            <th>groups</th> <th>a std</th> <th>b std</th> <th>c std</th> <th>d std</th> <th>e std</th> <th>f std</th> <th>g std</th> <th>h std</th> <th>i std</th> <th>j std</th> <th>custom_col std</th> <th>not_a std</th> <th>a+2 std</th> <th>a_chris std</th> <th>feature_a std</th>\n",
       "        </tr>\n",
       "    </thead>\n",
       "    <tbody>\n",
       "        <tr>\n",
       "            <td>carl  </td> <td>1.10283 </td> <td>1.14951 </td> <td>0.934733</td> <td>0.890443</td> <td>0.829247</td> <td>1.20161 </td> <td>0.859353</td> <td>0.834538</td> <td>0.922579</td> <td>1.09391 </td> <td>1.10283       </td> <td>0.489898 </td> <td>1.10283 </td> <td>           </td> <td>             </td>\n",
       "        </tr>\n",
       "    </tbody>\n",
       "        <tr>\n",
       "            <td>chris </td> <td>0.980624</td> <td>0.917625</td> <td>0.917485</td> <td>0.988175</td> <td>0.98603 </td> <td>0.978234</td> <td>0.922576</td> <td>1.00371 </td> <td>1.16783 </td> <td>0.942667</td> <td>0.980624      </td> <td>0.494872 </td> <td>0.980624</td> <td>           </td> <td>             </td>\n",
       "        </tr>\n",
       "    </tbody>\n",
       "</table>"
      ],
      "text/plain": [
       "groups | a std    | b std    | c std    | d std    | e std    | f std    | g std    | h std    | i std    | j std    | custom_col std | not_a std | a+2 std  | a_chris std | feature_a std\n",
       "carl   | 1.10283  | 1.14951  | 0.934733 | 0.890443 | 0.829247 | 1.20161  | 0.859353 | 0.834538 | 0.922579 | 1.09391  | 1.10283        | 0.489898  | 1.10283  |             |\n",
       "chris  | 0.980624 | 0.917625 | 0.917485 | 0.988175 | 0.98603  | 0.978234 | 0.922576 | 1.00371  | 1.16783  | 0.942667 | 0.980624       | 0.494872  | 0.980624 |             |"
      ]
     },
     "execution_count": 50,
     "metadata": {},
     "output_type": "execute_result"
    }
   ],
   "source": [
    "table.group('groups', collect=np.std)"
   ]
  },
  {
   "cell_type": "markdown",
   "metadata": {},
   "source": [
    "# Plotting\n",
    "There are a few ways to visualize data directly with tables.\n",
    "\n",
    "Calling `plot` lets you specify a columnn name, it will plot every other variable along the y-axis, and the column name values along the x-axis"
   ]
  },
  {
   "cell_type": "code",
   "execution_count": 51,
   "metadata": {
    "collapsed": true
   },
   "outputs": [],
   "source": [
    "# So we can plot inline\n",
    "%matplotlib inline"
   ]
  },
  {
   "cell_type": "markdown",
   "metadata": {},
   "source": [
    "Note that if you have data of different types in your table, it will throw an error. For example, we added 'groups' as a column, which is made up of strings. To get around this, I suggest using the `select` method."
   ]
  },
  {
   "cell_type": "code",
   "execution_count": 52,
   "metadata": {
    "collapsed": false
   },
   "outputs": [
    {
     "data": {
      "image/png": "[encoded data removed]",
      "text/plain": [
       "<matplotlib.figure.Figure at 0x10a37aa20>"
      ]
     },
     "metadata": {},
     "output_type": "display_data"
    }
   ],
   "source": [
    "table.select(['a', 'b', 'c']).plot('a')"
   ]
  },
  {
   "cell_type": "code",
   "execution_count": 53,
   "metadata": {
    "collapsed": false
   },
   "outputs": [
    {
     "data": {
      "image/png": "[encoded data removed]",
      "text/plain": [
       "<matplotlib.figure.Figure at 0x10a348a58>"
      ]
     },
     "metadata": {},
     "output_type": "display_data"
    }
   ],
   "source": [
    "# You can also make scatterplots in a similar fashion\n",
    "table.select(['a', 'b', 'c']).scatter('a')"
   ]
  },
  {
   "cell_type": "markdown",
   "metadata": {},
   "source": [
    "However, strings _are_ useful for things like categorical or discrete plots. We can plot these with barplots. E.g.:"
   ]
  },
  {
   "cell_type": "code",
   "execution_count": 54,
   "metadata": {
    "collapsed": false
   },
   "outputs": [
    {
     "data": {
      "image/png": "[encoded data removed]",
      "text/plain": [
       "<matplotlib.figure.Figure at 0x10a493b00>"
      ]
     },
     "metadata": {},
     "output_type": "display_data"
    }
   ],
   "source": [
    "table.select(['a', 'groups']).bar('groups')"
   ]
  },
  {
   "cell_type": "markdown",
   "metadata": {
    "collapsed": true
   },
   "source": [
    "That's a bit weird for a barplot - maybe we should aggregate first"
   ]
  },
  {
   "cell_type": "code",
   "execution_count": 55,
   "metadata": {
    "collapsed": false
   },
   "outputs": [
    {
     "data": {
      "image/png": "[encoded data removed]",
      "text/plain": [
       "<matplotlib.figure.Figure at 0x10a9610f0>"
      ]
     },
     "metadata": {},
     "output_type": "display_data"
    }
   ],
   "source": [
    "table.select(['a', 'groups']).group('groups', np.mean).bar('groups')"
   ]
  },
  {
   "cell_type": "markdown",
   "metadata": {},
   "source": [
    "# Pivot tables\n",
    "Pivot tables are confusing. That is all for now."
   ]
  },
  {
   "cell_type": "code",
   "execution_count": null,
   "metadata": {
    "collapsed": true
   },
   "outputs": [],
   "source": []
  },
  {
   "cell_type": "code",
   "execution_count": null,
   "metadata": {
    "collapsed": true
   },
   "outputs": [],
   "source": []
  },
  {
   "cell_type": "code",
   "execution_count": null,
   "metadata": {
    "collapsed": true
   },
   "outputs": [],
   "source": []
  },
  {
   "cell_type": "markdown",
   "metadata": {},
   "source": [
    "# IO\n",
    "I still haven't figured out how to read/write tables to disk."
   ]
  },
  {
   "cell_type": "code",
   "execution_count": null,
   "metadata": {
    "collapsed": true
   },
   "outputs": [],
   "source": []
  },
  {
   "cell_type": "code",
   "execution_count": null,
   "metadata": {
    "collapsed": true
   },
   "outputs": [],
   "source": []
  },
  {
   "cell_type": "markdown",
   "metadata": {},
   "source": [
    "Congrats, you made it to the end. Here is a datascientist puppy................on a `Table`.\n",
    "<img src=\"http://www.poppymctrouble.com/wp-content/uploads/2009/11/photo.jpg\" />"
   ]
  },
  {
   "cell_type": "code",
   "execution_count": null,
   "metadata": {
    "collapsed": true
   },
   "outputs": [],
   "source": []
  },
  {
   "cell_type": "code",
   "execution_count": null,
   "metadata": {
    "collapsed": true
   },
   "outputs": [],
   "source": []
  }
 ],
 "metadata": {
  "kernelspec": {
   "display_name": "Python 3",
   "language": "python",
   "name": "python3"
  },
  "language_info": {
   "codemirror_mode": {
    "name": "ipython",
    "version": 3
   },
   "file_extension": ".py",
   "mimetype": "text/x-python",
   "name": "python",
   "nbconvert_exporter": "python",
   "pygments_lexer": "ipython3",
   "version": "3.4.3"
  }
 },
 "nbformat": 4,
 "nbformat_minor": 0
}

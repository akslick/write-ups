{
 "cells": [
  {
   "cell_type": "code",
   "execution_count": 18,
   "metadata": {
    "collapsed": true
   },
   "outputs": [],
   "source": [
    "import datascience as ds\n",
    "import numpy as np\n",
    "import pandas as pd\n",
    "import string"
   ]
  },
  {
   "cell_type": "markdown",
   "metadata": {},
   "source": [
    "# Creating a Table from scratch\n",
    "\n",
    "In order to create a Table object, you need two things: a list of data columns and a set of labels for those columns.\n"
   ]
  },
  {
   "cell_type": "code",
   "execution_count": 151,
   "metadata": {
    "collapsed": false
   },
   "outputs": [],
   "source": [
    "nfeats = 10\n",
    "data = list(np.random.randn(nfeats, 100))\n",
    "labels = [string.ascii_lowercase[i] for i in range(nfeats)]\n",
    "table = ds.Table(data, labels=labels)"
   ]
  },
  {
   "cell_type": "markdown",
   "metadata": {},
   "source": [
    "You can also supply a dictionary where keys are labels and values are the column data"
   ]
  },
  {
   "cell_type": "code",
   "execution_count": 24,
   "metadata": {
    "collapsed": false
   },
   "outputs": [],
   "source": [
    "data_dict = {i: dat for i, dat in zip(labels, data)}\n",
    "table = ds.Table(data_dict)"
   ]
  },
  {
   "cell_type": "markdown",
   "metadata": {},
   "source": [
    "If you want to create a table by passing rows instead of columns, use the `from_rows` method"
   ]
  },
  {
   "cell_type": "code",
   "execution_count": 143,
   "metadata": {
    "collapsed": false
   },
   "outputs": [],
   "source": [
    "data_rows = list(np.random.randn(100, nfeats))\n",
    "table = ds.Table.from_rows(data_rows, column_labels=labels)"
   ]
  },
  {
   "cell_type": "markdown",
   "metadata": {},
   "source": [
    "# Viewing Data"
   ]
  },
  {
   "cell_type": "markdown",
   "metadata": {},
   "source": [
    "In a jupyter notebook, simply run a cell with a table in it, and it will display in nice HTML. However, it will cut off rows that are too long to be displayed"
   ]
  },
  {
   "cell_type": "code",
   "execution_count": 33,
   "metadata": {
    "collapsed": false
   },
   "outputs": [
    {
     "data": {
      "text/html": [
       "<table border=\"1\" class=\"dataframe\">\n",
       "    <thead>\n",
       "        <tr>\n",
       "            <th>a</th> <th>b</th> <th>c</th> <th>d</th> <th>e</th> <th>f</th> <th>g</th> <th>h</th> <th>i</th> <th>j</th>\n",
       "        </tr>\n",
       "    </thead>\n",
       "    <tbody>\n",
       "        <tr>\n",
       "            <td>0.406769 </td> <td>1.55196   </td> <td>-0.0931095</td> <td>-0.529943 </td> <td>1.78406  </td> <td>1.68528   </td> <td>1.84819  </td> <td>-1.9656  </td> <td>-0.596316</td> <td>0.0727995 </td>\n",
       "        </tr>\n",
       "    </tbody>\n",
       "        <tr>\n",
       "            <td>1.94665  </td> <td>-0.879404 </td> <td>-0.313696 </td> <td>-1.29964  </td> <td>0.473706 </td> <td>-0.41833  </td> <td>0.980287 </td> <td>0.726492 </td> <td>1.14417  </td> <td>2.3054    </td>\n",
       "        </tr>\n",
       "    </tbody>\n",
       "        <tr>\n",
       "            <td>-0.229707</td> <td>0.187612  </td> <td>-2.22901  </td> <td>-0.43925  </td> <td>-0.752164</td> <td>-2.24453  </td> <td>-0.743171</td> <td>0.0202779</td> <td>-0.443438</td> <td>-0.431859 </td>\n",
       "        </tr>\n",
       "    </tbody>\n",
       "        <tr>\n",
       "            <td>0.797457 </td> <td>-0.871438 </td> <td>1.51265   </td> <td>0.566548  </td> <td>-0.130461</td> <td>-1.24734  </td> <td>-0.151947</td> <td>1.21087  </td> <td>1.90886  </td> <td>-0.362355 </td>\n",
       "        </tr>\n",
       "    </tbody>\n",
       "        <tr>\n",
       "            <td>0.140173 </td> <td>0.295714  </td> <td>1.3674    </td> <td>1.96185   </td> <td>0.0973633</td> <td>-0.0300836</td> <td>0.960287 </td> <td>1.04089  </td> <td>0.153897 </td> <td>-1.4037   </td>\n",
       "        </tr>\n",
       "    </tbody>\n",
       "        <tr>\n",
       "            <td>1.19691  </td> <td>0.115993  </td> <td>0.327456  </td> <td>-0.0467045</td> <td>0.091842 </td> <td>0.980452  </td> <td>-1.69135 </td> <td>-0.57797 </td> <td>-0.124096</td> <td>-0.245333 </td>\n",
       "        </tr>\n",
       "    </tbody>\n",
       "        <tr>\n",
       "            <td>0.506299 </td> <td>-0.0383577</td> <td>0.141138  </td> <td>1.03598   </td> <td>0.295396 </td> <td>-0.48896  </td> <td>-0.902124</td> <td>-0.565999</td> <td>1.87611  </td> <td>-0.0758977</td>\n",
       "        </tr>\n",
       "    </tbody>\n",
       "        <tr>\n",
       "            <td>-0.652332</td> <td>-0.1099   </td> <td>-1.23547  </td> <td>-0.402245 </td> <td>1.48215  </td> <td>-1.46238  </td> <td>0.529661 </td> <td>0.0996701</td> <td>-1.06593 </td> <td>-0.324503 </td>\n",
       "        </tr>\n",
       "    </tbody>\n",
       "        <tr>\n",
       "            <td>-0.515006</td> <td>-0.223921 </td> <td>1.24077   </td> <td>-0.466819 </td> <td>1.05303  </td> <td>-2.17738  </td> <td>-0.132804</td> <td>0.0923499</td> <td>-1.93556 </td> <td>-1.10255  </td>\n",
       "        </tr>\n",
       "    </tbody>\n",
       "        <tr>\n",
       "            <td>0.995502 </td> <td>1.8292    </td> <td>-0.574803 </td> <td>-1.28468  </td> <td>1.15869  </td> <td>-1.0832   </td> <td>1.21659  </td> <td>2.68339  </td> <td>0.187712 </td> <td>0.22677   </td>\n",
       "        </tr>\n",
       "    </tbody>\n",
       "</table>\n",
       "<p>... (90 rows omitted)</p"
      ],
      "text/plain": [
       "<Table(10 rows): | a | b | c | d | e | f | g | h | i | j |>"
      ]
     },
     "execution_count": 33,
     "metadata": {},
     "output_type": "execute_result"
    }
   ],
   "source": [
    "table"
   ]
  },
  {
   "cell_type": "code",
   "execution_count": 34,
   "metadata": {
    "collapsed": false
   },
   "outputs": [
    {
     "name": "stdout",
     "output_type": "stream",
     "text": [
      "a         | b          | c          | d          | e         | f          | g         | h         | i         | j\n",
      "0.406769  | 1.55196    | -0.0931095 | -0.529943  | 1.78406   | 1.68528    | 1.84819   | -1.9656   | -0.596316 | 0.0727995\n",
      "1.94665   | -0.879404  | -0.313696  | -1.29964   | 0.473706  | -0.41833   | 0.980287  | 0.726492  | 1.14417   | 2.3054\n",
      "-0.229707 | 0.187612   | -2.22901   | -0.43925   | -0.752164 | -2.24453   | -0.743171 | 0.0202779 | -0.443438 | -0.431859\n",
      "0.797457  | -0.871438  | 1.51265    | 0.566548   | -0.130461 | -1.24734   | -0.151947 | 1.21087   | 1.90886   | -0.362355\n",
      "0.140173  | 0.295714   | 1.3674     | 1.96185    | 0.0973633 | -0.0300836 | 0.960287  | 1.04089   | 0.153897  | -1.4037\n",
      "1.19691   | 0.115993   | 0.327456   | -0.0467045 | 0.091842  | 0.980452   | -1.69135  | -0.57797  | -0.124096 | -0.245333\n",
      "0.506299  | -0.0383577 | 0.141138   | 1.03598    | 0.295396  | -0.48896   | -0.902124 | -0.565999 | 1.87611   | -0.0758977\n",
      "-0.652332 | -0.1099    | -1.23547   | -0.402245  | 1.48215   | -1.46238   | 0.529661  | 0.0996701 | -1.06593  | -0.324503\n",
      "-0.515006 | -0.223921  | 1.24077    | -0.466819  | 1.05303   | -2.17738   | -0.132804 | 0.0923499 | -1.93556  | -1.10255\n",
      "0.995502  | 1.8292     | -0.574803  | -1.28468   | 1.15869   | -1.0832    | 1.21659   | 2.68339   | 0.187712  | 0.22677\n",
      "... (90 rows omitted)\n"
     ]
    }
   ],
   "source": [
    "# Printing does the same, but with text output\n",
    "print(table)"
   ]
  },
  {
   "cell_type": "code",
   "execution_count": 44,
   "metadata": {
    "collapsed": false
   },
   "outputs": [
    {
     "name": "stdout",
     "output_type": "stream",
     "text": [
      "TEXT:\n",
      " a           | b            | c          | d          | e           | f          | g          | h          | i          | j\n",
      "0.406769    | 1.55196      | -0.0931095 | -0.529943  | 1.78406     | 1.68528    | 1.84819    | -1.9656    | -0.596316  | 0.0727995\n",
      "1.94665     | -0.879404    | -0.313696  | -1.29964   | 0.473706    | -0.41833   | 0.980287   | 0.726492   | 1.14417    | 2.3054\n",
      "-0.229707   | 0.187612     | -2.22901   | -0.43925   | -0.752164   | -2.24453   | -0.743171  | 0.0202779  | -0.443438  | -0.431859\n",
      "0.797457    | -0.871438    | 1.51265    | 0.566548   | -0.130461   | -1.24734   | -0.151947  | 1.21087    | 1.90886    | -0.362355\n",
      "0.140173    | 0.295714     | 1.3674     | 1.96185    | 0.0973633   | -0.0300836 | 0.960287   | 1.04089    | 0.153897   | -1.4037\n",
      "1.19691     | 0.115993     | 0.327456   | -0.0467045 | 0.091842    | 0.980452   | -1.69135   | -0.57797   | -0.124096  | -0.245333\n",
      "0.506299    | -0.0383577   | 0.141138   | 1.03598    | 0.295396    | -0.48896   | -0.902124  | -\n",
      "\n",
      "\n",
      "HTML:\n",
      " <table border=\"1\" class=\"dataframe\">\n",
      "    <thead>\n",
      "        <tr>\n",
      "            <th>a</th> <th>b</th> <th>c</th> <th>d</th> <th>e</th> <th>f</th> <th>g</th> <th>h</th> <th>i</th> <th>j</th>\n",
      "        </tr>\n",
      "    </thead>\n",
      "    <tbody>\n",
      "        <tr>\n",
      "            <td>0.406769   </td> <td>1.55196     </td> <td>-0.0931095</td> <td>-0.529943 </td> <td>1.78406    </td> <td>1.68528   </td> <td>1.84819   </td> <td>-1.9656   </td> <td>-0.596316 </td> <td>0.0727995 </td>\n",
      "        </tr>\n",
      "    </tbody>\n",
      "        <tr>\n",
      "            <td>1.94665    </td> <td>-0.879404   </td> <td>-0.313696 </td> <td>-1.29964  </td> <td>0.473706   </td> <td>-0.41833  </td> <td>0.980287  </td> <td>0.726492  </td> <td>1.14417   </td> <td>2.3054    </td>\n",
      "        </tr>\n",
      "    </tbody>\n",
      "        <tr>\n",
      "            <td>-0.229707  </td> <td>0.187612    </td> <td>-2.22901  </td> <td>-0.43925  </td> <td>-0.752164  </td> <td>-2.24453  </td> <td>-0.743171 </td> <td>0.0202779 </td> <td>-0.443438 </td> <td>-0.431859 </td>\n",
      "        </tr>\n",
      "    </tbody>\n",
      "        <\n"
     ]
    }
   ],
   "source": [
    "# You can return a table as text\n",
    "print('TEXT:\\n', table.as_text()[:1000])\n",
    "\n",
    "# Or as html\n",
    "print('\\n\\nHTML:\\n', table.as_html()[:1000])"
   ]
  },
  {
   "cell_type": "markdown",
   "metadata": {},
   "source": [
    "You can also just access the column labels"
   ]
  },
  {
   "cell_type": "code",
   "execution_count": 49,
   "metadata": {
    "collapsed": false
   },
   "outputs": [
    {
     "name": "stdout",
     "output_type": "stream",
     "text": [
      "('a', 'b', 'c', 'd', 'e', 'f', 'g', 'h', 'i', 'j')\n"
     ]
    }
   ],
   "source": [
    "cols = table.column_labels\n",
    "print(cols)"
   ]
  },
  {
   "cell_type": "markdown",
   "metadata": {},
   "source": [
    "Transposing your data will not change your column labels. Instead, it will transpose the data __within__ each column."
   ]
  },
  {
   "cell_type": "code",
   "execution_count": 52,
   "metadata": {
    "collapsed": false
   },
   "outputs": [
    {
     "data": {
      "text/html": [
       "<table border=\"1\" class=\"dataframe\">\n",
       "    <thead>\n",
       "        <tr>\n",
       "            <th>a</th> <th>b</th> <th>c</th> <th>d</th> <th>e</th> <th>f</th> <th>g</th> <th>h</th> <th>i</th> <th>j</th>\n",
       "        </tr>\n",
       "    </thead>\n",
       "    <tbody>\n",
       "        <tr>\n",
       "            <td>[ 0.40676911  1.946647   -0.22970666  0.79745695  0.1401 ...</td> <td>[  1.55195890e+00  -8.79403941e-01   1.87611501e-01  -8. ...</td> <td>[-0.09310951 -0.31369648 -2.22901218  1.5126497   1.3673 ...</td> <td>[-0.52994258 -1.29964241 -0.43925049  0.56654829  1.9618 ...</td> <td>[ 1.78405945  0.47370562 -0.75216434 -0.1304611   0.0973 ...</td> <td>[ 1.68528427 -0.41832967 -2.24452539 -1.24733877 -0.0300 ...</td> <td>[ 1.84819055  0.98028668 -0.74317109 -0.15194665  0.9602 ...</td> <td>[-1.96559779  0.72649162  0.02027786  1.21087172  1.0408 ...</td> <td>[-0.59631562  1.1441665  -0.4434379   1.90886405  0.1538 ...</td> <td>[ 0.07279954  2.30539862 -0.43185873 -0.36235468 -1.4037 ...</td>\n",
       "        </tr>\n",
       "    </tbody>\n",
       "</table>"
      ],
      "text/plain": [
       "<Table(10 rows): | a | b | c | d | e | f | g | h | i | j |>"
      ]
     },
     "execution_count": 52,
     "metadata": {},
     "output_type": "execute_result"
    }
   ],
   "source": [
    "table.T"
   ]
  },
  {
   "cell_type": "markdown",
   "metadata": {},
   "source": [
    "You can also sort a table by the values in some column."
   ]
  },
  {
   "cell_type": "code",
   "execution_count": 56,
   "metadata": {
    "collapsed": false
   },
   "outputs": [
    {
     "data": {
      "text/html": [
       "<table border=\"1\" class=\"dataframe\">\n",
       "    <thead>\n",
       "        <tr>\n",
       "            <th>a</th> <th>b</th> <th>c</th> <th>d</th> <th>e</th> <th>f</th> <th>g</th> <th>h</th> <th>i</th> <th>j</th>\n",
       "        </tr>\n",
       "    </thead>\n",
       "    <tbody>\n",
       "        <tr>\n",
       "            <td>-0.381304</td> <td>-2.05797</td> <td>1.48785   </td> <td>0.0392615</td> <td>1.35183  </td> <td>1.3498   </td> <td>0.496602 </td> <td>0.900159 </td> <td>-1.04252  </td> <td>-0.479272 </td>\n",
       "        </tr>\n",
       "    </tbody>\n",
       "        <tr>\n",
       "            <td>1.74163  </td> <td>-1.82917</td> <td>1.19606   </td> <td>0.944638 </td> <td>-1.83992 </td> <td>0.885643 </td> <td>-0.539069</td> <td>0.780056 </td> <td>-0.533799 </td> <td>0.920045  </td>\n",
       "        </tr>\n",
       "    </tbody>\n",
       "        <tr>\n",
       "            <td>1.5121   </td> <td>-1.82572</td> <td>0.862555  </td> <td>0.896797 </td> <td>1.1553   </td> <td>-0.42885 </td> <td>-0.147458</td> <td>-2.05771 </td> <td>-0.274241 </td> <td>-1.28548  </td>\n",
       "        </tr>\n",
       "    </tbody>\n",
       "        <tr>\n",
       "            <td>0.633111 </td> <td>-1.50467</td> <td>-0.864715 </td> <td>0.419723 </td> <td>-0.561586</td> <td>0.682939 </td> <td>2.11355  </td> <td>-0.661091</td> <td>-0.0430856</td> <td>-0.0154582</td>\n",
       "        </tr>\n",
       "    </tbody>\n",
       "        <tr>\n",
       "            <td>2.12299  </td> <td>-1.47532</td> <td>-0.0156141</td> <td>0.246847 </td> <td>0.183992 </td> <td>-1.72979 </td> <td>0.519849 </td> <td>0.0692791</td> <td>0.465791  </td> <td>-0.481382 </td>\n",
       "        </tr>\n",
       "    </tbody>\n",
       "        <tr>\n",
       "            <td>-0.59403 </td> <td>-1.35258</td> <td>0.942918  </td> <td>0.619401 </td> <td>-0.911106</td> <td>-0.676922</td> <td>0.651861 </td> <td>0.688236 </td> <td>-0.974254 </td> <td>-2.23986  </td>\n",
       "        </tr>\n",
       "    </tbody>\n",
       "        <tr>\n",
       "            <td>0.0525554</td> <td>-1.29529</td> <td>-0.830958 </td> <td>-2.93982 </td> <td>0.593177 </td> <td>1.06012  </td> <td>-1.04354 </td> <td>-1.74783 </td> <td>-1.33295  </td> <td>1.11401   </td>\n",
       "        </tr>\n",
       "    </tbody>\n",
       "        <tr>\n",
       "            <td>-0.250409</td> <td>-1.26208</td> <td>0.138758  </td> <td>0.109763 </td> <td>0.219729 </td> <td>-1.06541 </td> <td>0.319839 </td> <td>0.308164 </td> <td>0.372572  </td> <td>-0.671437 </td>\n",
       "        </tr>\n",
       "    </tbody>\n",
       "        <tr>\n",
       "            <td>0.281824 </td> <td>-1.2529 </td> <td>-0.353788 </td> <td>0.29045  </td> <td>0.623082 </td> <td>-0.837187</td> <td>0.072082 </td> <td>-0.986154</td> <td>0.352775  </td> <td>1.50166   </td>\n",
       "        </tr>\n",
       "    </tbody>\n",
       "        <tr>\n",
       "            <td>-1.00494 </td> <td>-1.22793</td> <td>-0.0923397</td> <td>0.593574 </td> <td>-0.57466 </td> <td>-2.27588 </td> <td>1.46305  </td> <td>-0.411265</td> <td>-1.39012  </td> <td>1.74693   </td>\n",
       "        </tr>\n",
       "    </tbody>\n",
       "</table>\n",
       "<p>... (90 rows omitted)</p"
      ],
      "text/plain": [
       "<Table(10 rows): | a | b | c | d | e | f | g | h | i | j |>"
      ]
     },
     "execution_count": 56,
     "metadata": {},
     "output_type": "execute_result"
    }
   ],
   "source": [
    "table.sort('b')"
   ]
  },
  {
   "cell_type": "markdown",
   "metadata": {},
   "source": [
    "# Selecting data\n",
    "The simplest way of selecting data is by pulling out individual columns. This can be done by putting the column name in brackets (similar to how dictionaries work). Note that you must supply a single column name."
   ]
  },
  {
   "cell_type": "code",
   "execution_count": 64,
   "metadata": {
    "collapsed": false
   },
   "outputs": [
    {
     "name": "stdout",
     "output_type": "stream",
     "text": [
      "[ 0.40676911  1.946647   -0.22970666  0.79745695  0.14017344]\n"
     ]
    }
   ],
   "source": [
    "print(table['a'][:5])"
   ]
  },
  {
   "cell_type": "markdown",
   "metadata": {},
   "source": [
    "Alternatively, one can select a subset of columns for viewing with the `.select` method. This lets you give multiple column labels:"
   ]
  },
  {
   "cell_type": "code",
   "execution_count": 67,
   "metadata": {
    "collapsed": false
   },
   "outputs": [
    {
     "data": {
      "text/html": [
       "<table border=\"1\" class=\"dataframe\">\n",
       "    <thead>\n",
       "        <tr>\n",
       "            <th>a</th> <th>b</th>\n",
       "        </tr>\n",
       "    </thead>\n",
       "    <tbody>\n",
       "        <tr>\n",
       "            <td>0.406769 </td> <td>1.55196   </td>\n",
       "        </tr>\n",
       "    </tbody>\n",
       "        <tr>\n",
       "            <td>1.94665  </td> <td>-0.879404 </td>\n",
       "        </tr>\n",
       "    </tbody>\n",
       "        <tr>\n",
       "            <td>-0.229707</td> <td>0.187612  </td>\n",
       "        </tr>\n",
       "    </tbody>\n",
       "        <tr>\n",
       "            <td>0.797457 </td> <td>-0.871438 </td>\n",
       "        </tr>\n",
       "    </tbody>\n",
       "        <tr>\n",
       "            <td>0.140173 </td> <td>0.295714  </td>\n",
       "        </tr>\n",
       "    </tbody>\n",
       "        <tr>\n",
       "            <td>1.19691  </td> <td>0.115993  </td>\n",
       "        </tr>\n",
       "    </tbody>\n",
       "        <tr>\n",
       "            <td>0.506299 </td> <td>-0.0383577</td>\n",
       "        </tr>\n",
       "    </tbody>\n",
       "        <tr>\n",
       "            <td>-0.652332</td> <td>-0.1099   </td>\n",
       "        </tr>\n",
       "    </tbody>\n",
       "        <tr>\n",
       "            <td>-0.515006</td> <td>-0.223921 </td>\n",
       "        </tr>\n",
       "    </tbody>\n",
       "        <tr>\n",
       "            <td>0.995502 </td> <td>1.8292    </td>\n",
       "        </tr>\n",
       "    </tbody>\n",
       "</table>\n",
       "<p>... (90 rows omitted)</p"
      ],
      "text/plain": [
       "<Table(2 rows): | a | b |>"
      ]
     },
     "execution_count": 67,
     "metadata": {},
     "output_type": "execute_result"
    }
   ],
   "source": [
    "table.select(['a', 'b'])"
   ]
  },
  {
   "cell_type": "markdown",
   "metadata": {},
   "source": [
    "Finally, it is also possible to take specific rows from a table with the `.take` method. Note that this uses a list of row indices."
   ]
  },
  {
   "cell_type": "code",
   "execution_count": 71,
   "metadata": {
    "collapsed": false,
    "scrolled": true
   },
   "outputs": [
    {
     "data": {
      "text/html": [
       "<table border=\"1\" class=\"dataframe\">\n",
       "    <thead>\n",
       "        <tr>\n",
       "            <th>a</th> <th>b</th> <th>c</th> <th>d</th> <th>e</th> <th>f</th> <th>g</th> <th>h</th> <th>i</th> <th>j</th>\n",
       "        </tr>\n",
       "    </thead>\n",
       "    <tbody>\n",
       "        <tr>\n",
       "            <td>0.662009  </td> <td>1.3396   </td> <td>0.100194 </td> <td>0.112067 </td> <td>1.01076  </td> <td>1.37659   </td> <td>0.270544 </td> <td>-1.95514 </td> <td>0.476391 </td> <td>-1.15728 </td>\n",
       "        </tr>\n",
       "    </tbody>\n",
       "        <tr>\n",
       "            <td>-0.339129 </td> <td>0.104073 </td> <td>-1.05487 </td> <td>-1.6283  </td> <td>0.127132 </td> <td>1.14525   </td> <td>-0.240215</td> <td>1.43093  </td> <td>-3.38099 </td> <td>0.623656 </td>\n",
       "        </tr>\n",
       "    </tbody>\n",
       "        <tr>\n",
       "            <td>-0.0927025</td> <td>-0.835413</td> <td>-0.678441</td> <td>-0.902698</td> <td>-0.137255</td> <td>-0.827414 </td> <td>1.21246  </td> <td>-0.968445</td> <td>1.1132   </td> <td>-2.30774 </td>\n",
       "        </tr>\n",
       "    </tbody>\n",
       "        <tr>\n",
       "            <td>0.69249   </td> <td>0.574802 </td> <td>1.65091  </td> <td>0.862108 </td> <td>-0.952391</td> <td>-0.381625 </td> <td>-0.752288</td> <td>0.972626 </td> <td>1.40986  </td> <td>-0.674008</td>\n",
       "        </tr>\n",
       "    </tbody>\n",
       "        <tr>\n",
       "            <td>1.24252   </td> <td>-0.865907</td> <td>0.796575 </td> <td>-0.627811</td> <td>0.581739 </td> <td>-0.977999 </td> <td>-0.444162</td> <td>0.510538 </td> <td>0.539005 </td> <td>-0.717448</td>\n",
       "        </tr>\n",
       "    </tbody>\n",
       "        <tr>\n",
       "            <td>0.698097  </td> <td>1.62111  </td> <td>-0.434359</td> <td>-0.1534  </td> <td>0.671726 </td> <td>-1.2035   </td> <td>-2.56773 </td> <td>1.20782  </td> <td>-0.764151</td> <td>-0.81407 </td>\n",
       "        </tr>\n",
       "    </tbody>\n",
       "        <tr>\n",
       "            <td>-1.49591  </td> <td>-1.18452 </td> <td>0.703795 </td> <td>-1.10636 </td> <td>-0.20109 </td> <td>1.03348   </td> <td>-1.84136 </td> <td>3.18499  </td> <td>0.743293 </td> <td>-0.495953</td>\n",
       "        </tr>\n",
       "    </tbody>\n",
       "        <tr>\n",
       "            <td>-0.0936518</td> <td>-0.827222</td> <td>0.67008  </td> <td>0.066464 </td> <td>0.0681737</td> <td>0.444703  </td> <td>-1.09244 </td> <td>0.877795 </td> <td>-0.219102</td> <td>0.272328 </td>\n",
       "        </tr>\n",
       "    </tbody>\n",
       "        <tr>\n",
       "            <td>0.0607656 </td> <td>-0.104638</td> <td>0.768964 </td> <td>0.867504 </td> <td>-0.780542</td> <td>-0.538346 </td> <td>0.937276 </td> <td>-1.64203 </td> <td>2.25342  </td> <td>-1.05416 </td>\n",
       "        </tr>\n",
       "    </tbody>\n",
       "        <tr>\n",
       "            <td>1.09633   </td> <td>0.193629 </td> <td>0.57007  </td> <td>0.954129 </td> <td>-0.137401</td> <td>-0.0730438</td> <td>-0.522157</td> <td>-1.47996 </td> <td>0.149595 </td> <td>1.32965  </td>\n",
       "        </tr>\n",
       "    </tbody>\n",
       "</table>"
      ],
      "text/plain": [
       "<Table(10 rows): | a | b | c | d | e | f | g | h | i | j |>"
      ]
     },
     "execution_count": 71,
     "metadata": {},
     "output_type": "execute_result"
    }
   ],
   "source": [
    "ix_rows = range(10, 20)\n",
    "table.take(ix_rows)"
   ]
  },
  {
   "cell_type": "markdown",
   "metadata": {},
   "source": [
    "Finally, if you want to forget about the column labels and just treat it as a numpy array, you can use the `.columns` attribute. This will return a list of your column values, which is easily converted into a numpy array (but note that this will also transpose the data)"
   ]
  },
  {
   "cell_type": "code",
   "execution_count": 112,
   "metadata": {
    "collapsed": false
   },
   "outputs": [
    {
     "name": "stdout",
     "output_type": "stream",
     "text": [
      "[[ 0.40676911  1.946647   -0.22970666  0.79745695  0.14017344]\n",
      " [ 1.5519589  -0.87940394  0.1876115  -0.87143836  0.29571392]\n",
      " [-0.09310951 -0.31369648 -2.22901218  1.5126497   1.36739613]\n",
      " [-0.52994258 -1.29964241 -0.43925049  0.56654829  1.96185154]\n",
      " [ 1.78405945  0.47370562 -0.75216434 -0.1304611   0.09736333]]\n",
      "<class 'numpy.ndarray'>\n"
     ]
    }
   ],
   "source": [
    "table_array = table.columns\n",
    "table_array = np.array(table_array)\n",
    "print(table_array[:5, :5])\n",
    "print(type(table_array))"
   ]
  },
  {
   "cell_type": "markdown",
   "metadata": {},
   "source": [
    "## Boolean indexing"
   ]
  },
  {
   "cell_type": "markdown",
   "metadata": {},
   "source": [
    "You can't use boolean operators directly with a Table, but it is quite easy to accomplish the same thing by selecting a subset of the data to create boolean masks, then by using the `.where` method."
   ]
  },
  {
   "cell_type": "code",
   "execution_count": 113,
   "metadata": {
    "collapsed": false
   },
   "outputs": [
    {
     "ename": "TypeError",
     "evalue": "unorderable types: Table() > int()",
     "output_type": "error",
     "traceback": [
      "\u001b[0;31m---------------------------------------------------------------------------\u001b[0m",
      "\u001b[0;31mTypeError\u001b[0m                                 Traceback (most recent call last)",
      "\u001b[0;32m<ipython-input-113-4f51b7ad675e>\u001b[0m in \u001b[0;36m<module>\u001b[0;34m()\u001b[0m\n\u001b[0;32m----> 1\u001b[0;31m \u001b[0mtable\u001b[0m \u001b[0;34m>\u001b[0m \u001b[0;36m1\u001b[0m\u001b[0;34m\u001b[0m\u001b[0m\n\u001b[0m",
      "\u001b[0;31mTypeError\u001b[0m: unorderable types: Table() > int()"
     ]
    }
   ],
   "source": [
    "table > 1"
   ]
  },
  {
   "cell_type": "code",
   "execution_count": 115,
   "metadata": {
    "collapsed": false
   },
   "outputs": [
    {
     "data": {
      "text/plain": [
       "array([[False,  True, False, False, False],\n",
       "       [ True, False, False, False, False],\n",
       "       [False, False, False,  True,  True],\n",
       "       [False, False, False, False,  True],\n",
       "       [ True, False, False, False, False]], dtype=bool)"
      ]
     },
     "execution_count": 115,
     "metadata": {},
     "output_type": "execute_result"
    }
   ],
   "source": [
    "# We'll convert the matrix to an array\n",
    "msk = np.array(table.columns) > 1\n",
    "msk[:5, :5]"
   ]
  },
  {
   "cell_type": "markdown",
   "metadata": {},
   "source": [
    "Now we can use the `.where` method, which takes an array with the length == the number of rows in our Table, and returns the rows where the array is == \"value\" (which defaults to the value `True`)"
   ]
  },
  {
   "cell_type": "code",
   "execution_count": 118,
   "metadata": {
    "collapsed": false
   },
   "outputs": [
    {
     "data": {
      "text/html": [
       "<table border=\"1\" class=\"dataframe\">\n",
       "    <thead>\n",
       "        <tr>\n",
       "            <th>a</th> <th>b</th> <th>c</th> <th>d</th> <th>e</th> <th>f</th> <th>g</th> <th>h</th> <th>i</th> <th>j</th>\n",
       "        </tr>\n",
       "    </thead>\n",
       "    <tbody>\n",
       "        <tr>\n",
       "            <td>1.94665</td> <td>-0.879404</td> <td>-0.313696 </td> <td>-1.29964  </td> <td>0.473706 </td> <td>-0.41833  </td> <td>0.980287 </td> <td>0.726492 </td> <td>1.14417  </td> <td>2.3054   </td>\n",
       "        </tr>\n",
       "    </tbody>\n",
       "        <tr>\n",
       "            <td>1.19691</td> <td>0.115993 </td> <td>0.327456  </td> <td>-0.0467045</td> <td>0.091842 </td> <td>0.980452  </td> <td>-1.69135 </td> <td>-0.57797 </td> <td>-0.124096</td> <td>-0.245333</td>\n",
       "        </tr>\n",
       "    </tbody>\n",
       "        <tr>\n",
       "            <td>1.24252</td> <td>-0.865907</td> <td>0.796575  </td> <td>-0.627811 </td> <td>0.581739 </td> <td>-0.977999 </td> <td>-0.444162</td> <td>0.510538 </td> <td>0.539005 </td> <td>-0.717448</td>\n",
       "        </tr>\n",
       "    </tbody>\n",
       "        <tr>\n",
       "            <td>1.09633</td> <td>0.193629 </td> <td>0.57007   </td> <td>0.954129  </td> <td>-0.137401</td> <td>-0.0730438</td> <td>-0.522157</td> <td>-1.47996 </td> <td>0.149595 </td> <td>1.32965  </td>\n",
       "        </tr>\n",
       "    </tbody>\n",
       "        <tr>\n",
       "            <td>2.02402</td> <td>0.103886 </td> <td>2.03244   </td> <td>0.232978  </td> <td>-0.133859</td> <td>1.26937   </td> <td>2.08116  </td> <td>-1.13326 </td> <td>0.134415 </td> <td>-0.152267</td>\n",
       "        </tr>\n",
       "    </tbody>\n",
       "        <tr>\n",
       "            <td>1.44412</td> <td>1.40337  </td> <td>-0.428268 </td> <td>0.0168891 </td> <td>-0.209338</td> <td>-0.812116 </td> <td>0.686712 </td> <td>0.39729  </td> <td>-1.71596 </td> <td>-0.553601</td>\n",
       "        </tr>\n",
       "    </tbody>\n",
       "        <tr>\n",
       "            <td>1.28586</td> <td>-0.225623</td> <td>-0.816275 </td> <td>0.503434  </td> <td>0.0173762</td> <td>1.61857   </td> <td>-0.18299 </td> <td>-0.354406</td> <td>-2.32813 </td> <td>0.712599 </td>\n",
       "        </tr>\n",
       "    </tbody>\n",
       "        <tr>\n",
       "            <td>1.41758</td> <td>0.426221 </td> <td>-1.31336  </td> <td>0.917362  </td> <td>1.03428  </td> <td>0.539896  </td> <td>-1.06334 </td> <td>-0.778038</td> <td>2.31976  </td> <td>0.525964 </td>\n",
       "        </tr>\n",
       "    </tbody>\n",
       "        <tr>\n",
       "            <td>2.12299</td> <td>-1.47532 </td> <td>-0.0156141</td> <td>0.246847  </td> <td>0.183992 </td> <td>-1.72979  </td> <td>0.519849 </td> <td>0.0692791</td> <td>0.465791 </td> <td>-0.481382</td>\n",
       "        </tr>\n",
       "    </tbody>\n",
       "        <tr>\n",
       "            <td>2.71917</td> <td>0.385974 </td> <td>0.00784666</td> <td>0.354093  </td> <td>0.943637 </td> <td>0.170245  </td> <td>-0.814775</td> <td>0.116205 </td> <td>0.104104 </td> <td>-1.35504 </td>\n",
       "        </tr>\n",
       "    </tbody>\n",
       "</table>\n",
       "<p>... (4 rows omitted)</p"
      ],
      "text/plain": [
       "<Table(10 rows): | a | b | c | d | e | f | g | h | i | j |>"
      ]
     },
     "execution_count": 118,
     "metadata": {},
     "output_type": "execute_result"
    }
   ],
   "source": [
    "table.where(msk[0])"
   ]
  },
  {
   "cell_type": "code",
   "execution_count": 129,
   "metadata": {
    "collapsed": false
   },
   "outputs": [
    {
     "name": "stdout",
     "output_type": "stream",
     "text": [
      "[['b' 'a' 'b' 'b' 'b']\n",
      " ['a' 'b' 'b' 'b' 'b']\n",
      " ['b' 'b' 'b' 'a' 'a']\n",
      " ['b' 'b' 'b' 'b' 'a']\n",
      " ['a' 'b' 'b' 'b' 'b']]\n"
     ]
    }
   ],
   "source": [
    "msk_letter = msk.copy().astype(str)\n",
    "msk_letter[msk] = 'a'\n",
    "msk_letter[~msk] = 'b'\n",
    "print(msk_letter[:5, :5])"
   ]
  },
  {
   "cell_type": "code",
   "execution_count": 128,
   "metadata": {
    "collapsed": false
   },
   "outputs": [
    {
     "data": {
      "text/html": [
       "<table border=\"1\" class=\"dataframe\">\n",
       "    <thead>\n",
       "        <tr>\n",
       "            <th>a</th> <th>b</th> <th>c</th> <th>d</th> <th>e</th> <th>f</th> <th>g</th> <th>h</th> <th>i</th> <th>j</th>\n",
       "        </tr>\n",
       "    </thead>\n",
       "    <tbody>\n",
       "        <tr>\n",
       "            <td>0.406769 </td> <td>1.55196   </td> <td>-0.0931095</td> <td>-0.529943</td> <td>1.78406  </td> <td>1.68528   </td> <td>1.84819  </td> <td>-1.9656  </td> <td>-0.596316</td> <td>0.0727995 </td>\n",
       "        </tr>\n",
       "    </tbody>\n",
       "        <tr>\n",
       "            <td>-0.229707</td> <td>0.187612  </td> <td>-2.22901  </td> <td>-0.43925 </td> <td>-0.752164</td> <td>-2.24453  </td> <td>-0.743171</td> <td>0.0202779</td> <td>-0.443438</td> <td>-0.431859 </td>\n",
       "        </tr>\n",
       "    </tbody>\n",
       "        <tr>\n",
       "            <td>0.797457 </td> <td>-0.871438 </td> <td>1.51265   </td> <td>0.566548 </td> <td>-0.130461</td> <td>-1.24734  </td> <td>-0.151947</td> <td>1.21087  </td> <td>1.90886  </td> <td>-0.362355 </td>\n",
       "        </tr>\n",
       "    </tbody>\n",
       "        <tr>\n",
       "            <td>0.140173 </td> <td>0.295714  </td> <td>1.3674    </td> <td>1.96185  </td> <td>0.0973633</td> <td>-0.0300836</td> <td>0.960287 </td> <td>1.04089  </td> <td>0.153897 </td> <td>-1.4037   </td>\n",
       "        </tr>\n",
       "    </tbody>\n",
       "        <tr>\n",
       "            <td>0.506299 </td> <td>-0.0383577</td> <td>0.141138  </td> <td>1.03598  </td> <td>0.295396 </td> <td>-0.48896  </td> <td>-0.902124</td> <td>-0.565999</td> <td>1.87611  </td> <td>-0.0758977</td>\n",
       "        </tr>\n",
       "    </tbody>\n",
       "        <tr>\n",
       "            <td>-0.652332</td> <td>-0.1099   </td> <td>-1.23547  </td> <td>-0.402245</td> <td>1.48215  </td> <td>-1.46238  </td> <td>0.529661 </td> <td>0.0996701</td> <td>-1.06593 </td> <td>-0.324503 </td>\n",
       "        </tr>\n",
       "    </tbody>\n",
       "        <tr>\n",
       "            <td>-0.515006</td> <td>-0.223921 </td> <td>1.24077   </td> <td>-0.466819</td> <td>1.05303  </td> <td>-2.17738  </td> <td>-0.132804</td> <td>0.0923499</td> <td>-1.93556 </td> <td>-1.10255  </td>\n",
       "        </tr>\n",
       "    </tbody>\n",
       "        <tr>\n",
       "            <td>0.995502 </td> <td>1.8292    </td> <td>-0.574803 </td> <td>-1.28468 </td> <td>1.15869  </td> <td>-1.0832   </td> <td>1.21659  </td> <td>2.68339  </td> <td>0.187712 </td> <td>0.22677   </td>\n",
       "        </tr>\n",
       "    </tbody>\n",
       "        <tr>\n",
       "            <td>0.662009 </td> <td>1.3396    </td> <td>0.100194  </td> <td>0.112067 </td> <td>1.01076  </td> <td>1.37659   </td> <td>0.270544 </td> <td>-1.95514 </td> <td>0.476391 </td> <td>-1.15728  </td>\n",
       "        </tr>\n",
       "    </tbody>\n",
       "        <tr>\n",
       "            <td>-0.339129</td> <td>0.104073  </td> <td>-1.05487  </td> <td>-1.6283  </td> <td>0.127132 </td> <td>1.14525   </td> <td>-0.240215</td> <td>1.43093  </td> <td>-3.38099 </td> <td>0.623656  </td>\n",
       "        </tr>\n",
       "    </tbody>\n",
       "</table>\n",
       "<p>... (76 rows omitted)</p"
      ],
      "text/plain": [
       "<Table(10 rows): | a | b | c | d | e | f | g | h | i | j |>"
      ]
     },
     "execution_count": 128,
     "metadata": {},
     "output_type": "execute_result"
    }
   ],
   "source": [
    "table.where(msk_letter[0], 'b')"
   ]
  },
  {
   "cell_type": "markdown",
   "metadata": {},
   "source": [
    "# Adding new data\n",
    "It is possible to add a new column directly to our Table object. This is done by passing values that have the same number of rows, along with a column name"
   ]
  },
  {
   "cell_type": "code",
   "execution_count": 152,
   "metadata": {
    "collapsed": false,
    "scrolled": true
   },
   "outputs": [
    {
     "data": {
      "text/plain": [
       "array([ 100.71203456,  101.02437246,  101.42301705,  100.07765536,\n",
       "        100.7550972 ,   98.9727203 ,   98.66095711,  100.13710886,\n",
       "        100.33388808,  100.4211912 ,   98.5679226 ,  100.56498883,\n",
       "        100.07779845,   98.71167394,  101.10158842,  100.71620285,\n",
       "         99.17222072,   98.38321062,  100.550448  ,   99.2507432 ,\n",
       "        100.62281287,  101.93299852,  100.38797408,   99.34322741,\n",
       "         98.53224889,  100.01835533,   99.57473656,   98.23392258,\n",
       "        101.6291059 ,   99.11885732,   98.77564795,  100.85666664,\n",
       "        100.18165585,   99.20889181,  100.11799917,  100.70664996,\n",
       "        101.01061018,   99.12809131,  100.47232331,  101.88621109,\n",
       "         98.75524666,  100.61839017,  100.13342417,  100.49287363,\n",
       "         99.08813087,  101.15083087,   99.57929517,   99.74852665,\n",
       "         99.15111061,  101.49228669,   99.49050557,   99.60957761,\n",
       "        101.26757898,   99.79825213,  101.95194058,  101.36793204,\n",
       "        100.82254048,  100.7016186 ,  101.21617388,   99.79459676,\n",
       "        101.66373157,  100.70040348,   98.49894726,   99.47505777,\n",
       "        100.6009423 ,  100.05108278,   98.33672698,  100.61073288,\n",
       "         99.84267247,   99.52452938,   98.39289379,   98.62374182,\n",
       "        100.621485  ,   99.85652407,  100.51988223,   97.97453565,\n",
       "         99.29939368,  100.74566911,   98.62187346,   99.20435834,\n",
       "        100.71160383,  100.64615911,   99.70568908,  100.3677967 ,\n",
       "         98.16469006,  100.56817995,   98.12210992,   99.11675081,\n",
       "        101.05645394,  100.04249603,  100.2158992 ,  101.70618786,\n",
       "        100.10468645,  100.94389858,   99.76762988,  100.91720518,\n",
       "        101.65087083,  100.58762462,   98.51574074,   99.80935318])"
      ]
     },
     "execution_count": 152,
     "metadata": {},
     "output_type": "execute_result"
    }
   ],
   "source": [
    "table['custom_col'] = table['a'] + 100\n",
    "table['custom_col']"
   ]
  },
  {
   "cell_type": "code",
   "execution_count": 156,
   "metadata": {
    "collapsed": false
   },
   "outputs": [
    {
     "data": {
      "text/html": [
       "<table border=\"1\" class=\"dataframe\">\n",
       "    <thead>\n",
       "        <tr>\n",
       "            <th>a</th> <th>b</th> <th>c</th> <th>d</th> <th>e</th> <th>f</th> <th>g</th> <th>h</th> <th>i</th> <th>j</th> <th>custom_col</th> <th>not_a</th>\n",
       "        </tr>\n",
       "    </thead>\n",
       "    <tbody>\n",
       "        <tr>\n",
       "            <td>0.712035 </td> <td>0.321652  </td> <td>-0.177017</td> <td>-0.276744</td> <td>0.442014 </td> <td>-0.151805</td> <td>1.26032  </td> <td>-0.459668 </td> <td>0.858446  </td> <td>1.02393   </td> <td>100.712   </td> <td>False</td>\n",
       "        </tr>\n",
       "    </tbody>\n",
       "        <tr>\n",
       "            <td>1.02437  </td> <td>0.171368  </td> <td>0.225927 </td> <td>1.97335  </td> <td>0.301138 </td> <td>-1.30359 </td> <td>0.49244  </td> <td>0.882077  </td> <td>0.320426  </td> <td>0.103817  </td> <td>101.024   </td> <td>False</td>\n",
       "        </tr>\n",
       "    </tbody>\n",
       "        <tr>\n",
       "            <td>1.42302  </td> <td>-0.97197  </td> <td>0.531661 </td> <td>0.680842 </td> <td>0.62295  </td> <td>0.539337 </td> <td>-1.026   </td> <td>-1.88412  </td> <td>0.735877  </td> <td>-0.182456 </td> <td>101.423   </td> <td>False</td>\n",
       "        </tr>\n",
       "    </tbody>\n",
       "        <tr>\n",
       "            <td>0.0776554</td> <td>0.335543  </td> <td>0.956517 </td> <td>-0.148156</td> <td>1.39035  </td> <td>0.231305 </td> <td>0.618361 </td> <td>-0.0933092</td> <td>-0.0440198</td> <td>-0.101198 </td> <td>100.078   </td> <td>False</td>\n",
       "        </tr>\n",
       "    </tbody>\n",
       "        <tr>\n",
       "            <td>0.755097 </td> <td>0.978997  </td> <td>0.270038 </td> <td>0.352872 </td> <td>0.140897 </td> <td>0.0524315</td> <td>-0.422537</td> <td>-1.2683   </td> <td>0.695731  </td> <td>-0.0541399</td> <td>100.755   </td> <td>False</td>\n",
       "        </tr>\n",
       "    </tbody>\n",
       "        <tr>\n",
       "            <td>-1.02728 </td> <td>0.467634  </td> <td>-1.42592 </td> <td>-1.61731 </td> <td>-0.389991</td> <td>-0.766169</td> <td>2.03004  </td> <td>-0.812493 </td> <td>-0.867925 </td> <td>-1.86148  </td> <td>98.9727   </td> <td>True </td>\n",
       "        </tr>\n",
       "    </tbody>\n",
       "        <tr>\n",
       "            <td>-1.33904 </td> <td>0.273429  </td> <td>0.410062 </td> <td>0.671098 </td> <td>-1.18111 </td> <td>-1.36299 </td> <td>0.0788214</td> <td>-1.40356  </td> <td>0.765777  </td> <td>-2.18249  </td> <td>98.661    </td> <td>True </td>\n",
       "        </tr>\n",
       "    </tbody>\n",
       "        <tr>\n",
       "            <td>0.137109 </td> <td>0.00246671</td> <td>0.931103 </td> <td>0.164772 </td> <td>-1.0574  </td> <td>-0.780646</td> <td>0.0208116</td> <td>0.360339  </td> <td>0.211063  </td> <td>1.23743   </td> <td>100.137   </td> <td>False</td>\n",
       "        </tr>\n",
       "    </tbody>\n",
       "        <tr>\n",
       "            <td>0.333888 </td> <td>-0.188111 </td> <td>-2.17362 </td> <td>0.408387 </td> <td>-0.602258</td> <td>-0.650551</td> <td>0.137784 </td> <td>-1.23441  </td> <td>0.568559  </td> <td>0.67111   </td> <td>100.334   </td> <td>False</td>\n",
       "        </tr>\n",
       "    </tbody>\n",
       "        <tr>\n",
       "            <td>0.421191 </td> <td>-1.91241  </td> <td>2.1556   </td> <td>0.472956 </td> <td>-0.506368</td> <td>2.20083  </td> <td>-1.64457 </td> <td>-0.835216 </td> <td>-1.56042  </td> <td>1.41558   </td> <td>100.421   </td> <td>False</td>\n",
       "        </tr>\n",
       "    </tbody>\n",
       "</table>\n",
       "<p>... (90 rows omitted)</p"
      ],
      "text/plain": [
       "<Table(12 rows): | a | b | c | d | e | f | g | h | i | j | custom_col | not_a |>"
      ]
     },
     "execution_count": 156,
     "metadata": {},
     "output_type": "execute_result"
    }
   ],
   "source": [
    "table['not_a'] = table['a'] < 0\n",
    "table"
   ]
  },
  {
   "cell_type": "markdown",
   "metadata": {},
   "source": [
    "# Operations\n",
    "\n",
    "Tables aren't meant to be operated on directly. Instead, you should operate on their data, e.g.:"
   ]
  },
  {
   "cell_type": "code",
   "execution_count": 159,
   "metadata": {
    "collapsed": false
   },
   "outputs": [
    {
     "ename": "TypeError",
     "evalue": "unsupported operand type(s) for +: 'Table' and 'int'",
     "output_type": "error",
     "traceback": [
      "\u001b[0;31m---------------------------------------------------------------------------\u001b[0m",
      "\u001b[0;31mTypeError\u001b[0m                                 Traceback (most recent call last)",
      "\u001b[0;32m<ipython-input-159-c997955f9c10>\u001b[0m in \u001b[0;36m<module>\u001b[0;34m()\u001b[0m\n\u001b[0;32m----> 1\u001b[0;31m \u001b[0mtable\u001b[0m \u001b[0;34m+\u001b[0m \u001b[0;36m2\u001b[0m\u001b[0;34m\u001b[0m\u001b[0m\n\u001b[0m",
      "\u001b[0;31mTypeError\u001b[0m: unsupported operand type(s) for +: 'Table' and 'int'"
     ]
    }
   ],
   "source": [
    "table + 2"
   ]
  },
  {
   "cell_type": "code",
   "execution_count": 161,
   "metadata": {
    "collapsed": false
   },
   "outputs": [],
   "source": [
    "table['a+2'] = table['a'] + 2"
   ]
  },
  {
   "cell_type": "markdown",
   "metadata": {},
   "source": [
    "It is possible to do some simple statistics on the table object as well."
   ]
  },
  {
   "cell_type": "code",
   "execution_count": null,
   "metadata": {
    "collapsed": true
   },
   "outputs": [],
   "source": [
    "np.mean(table)"
   ]
  },
  {
   "cell_type": "markdown",
   "metadata": {},
   "source": [
    "Or you can apply an arbitrary function to a specific column:"
   ]
  },
  {
   "cell_type": "code",
   "execution_count": 180,
   "metadata": {
    "collapsed": false
   },
   "outputs": [
    {
     "data": {
      "text/plain": [
       "array(['chris', 'chris', 'chris', 'chris', 'chris'], \n",
       "      dtype='<U5')"
      ]
     },
     "execution_count": 180,
     "metadata": {},
     "output_type": "execute_result"
    }
   ],
   "source": [
    "def turn_into_chris(i):\n",
    "    return 'chris'\n",
    "\n",
    "# *each row* of the column will be passed to our function\n",
    "table['a_chris'] = table.apply(turn_into_chris, 'a')\n",
    "table['a_chris'][:5]"
   ]
  },
  {
   "cell_type": "markdown",
   "metadata": {},
   "source": [
    "# Merging / joining / etc"
   ]
  },
  {
   "cell_type": "code",
   "execution_count": null,
   "metadata": {
    "collapsed": true
   },
   "outputs": [],
   "source": []
  },
  {
   "cell_type": "markdown",
   "metadata": {},
   "source": [
    "# Grouping"
   ]
  },
  {
   "cell_type": "code",
   "execution_count": null,
   "metadata": {
    "collapsed": true
   },
   "outputs": [],
   "source": []
  },
  {
   "cell_type": "code",
   "execution_count": null,
   "metadata": {
    "collapsed": true
   },
   "outputs": [],
   "source": []
  },
  {
   "cell_type": "markdown",
   "metadata": {},
   "source": [
    "# Plotting\n",
    "There are a few plotting methods associated with a Table object. These can do some quick visualizations of your data."
   ]
  },
  {
   "cell_type": "code",
   "execution_count": 182,
   "metadata": {
    "collapsed": false
   },
   "outputs": [
    {
     "ename": "ValueError",
     "evalue": "could not convert string to float: 'chris'",
     "output_type": "error",
     "traceback": [
      "\u001b[0;31m---------------------------------------------------------------------------\u001b[0m",
      "\u001b[0;31mValueError\u001b[0m                                Traceback (most recent call last)",
      "\u001b[0;32m<ipython-input-182-f286eebdf12f>\u001b[0m in \u001b[0;36m<module>\u001b[0;34m()\u001b[0m\n\u001b[0;32m----> 1\u001b[0;31m \u001b[0mtable\u001b[0m\u001b[0;34m.\u001b[0m\u001b[0mplot\u001b[0m\u001b[0;34m(\u001b[0m\u001b[0;34m'c'\u001b[0m\u001b[0;34m)\u001b[0m\u001b[0;34m\u001b[0m\u001b[0m\n\u001b[0m",
      "\u001b[0;32m/Users/choldgraf/anaconda/envs/python3/lib/python3.4/site-packages/datascience/tables.py\u001b[0m in \u001b[0;36mplot\u001b[0;34m(self, column_for_xticks, overlay, **vargs)\u001b[0m\n\u001b[1;32m    760\u001b[0m \u001b[0;31m#            axis.set_xticklabels(ticks, rotation='vertical')\u001b[0m\u001b[0;34m\u001b[0m\u001b[0;34m\u001b[0m\u001b[0m\n\u001b[1;32m    761\u001b[0m             \u001b[0;32mreturn\u001b[0m \u001b[0;32mNone\u001b[0m\u001b[0;34m\u001b[0m\u001b[0m\n\u001b[0;32m--> 762\u001b[0;31m         \u001b[0mself\u001b[0m\u001b[0;34m.\u001b[0m\u001b[0m_visualize\u001b[0m\u001b[0;34m(\u001b[0m\u001b[0mlabels\u001b[0m\u001b[0;34m,\u001b[0m \u001b[0mxticks\u001b[0m\u001b[0;34m,\u001b[0m \u001b[0moverlay\u001b[0m\u001b[0;34m,\u001b[0m \u001b[0mdraw\u001b[0m\u001b[0;34m,\u001b[0m \u001b[0mannotate\u001b[0m\u001b[0;34m)\u001b[0m\u001b[0;34m\u001b[0m\u001b[0m\n\u001b[0m\u001b[1;32m    763\u001b[0m \u001b[0;34m\u001b[0m\u001b[0m\n\u001b[1;32m    764\u001b[0m     \u001b[0;32mdef\u001b[0m \u001b[0mscatter\u001b[0m\u001b[0;34m(\u001b[0m\u001b[0mself\u001b[0m\u001b[0;34m,\u001b[0m \u001b[0mcolumn_for_x\u001b[0m\u001b[0;34m,\u001b[0m \u001b[0moverlay\u001b[0m\u001b[0;34m=\u001b[0m\u001b[0;32mFalse\u001b[0m\u001b[0;34m,\u001b[0m \u001b[0mfit_line\u001b[0m\u001b[0;34m=\u001b[0m\u001b[0;32mFalse\u001b[0m\u001b[0;34m,\u001b[0m \u001b[0;34m**\u001b[0m\u001b[0mvargs\u001b[0m\u001b[0;34m)\u001b[0m\u001b[0;34m:\u001b[0m\u001b[0;34m\u001b[0m\u001b[0m\n",
      "\u001b[0;32m/Users/choldgraf/anaconda/envs/python3/lib/python3.4/site-packages/datascience/tables.py\u001b[0m in \u001b[0;36m_visualize\u001b[0;34m(self, labels, ticks, overlay, draw, annotate, width, height)\u001b[0m\n\u001b[1;32m    984\u001b[0m                 \u001b[0maxes\u001b[0m\u001b[0;34m=\u001b[0m\u001b[0;34m[\u001b[0m\u001b[0maxes\u001b[0m\u001b[0;34m]\u001b[0m\u001b[0;34m\u001b[0m\u001b[0m\n\u001b[1;32m    985\u001b[0m             \u001b[0;32mfor\u001b[0m \u001b[0maxis\u001b[0m\u001b[0;34m,\u001b[0m \u001b[0mlabel\u001b[0m\u001b[0;34m,\u001b[0m \u001b[0mcolor\u001b[0m \u001b[0;32min\u001b[0m \u001b[0mzip\u001b[0m\u001b[0;34m(\u001b[0m\u001b[0maxes\u001b[0m\u001b[0;34m,\u001b[0m \u001b[0mlabels\u001b[0m\u001b[0;34m,\u001b[0m \u001b[0mcolors\u001b[0m\u001b[0;34m)\u001b[0m\u001b[0;34m:\u001b[0m\u001b[0;34m\u001b[0m\u001b[0m\n\u001b[0;32m--> 986\u001b[0;31m                 \u001b[0mdraw\u001b[0m\u001b[0;34m(\u001b[0m\u001b[0maxis\u001b[0m\u001b[0;34m,\u001b[0m \u001b[0mlabel\u001b[0m\u001b[0;34m,\u001b[0m \u001b[0mcolor\u001b[0m\u001b[0;34m)\u001b[0m\u001b[0;34m\u001b[0m\u001b[0m\n\u001b[0m\u001b[1;32m    987\u001b[0m                 \u001b[0maxis\u001b[0m\u001b[0;34m.\u001b[0m\u001b[0mset_xlabel\u001b[0m\u001b[0;34m(\u001b[0m\u001b[0mlabel\u001b[0m\u001b[0;34m,\u001b[0m \u001b[0mfontsize\u001b[0m\u001b[0;34m=\u001b[0m\u001b[0;36m16\u001b[0m\u001b[0;34m)\u001b[0m\u001b[0;34m\u001b[0m\u001b[0m\n\u001b[1;32m    988\u001b[0m                 \u001b[0;32mif\u001b[0m \u001b[0mticks\u001b[0m \u001b[0;32mis\u001b[0m \u001b[0;32mnot\u001b[0m \u001b[0;32mNone\u001b[0m\u001b[0;34m:\u001b[0m\u001b[0;34m\u001b[0m\u001b[0m\n",
      "\u001b[0;32m/Users/choldgraf/anaconda/envs/python3/lib/python3.4/site-packages/datascience/tables.py\u001b[0m in \u001b[0;36mdraw\u001b[0;34m(axis, label, color)\u001b[0m\n\u001b[1;32m    756\u001b[0m                 \u001b[0maxis\u001b[0m\u001b[0;34m.\u001b[0m\u001b[0mplot\u001b[0m\u001b[0;34m(\u001b[0m\u001b[0mself\u001b[0m\u001b[0;34m[\u001b[0m\u001b[0mlabel\u001b[0m\u001b[0;34m]\u001b[0m\u001b[0;34m,\u001b[0m \u001b[0mcolor\u001b[0m\u001b[0;34m=\u001b[0m\u001b[0mcolor\u001b[0m\u001b[0;34m,\u001b[0m \u001b[0;34m**\u001b[0m\u001b[0moptions\u001b[0m\u001b[0;34m)\u001b[0m\u001b[0;34m\u001b[0m\u001b[0m\n\u001b[1;32m    757\u001b[0m             \u001b[0;32melse\u001b[0m \u001b[0;34m:\u001b[0m\u001b[0;34m\u001b[0m\u001b[0m\n\u001b[0;32m--> 758\u001b[0;31m                 \u001b[0maxis\u001b[0m\u001b[0;34m.\u001b[0m\u001b[0mplot\u001b[0m\u001b[0;34m(\u001b[0m\u001b[0mxticks\u001b[0m\u001b[0;34m,\u001b[0m \u001b[0mself\u001b[0m\u001b[0;34m[\u001b[0m\u001b[0mlabel\u001b[0m\u001b[0;34m]\u001b[0m\u001b[0;34m,\u001b[0m \u001b[0mcolor\u001b[0m\u001b[0;34m=\u001b[0m\u001b[0mcolor\u001b[0m\u001b[0;34m,\u001b[0m \u001b[0;34m**\u001b[0m\u001b[0moptions\u001b[0m\u001b[0;34m)\u001b[0m\u001b[0;34m\u001b[0m\u001b[0m\n\u001b[0m\u001b[1;32m    759\u001b[0m         \u001b[0;32mdef\u001b[0m \u001b[0mannotate\u001b[0m\u001b[0;34m(\u001b[0m\u001b[0maxis\u001b[0m\u001b[0;34m,\u001b[0m \u001b[0mticks\u001b[0m\u001b[0;34m)\u001b[0m\u001b[0;34m:\u001b[0m\u001b[0;34m\u001b[0m\u001b[0m\n\u001b[1;32m    760\u001b[0m \u001b[0;31m#            axis.set_xticklabels(ticks, rotation='vertical')\u001b[0m\u001b[0;34m\u001b[0m\u001b[0;34m\u001b[0m\u001b[0m\n",
      "\u001b[0;32m/Users/choldgraf/anaconda/envs/python3/lib/python3.4/site-packages/matplotlib/__init__.py\u001b[0m in \u001b[0;36minner\u001b[0;34m(ax, *args, **kwargs)\u001b[0m\n\u001b[1;32m   1809\u001b[0m                     warnings.warn(msg % (label_namer, func.__name__),\n\u001b[1;32m   1810\u001b[0m                                   RuntimeWarning, stacklevel=2)\n\u001b[0;32m-> 1811\u001b[0;31m             \u001b[0;32mreturn\u001b[0m \u001b[0mfunc\u001b[0m\u001b[0;34m(\u001b[0m\u001b[0max\u001b[0m\u001b[0;34m,\u001b[0m \u001b[0;34m*\u001b[0m\u001b[0margs\u001b[0m\u001b[0;34m,\u001b[0m \u001b[0;34m**\u001b[0m\u001b[0mkwargs\u001b[0m\u001b[0;34m)\u001b[0m\u001b[0;34m\u001b[0m\u001b[0m\n\u001b[0m\u001b[1;32m   1812\u001b[0m         \u001b[0mpre_doc\u001b[0m \u001b[0;34m=\u001b[0m \u001b[0minner\u001b[0m\u001b[0;34m.\u001b[0m\u001b[0m__doc__\u001b[0m\u001b[0;34m\u001b[0m\u001b[0m\n\u001b[1;32m   1813\u001b[0m         \u001b[0;32mif\u001b[0m \u001b[0mpre_doc\u001b[0m \u001b[0;32mis\u001b[0m \u001b[0;32mNone\u001b[0m\u001b[0;34m:\u001b[0m\u001b[0;34m\u001b[0m\u001b[0m\n",
      "\u001b[0;32m/Users/choldgraf/anaconda/envs/python3/lib/python3.4/site-packages/matplotlib/axes/_axes.py\u001b[0m in \u001b[0;36mplot\u001b[0;34m(self, *args, **kwargs)\u001b[0m\n\u001b[1;32m   1426\u001b[0m \u001b[0;34m\u001b[0m\u001b[0m\n\u001b[1;32m   1427\u001b[0m         \u001b[0;32mfor\u001b[0m \u001b[0mline\u001b[0m \u001b[0;32min\u001b[0m \u001b[0mself\u001b[0m\u001b[0;34m.\u001b[0m\u001b[0m_get_lines\u001b[0m\u001b[0;34m(\u001b[0m\u001b[0;34m*\u001b[0m\u001b[0margs\u001b[0m\u001b[0;34m,\u001b[0m \u001b[0;34m**\u001b[0m\u001b[0mkwargs\u001b[0m\u001b[0;34m)\u001b[0m\u001b[0;34m:\u001b[0m\u001b[0;34m\u001b[0m\u001b[0m\n\u001b[0;32m-> 1428\u001b[0;31m             \u001b[0mself\u001b[0m\u001b[0;34m.\u001b[0m\u001b[0madd_line\u001b[0m\u001b[0;34m(\u001b[0m\u001b[0mline\u001b[0m\u001b[0;34m)\u001b[0m\u001b[0;34m\u001b[0m\u001b[0m\n\u001b[0m\u001b[1;32m   1429\u001b[0m             \u001b[0mlines\u001b[0m\u001b[0;34m.\u001b[0m\u001b[0mappend\u001b[0m\u001b[0;34m(\u001b[0m\u001b[0mline\u001b[0m\u001b[0;34m)\u001b[0m\u001b[0;34m\u001b[0m\u001b[0m\n\u001b[1;32m   1430\u001b[0m \u001b[0;34m\u001b[0m\u001b[0m\n",
      "\u001b[0;32m/Users/choldgraf/anaconda/envs/python3/lib/python3.4/site-packages/matplotlib/axes/_base.py\u001b[0m in \u001b[0;36madd_line\u001b[0;34m(self, line)\u001b[0m\n\u001b[1;32m   1697\u001b[0m             \u001b[0mline\u001b[0m\u001b[0;34m.\u001b[0m\u001b[0mset_clip_path\u001b[0m\u001b[0;34m(\u001b[0m\u001b[0mself\u001b[0m\u001b[0;34m.\u001b[0m\u001b[0mpatch\u001b[0m\u001b[0;34m)\u001b[0m\u001b[0;34m\u001b[0m\u001b[0m\n\u001b[1;32m   1698\u001b[0m \u001b[0;34m\u001b[0m\u001b[0m\n\u001b[0;32m-> 1699\u001b[0;31m         \u001b[0mself\u001b[0m\u001b[0;34m.\u001b[0m\u001b[0m_update_line_limits\u001b[0m\u001b[0;34m(\u001b[0m\u001b[0mline\u001b[0m\u001b[0;34m)\u001b[0m\u001b[0;34m\u001b[0m\u001b[0m\n\u001b[0m\u001b[1;32m   1700\u001b[0m         \u001b[0;32mif\u001b[0m \u001b[0;32mnot\u001b[0m \u001b[0mline\u001b[0m\u001b[0;34m.\u001b[0m\u001b[0mget_label\u001b[0m\u001b[0;34m(\u001b[0m\u001b[0;34m)\u001b[0m\u001b[0;34m:\u001b[0m\u001b[0;34m\u001b[0m\u001b[0m\n\u001b[1;32m   1701\u001b[0m             \u001b[0mline\u001b[0m\u001b[0;34m.\u001b[0m\u001b[0mset_label\u001b[0m\u001b[0;34m(\u001b[0m\u001b[0;34m'_line%d'\u001b[0m \u001b[0;34m%\u001b[0m \u001b[0mlen\u001b[0m\u001b[0;34m(\u001b[0m\u001b[0mself\u001b[0m\u001b[0;34m.\u001b[0m\u001b[0mlines\u001b[0m\u001b[0;34m)\u001b[0m\u001b[0;34m)\u001b[0m\u001b[0;34m\u001b[0m\u001b[0m\n",
      "\u001b[0;32m/Users/choldgraf/anaconda/envs/python3/lib/python3.4/site-packages/matplotlib/axes/_base.py\u001b[0m in \u001b[0;36m_update_line_limits\u001b[0;34m(self, line)\u001b[0m\n\u001b[1;32m   1708\u001b[0m         \u001b[0mFigures\u001b[0m \u001b[0mout\u001b[0m \u001b[0mthe\u001b[0m \u001b[0mdata\u001b[0m \u001b[0mlimit\u001b[0m \u001b[0mof\u001b[0m \u001b[0mthe\u001b[0m \u001b[0mgiven\u001b[0m \u001b[0mline\u001b[0m\u001b[0;34m,\u001b[0m \u001b[0mupdating\u001b[0m \u001b[0mself\u001b[0m\u001b[0;34m.\u001b[0m\u001b[0mdataLim\u001b[0m\u001b[0;34m.\u001b[0m\u001b[0;34m\u001b[0m\u001b[0m\n\u001b[1;32m   1709\u001b[0m         \"\"\"\n\u001b[0;32m-> 1710\u001b[0;31m         \u001b[0mpath\u001b[0m \u001b[0;34m=\u001b[0m \u001b[0mline\u001b[0m\u001b[0;34m.\u001b[0m\u001b[0mget_path\u001b[0m\u001b[0;34m(\u001b[0m\u001b[0;34m)\u001b[0m\u001b[0;34m\u001b[0m\u001b[0m\n\u001b[0m\u001b[1;32m   1711\u001b[0m         \u001b[0;32mif\u001b[0m \u001b[0mpath\u001b[0m\u001b[0;34m.\u001b[0m\u001b[0mvertices\u001b[0m\u001b[0;34m.\u001b[0m\u001b[0msize\u001b[0m \u001b[0;34m==\u001b[0m \u001b[0;36m0\u001b[0m\u001b[0;34m:\u001b[0m\u001b[0;34m\u001b[0m\u001b[0m\n\u001b[1;32m   1712\u001b[0m             \u001b[0;32mreturn\u001b[0m\u001b[0;34m\u001b[0m\u001b[0m\n",
      "\u001b[0;32m/Users/choldgraf/anaconda/envs/python3/lib/python3.4/site-packages/matplotlib/lines.py\u001b[0m in \u001b[0;36mget_path\u001b[0;34m(self)\u001b[0m\n\u001b[1;32m    924\u001b[0m         \"\"\"\n\u001b[1;32m    925\u001b[0m         \u001b[0;32mif\u001b[0m \u001b[0mself\u001b[0m\u001b[0;34m.\u001b[0m\u001b[0m_invalidy\u001b[0m \u001b[0;32mor\u001b[0m \u001b[0mself\u001b[0m\u001b[0;34m.\u001b[0m\u001b[0m_invalidx\u001b[0m\u001b[0;34m:\u001b[0m\u001b[0;34m\u001b[0m\u001b[0m\n\u001b[0;32m--> 926\u001b[0;31m             \u001b[0mself\u001b[0m\u001b[0;34m.\u001b[0m\u001b[0mrecache\u001b[0m\u001b[0;34m(\u001b[0m\u001b[0;34m)\u001b[0m\u001b[0;34m\u001b[0m\u001b[0m\n\u001b[0m\u001b[1;32m    927\u001b[0m         \u001b[0;32mreturn\u001b[0m \u001b[0mself\u001b[0m\u001b[0;34m.\u001b[0m\u001b[0m_path\u001b[0m\u001b[0;34m\u001b[0m\u001b[0m\n\u001b[1;32m    928\u001b[0m \u001b[0;34m\u001b[0m\u001b[0m\n",
      "\u001b[0;32m/Users/choldgraf/anaconda/envs/python3/lib/python3.4/site-packages/matplotlib/lines.py\u001b[0m in \u001b[0;36mrecache\u001b[0;34m(self, always)\u001b[0m\n\u001b[1;32m    618\u001b[0m                 \u001b[0my\u001b[0m \u001b[0;34m=\u001b[0m \u001b[0mma\u001b[0m\u001b[0;34m.\u001b[0m\u001b[0masarray\u001b[0m\u001b[0;34m(\u001b[0m\u001b[0myconv\u001b[0m\u001b[0;34m,\u001b[0m \u001b[0mnp\u001b[0m\u001b[0;34m.\u001b[0m\u001b[0mfloat_\u001b[0m\u001b[0;34m)\u001b[0m\u001b[0;34m.\u001b[0m\u001b[0mfilled\u001b[0m\u001b[0;34m(\u001b[0m\u001b[0mnp\u001b[0m\u001b[0;34m.\u001b[0m\u001b[0mnan\u001b[0m\u001b[0;34m)\u001b[0m\u001b[0;34m\u001b[0m\u001b[0m\n\u001b[1;32m    619\u001b[0m             \u001b[0;32melse\u001b[0m\u001b[0;34m:\u001b[0m\u001b[0;34m\u001b[0m\u001b[0m\n\u001b[0;32m--> 620\u001b[0;31m                 \u001b[0my\u001b[0m \u001b[0;34m=\u001b[0m \u001b[0mnp\u001b[0m\u001b[0;34m.\u001b[0m\u001b[0masarray\u001b[0m\u001b[0;34m(\u001b[0m\u001b[0myconv\u001b[0m\u001b[0;34m,\u001b[0m \u001b[0mnp\u001b[0m\u001b[0;34m.\u001b[0m\u001b[0mfloat_\u001b[0m\u001b[0;34m)\u001b[0m\u001b[0;34m\u001b[0m\u001b[0m\n\u001b[0m\u001b[1;32m    621\u001b[0m             \u001b[0my\u001b[0m \u001b[0;34m=\u001b[0m \u001b[0my\u001b[0m\u001b[0;34m.\u001b[0m\u001b[0mravel\u001b[0m\u001b[0;34m(\u001b[0m\u001b[0;34m)\u001b[0m\u001b[0;34m\u001b[0m\u001b[0m\n\u001b[1;32m    622\u001b[0m         \u001b[0;32melse\u001b[0m\u001b[0;34m:\u001b[0m\u001b[0;34m\u001b[0m\u001b[0m\n",
      "\u001b[0;32m/Users/choldgraf/anaconda/envs/python3/lib/python3.4/site-packages/numpy/core/numeric.py\u001b[0m in \u001b[0;36masarray\u001b[0;34m(a, dtype, order)\u001b[0m\n\u001b[1;32m    472\u001b[0m \u001b[0;34m\u001b[0m\u001b[0m\n\u001b[1;32m    473\u001b[0m     \"\"\"\n\u001b[0;32m--> 474\u001b[0;31m     \u001b[0;32mreturn\u001b[0m \u001b[0marray\u001b[0m\u001b[0;34m(\u001b[0m\u001b[0ma\u001b[0m\u001b[0;34m,\u001b[0m \u001b[0mdtype\u001b[0m\u001b[0;34m,\u001b[0m \u001b[0mcopy\u001b[0m\u001b[0;34m=\u001b[0m\u001b[0;32mFalse\u001b[0m\u001b[0;34m,\u001b[0m \u001b[0morder\u001b[0m\u001b[0;34m=\u001b[0m\u001b[0morder\u001b[0m\u001b[0;34m)\u001b[0m\u001b[0;34m\u001b[0m\u001b[0m\n\u001b[0m\u001b[1;32m    475\u001b[0m \u001b[0;34m\u001b[0m\u001b[0m\n\u001b[1;32m    476\u001b[0m \u001b[0;32mdef\u001b[0m \u001b[0masanyarray\u001b[0m\u001b[0;34m(\u001b[0m\u001b[0ma\u001b[0m\u001b[0;34m,\u001b[0m \u001b[0mdtype\u001b[0m\u001b[0;34m=\u001b[0m\u001b[0;32mNone\u001b[0m\u001b[0;34m,\u001b[0m \u001b[0morder\u001b[0m\u001b[0;34m=\u001b[0m\u001b[0;32mNone\u001b[0m\u001b[0;34m)\u001b[0m\u001b[0;34m:\u001b[0m\u001b[0;34m\u001b[0m\u001b[0m\n",
      "\u001b[0;31mValueError\u001b[0m: could not convert string to float: 'chris'"
     ]
    }
   ],
   "source": [
    "table.plot('c')"
   ]
  },
  {
   "cell_type": "code",
   "execution_count": null,
   "metadata": {
    "collapsed": true
   },
   "outputs": [],
   "source": []
  },
  {
   "cell_type": "code",
   "execution_count": null,
   "metadata": {
    "collapsed": true
   },
   "outputs": [],
   "source": []
  },
  {
   "cell_type": "markdown",
   "metadata": {},
   "source": [
    "# Pivot tables"
   ]
  },
  {
   "cell_type": "code",
   "execution_count": null,
   "metadata": {
    "collapsed": true
   },
   "outputs": [],
   "source": []
  },
  {
   "cell_type": "code",
   "execution_count": null,
   "metadata": {
    "collapsed": true
   },
   "outputs": [],
   "source": []
  },
  {
   "cell_type": "code",
   "execution_count": null,
   "metadata": {
    "collapsed": true
   },
   "outputs": [],
   "source": []
  },
  {
   "cell_type": "markdown",
   "metadata": {},
   "source": [
    "# IO"
   ]
  },
  {
   "cell_type": "code",
   "execution_count": null,
   "metadata": {
    "collapsed": true
   },
   "outputs": [],
   "source": []
  }
 ],
 "metadata": {
  "kernelspec": {
   "display_name": "Python 3",
   "language": "python",
   "name": "python3"
  },
  "language_info": {
   "codemirror_mode": {
    "name": "ipython",
    "version": 3
   },
   "file_extension": ".py",
   "mimetype": "text/x-python",
   "name": "python",
   "nbconvert_exporter": "python",
   "pygments_lexer": "ipython3",
   "version": "3.4.3"
  }
 },
 "nbformat": 4,
 "nbformat_minor": 0
}

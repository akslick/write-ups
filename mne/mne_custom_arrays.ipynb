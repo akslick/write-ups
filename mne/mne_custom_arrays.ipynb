{
 "metadata": {
  "name": "",
  "signature": "sha256:9f7e84b98b69106154570ce273b2cc27fbf6e5318b2adc985361187ffc5d8eb1"
 },
 "nbformat": 3,
 "nbformat_minor": 0,
 "worksheets": [
  {
   "cells": [
    {
     "cell_type": "code",
     "collapsed": false,
     "input": [
      "import tables as tbls\n",
      "import numpy as np\n",
      "import pandas as pd\n",
      "import scipy as sp\n",
      "import tables as tbl\n",
      "import ecog as ecg\n",
      "import mne\n",
      "\n",
      "mne.set_log_level('ERROR')"
     ],
     "language": "python",
     "metadata": {},
     "outputs": [],
     "prompt_number": 75
    },
    {
     "cell_type": "markdown",
     "metadata": {},
     "source": [
      "MNE is a really useful package for neuroscience analysis, however it can be a bit frustrating if your data isn't already in the correct format.\n",
      "\n",
      "While it does a great job of reading in data from a number of well-used formats, it's less clear how to import data that has arbitrary metadata.\n",
      "\n",
      "Fortunately, it is possible to turn any array into an MNE object, here are a few examples:"
     ]
    },
    {
     "cell_type": "heading",
     "level": 1,
     "metadata": {},
     "source": [
      "Our data"
     ]
    },
    {
     "cell_type": "markdown",
     "metadata": {},
     "source": [
      "First we'll load our data. This is an object that I've written to store electrocorticography data. Turns out it's quite similar to MNE Raw objects (I wrote this before I knew about MNE). However, there are a few differences."
     ]
    },
    {
     "cell_type": "code",
     "collapsed": false,
     "input": [
      "data_path = '../data/ecog_test_data.h5'\n",
      "\n",
      "# First we list what's in the HDF file\n",
      "with tbl.open_file(data_path, 'r') as f:\n",
      "    print(f.list_nodes('/'))"
     ],
     "language": "python",
     "metadata": {},
     "outputs": [
      {
       "output_type": "stream",
       "stream": "stdout",
       "text": [
        "[/preproc (Group) ''\n",
        "  children := ['signal' (Group)]]\n"
       ]
      }
     ],
     "prompt_number": 6
    },
    {
     "cell_type": "markdown",
     "metadata": {},
     "source": [
      "The data is stored in an HDF file (one per data type). MNE uses FIF files for storage, which is probably a better idea than using HDF5 (it's easier to glance at quickly, anyway). Here we'll load a dataset from HDF."
     ]
    },
    {
     "cell_type": "code",
     "collapsed": false,
     "input": [
      "ecog = ecg.struct.Ecog.from_hdf(data_path, 'preproc')"
     ],
     "language": "python",
     "metadata": {},
     "outputs": [
      {
       "output_type": "stream",
       "stream": "stdout",
       "text": [
        "Loading data type: preproc\n"
       ]
      }
     ],
     "prompt_number": 7
    },
    {
     "cell_type": "markdown",
     "metadata": {},
     "source": [
      "Our dataset consists of three main things:"
     ]
    },
    {
     "cell_type": "code",
     "collapsed": false,
     "input": [
      "# The signal itself. This is a dataframe of shape times x electrodes\n",
      "signal = ecog.signal\n",
      "\n",
      "# Information about time, this is of shape times x event_types\n",
      "signal_metadata = ecog.signalmetadata\n",
      "\n",
      "# Information about signal columns (aka the electrodes).\n",
      "# This has information about each signal\n",
      "col_metadata = ecog.colmetadata"
     ],
     "language": "python",
     "metadata": {},
     "outputs": [],
     "prompt_number": 9
    },
    {
     "cell_type": "code",
     "collapsed": false,
     "input": [
      "# The columns tell us the numbering of electrodes\n",
      "# (some are excluded to keep size down)\n",
      "signal.head()"
     ],
     "language": "python",
     "metadata": {},
     "outputs": [
      {
       "html": [
        "<div style=\"max-height:1000px;max-width:1500px;overflow:auto;\">\n",
        "<table border=\"1\" class=\"dataframe\">\n",
        "  <thead>\n",
        "    <tr style=\"text-align: right;\">\n",
        "      <th></th>\n",
        "      <th>15</th>\n",
        "      <th>17</th>\n",
        "      <th>37</th>\n",
        "      <th>41</th>\n",
        "      <th>44</th>\n",
        "      <th>45</th>\n",
        "      <th>46</th>\n",
        "      <th>50</th>\n",
        "      <th>51</th>\n",
        "      <th>52</th>\n",
        "      <th>56</th>\n",
        "      <th>64</th>\n",
        "      <th>73</th>\n",
        "      <th>99</th>\n",
        "      <th>1</th>\n",
        "      <th>2</th>\n",
        "      <th>3</th>\n",
        "    </tr>\n",
        "  </thead>\n",
        "  <tbody>\n",
        "    <tr>\n",
        "      <th>0</th>\n",
        "      <td>  0.004520</td>\n",
        "      <td>  0.002658</td>\n",
        "      <td> -0.004105</td>\n",
        "      <td> -0.001286</td>\n",
        "      <td> -0.000201</td>\n",
        "      <td> -0.005273</td>\n",
        "      <td> -0.003602</td>\n",
        "      <td> -0.000276</td>\n",
        "      <td>  0.002896</td>\n",
        "      <td>  0.010978</td>\n",
        "      <td>  0.020638</td>\n",
        "      <td> -0.002650</td>\n",
        "      <td>  0.010530</td>\n",
        "      <td> -0.007774</td>\n",
        "      <td>  -0.003315</td>\n",
        "      <td>  0.001959</td>\n",
        "      <td>   0.002197</td>\n",
        "    </tr>\n",
        "    <tr>\n",
        "      <th>1</th>\n",
        "      <td> -1.526986</td>\n",
        "      <td>  0.315963</td>\n",
        "      <td> 13.155448</td>\n",
        "      <td> -3.165523</td>\n",
        "      <td> -6.385169</td>\n",
        "      <td> 16.644363</td>\n",
        "      <td>  6.910544</td>\n",
        "      <td> -1.648400</td>\n",
        "      <td>  0.437847</td>\n",
        "      <td>-11.921830</td>\n",
        "      <td>-10.834771</td>\n",
        "      <td>-38.719101</td>\n",
        "      <td>-14.088986</td>\n",
        "      <td> -4.491905</td>\n",
        "      <td>  19.961140</td>\n",
        "      <td>-22.455936</td>\n",
        "      <td> -66.236923</td>\n",
        "    </tr>\n",
        "    <tr>\n",
        "      <th>2</th>\n",
        "      <td> -1.422120</td>\n",
        "      <td>-19.497183</td>\n",
        "      <td> 16.525335</td>\n",
        "      <td>-20.649153</td>\n",
        "      <td>-22.866926</td>\n",
        "      <td> 33.721626</td>\n",
        "      <td>  4.944103</td>\n",
        "      <td> -8.603627</td>\n",
        "      <td> 27.830568</td>\n",
        "      <td>-22.197449</td>\n",
        "      <td>-13.799061</td>\n",
        "      <td>-70.135933</td>\n",
        "      <td>-16.471163</td>\n",
        "      <td>-14.123781</td>\n",
        "      <td>  35.884205</td>\n",
        "      <td>-60.187462</td>\n",
        "      <td>-128.811142</td>\n",
        "    </tr>\n",
        "    <tr>\n",
        "      <th>3</th>\n",
        "      <td>  6.805512</td>\n",
        "      <td>-27.401836</td>\n",
        "      <td> -1.102750</td>\n",
        "      <td>-38.939083</td>\n",
        "      <td> -6.650887</td>\n",
        "      <td> 67.096718</td>\n",
        "      <td> 27.449776</td>\n",
        "      <td>-10.817832</td>\n",
        "      <td> 35.814701</td>\n",
        "      <td>-16.095373</td>\n",
        "      <td> -8.781449</td>\n",
        "      <td>  5.875798</td>\n",
        "      <td>-22.695503</td>\n",
        "      <td>-25.701094</td>\n",
        "      <td>  71.081718</td>\n",
        "      <td> 25.606256</td>\n",
        "      <td>-202.977890</td>\n",
        "    </tr>\n",
        "    <tr>\n",
        "      <th>4</th>\n",
        "      <td> 20.734819</td>\n",
        "      <td>-22.095417</td>\n",
        "      <td>-33.564865</td>\n",
        "      <td>-45.877670</td>\n",
        "      <td> -9.404521</td>\n",
        "      <td> 90.973648</td>\n",
        "      <td> 31.560244</td>\n",
        "      <td>-12.598951</td>\n",
        "      <td> 42.711014</td>\n",
        "      <td>-17.056608</td>\n",
        "      <td>-10.337040</td>\n",
        "      <td> -7.250171</td>\n",
        "      <td>-28.182587</td>\n",
        "      <td>-35.939648</td>\n",
        "      <td> 106.793663</td>\n",
        "      <td> 35.182869</td>\n",
        "      <td>-302.112305</td>\n",
        "    </tr>\n",
        "  </tbody>\n",
        "</table>\n",
        "</div>"
       ],
       "metadata": {},
       "output_type": "pyout",
       "prompt_number": 12,
       "text": [
        "          15         17         37         41         44         45  \\\n",
        "0   0.004520   0.002658  -0.004105  -0.001286  -0.000201  -0.005273   \n",
        "1  -1.526986   0.315963  13.155448  -3.165523  -6.385169  16.644363   \n",
        "2  -1.422120 -19.497183  16.525335 -20.649153 -22.866926  33.721626   \n",
        "3   6.805512 -27.401836  -1.102750 -38.939083  -6.650887  67.096718   \n",
        "4  20.734819 -22.095417 -33.564865 -45.877670  -9.404521  90.973648   \n",
        "\n",
        "          46         50         51         52         56         64  \\\n",
        "0  -0.003602  -0.000276   0.002896   0.010978   0.020638  -0.002650   \n",
        "1   6.910544  -1.648400   0.437847 -11.921830 -10.834771 -38.719101   \n",
        "2   4.944103  -8.603627  27.830568 -22.197449 -13.799061 -70.135933   \n",
        "3  27.449776 -10.817832  35.814701 -16.095373  -8.781449   5.875798   \n",
        "4  31.560244 -12.598951  42.711014 -17.056608 -10.337040  -7.250171   \n",
        "\n",
        "          73         99          1          2           3   \n",
        "0   0.010530  -0.007774   -0.003315   0.001959    0.002197  \n",
        "1 -14.088986  -4.491905   19.961140 -22.455936  -66.236923  \n",
        "2 -16.471163 -14.123781   35.884205 -60.187462 -128.811142  \n",
        "3 -22.695503 -25.701094   71.081718  25.606256 -202.977890  \n",
        "4 -28.182587 -35.939648  106.793663  35.182869 -302.112305  "
       ]
      }
     ],
     "prompt_number": 12
    },
    {
     "cell_type": "code",
     "collapsed": false,
     "input": [
      "# This is the same length as signal.\n",
      "# -1 means there's no event, anything else is information about an event\n",
      "signal_metadata.head()"
     ],
     "language": "python",
     "metadata": {},
     "outputs": [
      {
       "html": [
        "<div style=\"max-height:1000px;max-width:1500px;overflow:auto;\">\n",
        "<table border=\"1\" class=\"dataframe\">\n",
        "  <thead>\n",
        "    <tr style=\"text-align: right;\">\n",
        "      <th></th>\n",
        "      <th>_notes</th>\n",
        "      <th>badpts</th>\n",
        "      <th>noise_trial</th>\n",
        "      <th>stim_name</th>\n",
        "      <th>t_base</th>\n",
        "      <th>t_num</th>\n",
        "      <th>t_type</th>\n",
        "    </tr>\n",
        "  </thead>\n",
        "  <tbody>\n",
        "    <tr>\n",
        "      <th>0</th>\n",
        "      <td>-1</td>\n",
        "      <td>-1</td>\n",
        "      <td>-1</td>\n",
        "      <td>-1</td>\n",
        "      <td>-1</td>\n",
        "      <td>-1</td>\n",
        "      <td>-1</td>\n",
        "    </tr>\n",
        "    <tr>\n",
        "      <th>1</th>\n",
        "      <td>-1</td>\n",
        "      <td>-1</td>\n",
        "      <td>-1</td>\n",
        "      <td>-1</td>\n",
        "      <td>-1</td>\n",
        "      <td>-1</td>\n",
        "      <td>-1</td>\n",
        "    </tr>\n",
        "    <tr>\n",
        "      <th>2</th>\n",
        "      <td>-1</td>\n",
        "      <td>-1</td>\n",
        "      <td>-1</td>\n",
        "      <td>-1</td>\n",
        "      <td>-1</td>\n",
        "      <td>-1</td>\n",
        "      <td>-1</td>\n",
        "    </tr>\n",
        "    <tr>\n",
        "      <th>3</th>\n",
        "      <td>-1</td>\n",
        "      <td>-1</td>\n",
        "      <td>-1</td>\n",
        "      <td>-1</td>\n",
        "      <td>-1</td>\n",
        "      <td>-1</td>\n",
        "      <td>-1</td>\n",
        "    </tr>\n",
        "    <tr>\n",
        "      <th>4</th>\n",
        "      <td>-1</td>\n",
        "      <td>-1</td>\n",
        "      <td>-1</td>\n",
        "      <td>-1</td>\n",
        "      <td>-1</td>\n",
        "      <td>-1</td>\n",
        "      <td>-1</td>\n",
        "    </tr>\n",
        "  </tbody>\n",
        "</table>\n",
        "</div>"
       ],
       "metadata": {},
       "output_type": "pyout",
       "prompt_number": 14,
       "text": [
        "   _notes  badpts  noise_trial  stim_name  t_base  t_num  t_type\n",
        "0      -1      -1           -1         -1      -1     -1      -1\n",
        "1      -1      -1           -1         -1      -1     -1      -1\n",
        "2      -1      -1           -1         -1      -1     -1      -1\n",
        "3      -1      -1           -1         -1      -1     -1      -1\n",
        "4      -1      -1           -1         -1      -1     -1      -1"
       ]
      }
     ],
     "prompt_number": 14
    },
    {
     "cell_type": "code",
     "collapsed": false,
     "input": [
      "# E.g.:\n",
      "signal_metadata[(signal_metadata != -1).any(1)].head()"
     ],
     "language": "python",
     "metadata": {},
     "outputs": [
      {
       "html": [
        "<div style=\"max-height:1000px;max-width:1500px;overflow:auto;\">\n",
        "<table border=\"1\" class=\"dataframe\">\n",
        "  <thead>\n",
        "    <tr style=\"text-align: right;\">\n",
        "      <th></th>\n",
        "      <th>_notes</th>\n",
        "      <th>badpts</th>\n",
        "      <th>noise_trial</th>\n",
        "      <th>stim_name</th>\n",
        "      <th>t_base</th>\n",
        "      <th>t_num</th>\n",
        "      <th>t_type</th>\n",
        "    </tr>\n",
        "  </thead>\n",
        "  <tbody>\n",
        "    <tr>\n",
        "      <th>8304</th>\n",
        "      <td>-1</td>\n",
        "      <td>-1</td>\n",
        "      <td> 1</td>\n",
        "      <td>-1</td>\n",
        "      <td>-1</td>\n",
        "      <td>-1</td>\n",
        "      <td> 2</td>\n",
        "    </tr>\n",
        "    <tr>\n",
        "      <th>8305</th>\n",
        "      <td>-1</td>\n",
        "      <td>-1</td>\n",
        "      <td> 1</td>\n",
        "      <td>-1</td>\n",
        "      <td>-1</td>\n",
        "      <td>-1</td>\n",
        "      <td> 2</td>\n",
        "    </tr>\n",
        "    <tr>\n",
        "      <th>8306</th>\n",
        "      <td>-1</td>\n",
        "      <td>-1</td>\n",
        "      <td> 1</td>\n",
        "      <td>-1</td>\n",
        "      <td>-1</td>\n",
        "      <td>-1</td>\n",
        "      <td> 2</td>\n",
        "    </tr>\n",
        "    <tr>\n",
        "      <th>8307</th>\n",
        "      <td>-1</td>\n",
        "      <td>-1</td>\n",
        "      <td> 1</td>\n",
        "      <td>-1</td>\n",
        "      <td>-1</td>\n",
        "      <td>-1</td>\n",
        "      <td> 2</td>\n",
        "    </tr>\n",
        "    <tr>\n",
        "      <th>8308</th>\n",
        "      <td>-1</td>\n",
        "      <td>-1</td>\n",
        "      <td> 1</td>\n",
        "      <td>-1</td>\n",
        "      <td>-1</td>\n",
        "      <td>-1</td>\n",
        "      <td> 2</td>\n",
        "    </tr>\n",
        "  </tbody>\n",
        "</table>\n",
        "</div>"
       ],
       "metadata": {},
       "output_type": "pyout",
       "prompt_number": 17,
       "text": [
        "      _notes  badpts  noise_trial  stim_name  t_base  t_num  t_type\n",
        "8304      -1      -1            1         -1      -1     -1       2\n",
        "8305      -1      -1            1         -1      -1     -1       2\n",
        "8306      -1      -1            1         -1      -1     -1       2\n",
        "8307      -1      -1            1         -1      -1     -1       2\n",
        "8308      -1      -1            1         -1      -1     -1       2"
       ]
      }
     ],
     "prompt_number": 17
    },
    {
     "cell_type": "markdown",
     "metadata": {},
     "source": [
      "This is a convenient way of keeping a lot of information in a single dataframe, but it's also different from the way that MNE deals with events.\n",
      "\n",
      "However, we now have the main components that we'll need to convert this data to MNE Raw format"
     ]
    },
    {
     "cell_type": "heading",
     "level": 1,
     "metadata": {},
     "source": [
      "Raw Arrays"
     ]
    },
    {
     "cell_type": "markdown",
     "metadata": {},
     "source": [
      "The class for creating Raw Arrays is unsurprisingly called RawArray. First, we need to create an \"info\" object that contains information about our data. This is kind of like \"colmetadata\".\n",
      "\n",
      "There are some quirky things about creating MNE objects:"
     ]
    },
    {
     "cell_type": "code",
     "collapsed": false,
     "input": [
      "# ch_names must be a list that's populated by strings\n",
      "ch_names = list(signal.columns.astype(str))\n",
      "\n",
      "# ch_types must be a list of the same length as ch_names, even if they're\n",
      "# all the same type of signal.\n",
      "# We assume all channels are eeg, since there is no 'ecog' type.\n",
      "ch_types = ['eeg'] * signal.columns.shape[0]\n",
      "\n",
      "# Now we can create the info object\n",
      "info = mne.create_info(ch_names, ecog.Fs, ch_types=ch_types)"
     ],
     "language": "python",
     "metadata": {},
     "outputs": [],
     "prompt_number": 28
    },
    {
     "cell_type": "markdown",
     "metadata": {},
     "source": [
      "Now we have our info object, we can inspect this to see what's inside. Notice that there are lots of empty fields. This is because the \"create_info\" function is kept intentionally simple to make it more flexible."
     ]
    },
    {
     "cell_type": "code",
     "collapsed": false,
     "input": [
      "info"
     ],
     "language": "python",
     "metadata": {},
     "outputs": [
      {
       "metadata": {},
       "output_type": "pyout",
       "prompt_number": 29,
       "text": [
        "<Info | 8 non-empty fields\n",
        "    bads : list | 0 items\n",
        "    ch_names : list | 15, 17, 37, 41, 44, 45, 46, 50, 51, 52\n",
        "    chs : list | 17 items\n",
        "    comps : list | 0 items\n",
        "    meas_date : list | 1969-12-31 18:00:00\n",
        "    nchan : int | 17\n",
        "    projs : list | 0 items\n",
        "    sfreq : float | 1000.0\n",
        "    acq_pars : NoneType\n",
        "    acq_stim : NoneType\n",
        "    ctf_head_t : NoneType\n",
        "    dev_ctf_t : NoneType\n",
        "    dev_head_t : NoneType\n",
        "    dig : NoneType\n",
        "    file_id : NoneType\n",
        "    filename : NoneType\n",
        "    highpass : NoneType\n",
        "    lowpass : NoneType\n",
        "    meas_id : NoneType\n",
        ">"
       ]
      }
     ],
     "prompt_number": 29
    },
    {
     "cell_type": "markdown",
     "metadata": {},
     "source": [
      "Now we are ready to create our Raw object:"
     ]
    },
    {
     "cell_type": "code",
     "collapsed": false,
     "input": [
      "# MNE expects the signal to be shape (signals, times) so we must transpose\n",
      "ecog_mne = mne.io.array.RawArray(signal.T, info)"
     ],
     "language": "python",
     "metadata": {},
     "outputs": [
      {
       "output_type": "stream",
       "stream": "stdout",
       "text": [
        "Creating RawArray with float64 data, n_channels=17, n_times=943200\n"
       ]
      },
      {
       "output_type": "stream",
       "stream": "stdout",
       "text": [
        "    Range : 0 ... 943199 =      0.000 ...   943.199 secs\n"
       ]
      },
      {
       "output_type": "stream",
       "stream": "stdout",
       "text": [
        "Ready.\n"
       ]
      }
     ],
     "prompt_number": 35
    },
    {
     "cell_type": "markdown",
     "metadata": {},
     "source": [
      "Now we've got our MNE array with much of its functionality. E.g.:"
     ]
    },
    {
     "cell_type": "code",
     "collapsed": false,
     "input": [
      "_ = ecog_mne.plot_psds()"
     ],
     "language": "python",
     "metadata": {},
     "outputs": [
      {
       "output_type": "stream",
       "stream": "stdout",
       "text": [
        "Effective window size : 2.048 (s)\n"
       ]
      },
      {
       "metadata": {},
       "output_type": "display_data",
       "png": "[encoded data removed]",
       "text": [
        "<matplotlib.figure.Figure at 0x116072750>"
       ]
      }
     ],
     "prompt_number": 37
    },
    {
     "cell_type": "heading",
     "level": 1,
     "metadata": {},
     "source": [
      "Events/Epochs"
     ]
    },
    {
     "cell_type": "markdown",
     "metadata": {},
     "source": [
      "Sometimes we don't just want raw data, but instead we'd like to have data separated by trials. This is also pretty easy. We just need the metadata about what happens at what times, as well as our signal."
     ]
    },
    {
     "cell_type": "code",
     "collapsed": false,
     "input": [
      "# To do this, we should include one of the stim channels with our RawArray:\n",
      "ch_names_events = ch_names + ['t_type']\n",
      "ch_types_events = ch_types + ['misc']\n",
      "\n",
      "# in MNE, 0 means no trial information, not -1, so we must replace with 0\n",
      "t_type = signal_metadata['t_type'].replace(-1, 0)\n",
      "signal_events = pd.concat([signal, t_type], 1)\n",
      "\n",
      "# Finally we'll make our info object\n",
      "info_events = mne.create_info(ch_names_events, ecog.Fs, ch_types_events)"
     ],
     "language": "python",
     "metadata": {},
     "outputs": [],
     "prompt_number": 64
    },
    {
     "cell_type": "markdown",
     "metadata": {},
     "source": [
      "Now we can create our object by first constructing a RawArray once more. This is a bit clunky, but as of now it seems that \"find_events\" functionality only works on Raw objects."
     ]
    },
    {
     "cell_type": "code",
     "collapsed": false,
     "input": [
      "ecog_events = mne.io.RawArray(signal_events.T, info_events)"
     ],
     "language": "python",
     "metadata": {},
     "outputs": [
      {
       "output_type": "stream",
       "stream": "stdout",
       "text": [
        "Creating RawArray with float64 data, n_channels=18, n_times=943200\n"
       ]
      },
      {
       "output_type": "stream",
       "stream": "stdout",
       "text": [
        "    Range : 0 ... 943199 =      0.000 ...   943.199 secs\n"
       ]
      },
      {
       "output_type": "stream",
       "stream": "stdout",
       "text": [
        "Ready.\n"
       ]
      }
     ],
     "prompt_number": 66
    },
    {
     "cell_type": "markdown",
     "metadata": {},
     "source": [
      "Now we can find the events corresponding to this signal with \"find_events\":"
     ]
    },
    {
     "cell_type": "code",
     "collapsed": false,
     "input": [
      "event_times = mne.find_events(ecog_events, stim_channel='t_type')"
     ],
     "language": "python",
     "metadata": {},
     "outputs": [
      {
       "output_type": "stream",
       "stream": "stdout",
       "text": [
        "174 events found\n"
       ]
      },
      {
       "output_type": "stream",
       "stream": "stdout",
       "text": [
        "Events id: [1 2 3]\n"
       ]
      }
     ],
     "prompt_number": 68
    },
    {
     "cell_type": "markdown",
     "metadata": {},
     "source": [
      "Event times contains three columns:\n",
      "1. The timepoint (as an index) corresponding to the event\n",
      "1. The value of the event channel prior to this event\n",
      "1. The value of the event channel for this event"
     ]
    },
    {
     "cell_type": "code",
     "collapsed": false,
     "input": [
      "event_times[:10]"
     ],
     "language": "python",
     "metadata": {},
     "outputs": [
      {
       "metadata": {},
       "output_type": "pyout",
       "prompt_number": 69,
       "text": [
        "array([[ 8304,     0,     2],\n",
        "       [14422,     0,     2],\n",
        "       [20491,     0,     2],\n",
        "       [25917,     0,     2],\n",
        "       [30584,     0,     2],\n",
        "       [36312,     0,     2],\n",
        "       [42423,     0,     1],\n",
        "       [47021,     0,     2],\n",
        "       [53330,     0,     3],\n",
        "       [58102,     0,     1]])"
       ]
      }
     ],
     "prompt_number": 69
    },
    {
     "cell_type": "markdown",
     "metadata": {},
     "source": [
      "Now, we can use this to create epoched data.\n",
      "\n",
      "We can do this with our Raw object like so:"
     ]
    },
    {
     "cell_type": "code",
     "collapsed": false,
     "input": [
      "# Event_id tells MNE which events to use. If it's a dict, we can name them\n",
      "event_id = {'first': 1, 'second': 2, 'third': 3}\n",
      "tmin = -.2  # In seconds\n",
      "tmax = 2\n",
      "epochs = mne.Epochs(ecog_mne, event_times, event_id, tmin, tmax)"
     ],
     "language": "python",
     "metadata": {},
     "outputs": [
      {
       "output_type": "stream",
       "stream": "stdout",
       "text": [
        "Adding average EEG reference projection.\n"
       ]
      },
      {
       "output_type": "stream",
       "stream": "stdout",
       "text": [
        "Created an SSP operator (subspace dimension = 1)\n"
       ]
      },
      {
       "output_type": "stream",
       "stream": "stdout",
       "text": [
        "1 projection items activated\n"
       ]
      },
      {
       "output_type": "stream",
       "stream": "stdout",
       "text": [
        "174 matching events found\n"
       ]
      }
     ],
     "prompt_number": 71
    },
    {
     "cell_type": "code",
     "collapsed": false,
     "input": [
      "# And now we have epochs!\n",
      "epochs.get_data().shape"
     ],
     "language": "python",
     "metadata": {},
     "outputs": [
      {
       "metadata": {},
       "output_type": "pyout",
       "prompt_number": 76,
       "text": [
        "(174, 17, 2201)"
       ]
      }
     ],
     "prompt_number": 76
    },
    {
     "cell_type": "code",
     "collapsed": false,
     "input": [
      "evoked = epochs.average()\n",
      "_ = evoked.plot()"
     ],
     "language": "python",
     "metadata": {},
     "outputs": [
      {
       "metadata": {},
       "output_type": "display_data",
       "png": "[encoded data removed]",
       "text": [
        "<matplotlib.figure.Figure at 0x126cf22d0>"
       ]
      }
     ],
     "prompt_number": 79
    },
    {
     "cell_type": "heading",
     "level": 3,
     "metadata": {},
     "source": [
      "Epochs from arbitrary arrays"
     ]
    },
    {
     "cell_type": "markdown",
     "metadata": {},
     "source": [
      "You don't have to have a Raw object in order to create an epochs object. As long as you have an array of shape (n_events, n_sensors, n_times), then you can create one with the EpochsArray class:"
     ]
    },
    {
     "cell_type": "code",
     "collapsed": false,
     "input": [
      "ecog_mne"
     ],
     "language": "python",
     "metadata": {},
     "outputs": [
      {
       "metadata": {},
       "output_type": "pyout",
       "prompt_number": 81,
       "text": [
        "<Raw  |  n_channels x n_times : 17 x 943200>"
       ]
      }
     ],
     "prompt_number": 81
    },
    {
     "cell_type": "code",
     "collapsed": false,
     "input": [
      "n_sensors = len(ecog_mne.ch_names)\n",
      "sensor_fs = ecog.Fs\n",
      "n_events = event_times.shape[0]\n",
      "tmin = -.2  # Tells MNE when is the start point for our events\n",
      "event_dummy_data = np.random.randn(n_events, n_sensors, sensor_fs * 10)\n",
      "\n",
      "epochs_array = mne.EpochsArray(event_dummy_data, info,\n",
      "                               event_times, tmin=tmin)"
     ],
     "language": "python",
     "metadata": {},
     "outputs": [],
     "prompt_number": 88
    },
    {
     "cell_type": "code",
     "collapsed": false,
     "input": [
      "_ = epochs_array.average().plot()"
     ],
     "language": "python",
     "metadata": {},
     "outputs": [
      {
       "metadata": {},
       "output_type": "display_data",
       "png": "[encoded data removed]",
       "text": [
        "<matplotlib.figure.Figure at 0x14114dbd0>"
       ]
      }
     ],
     "prompt_number": 90
    }
   ],
   "metadata": {}
  }
 ]
}
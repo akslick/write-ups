{
 "cells": [
  {
   "cell_type": "code",
   "execution_count": 6,
   "metadata": {
    "collapsed": false
   },
   "outputs": [],
   "source": [
    "import plotly.plotly as py\n",
    "import plotly.graph_objs as go\n",
    "import colorlover as cl\n",
    "from plotly.offline import download_plotlyjs, init_notebook_mode, iplot\n",
    "import numpy as np\n",
    "import matplotlib.cm as cm\n",
    "from plotly.tools import FigureFactory\n",
    "import h5py\n",
    "import nibabel as nb\n",
    "import h5io\n",
    "import matplotlib.pyplot as plt"
   ]
  },
  {
   "cell_type": "code",
   "execution_count": 2,
   "metadata": {
    "collapsed": false
   },
   "outputs": [
    {
     "data": {
      "text/plain": [
       "[u'kind', u'coords', u'sub', u'verts']"
      ]
     },
     "execution_count": 2,
     "metadata": {},
     "output_type": "execute_result"
    }
   ],
   "source": [
    "brain = h5io.read_hdf5('./surface/mni_surface.h5')\n",
    "hemi = brain['lh']\n",
    "hemi.keys()"
   ]
  },
  {
   "cell_type": "code",
   "execution_count": 3,
   "metadata": {
    "collapsed": true
   },
   "outputs": [],
   "source": [
    "tri = hemi['verts']\n",
    "#tala = brain['tala'][:]\n",
    "xyz = hemi['coords'][:]\n",
    "x, y, z = xyz.T"
   ]
  },
  {
   "cell_type": "code",
   "execution_count": 4,
   "metadata": {
    "collapsed": false
   },
   "outputs": [],
   "source": [
    "colormap = FigureFactory._unlabel_rgb(cl.scales['3']['seq']['Greys'])\n",
    "colormap = FigureFactory._unconvert_from_RGB_255(colormap)"
   ]
  },
  {
   "cell_type": "code",
   "execution_count": 8,
   "metadata": {
    "collapsed": false
   },
   "outputs": [
    {
     "name": "stdout",
     "output_type": "stream",
     "text": [
      "CPU times: user 7.32 s, sys: 221 ms, total: 7.54 s\n",
      "Wall time: 7.45 s\n"
     ]
    }
   ],
   "source": [
    "%%time\n",
    "data1 = FigureFactory._trisurf(x=x, y=y, z=z, simplices=tri, plot_edges=None,\n",
    "                               colormap=colormap, dist_func=None)\n",
    "data1[0]['lighting'] = dict(ambient=.9)\n",
    "\n",
    "# Will uncomment once I put electrodes in MNI space\n",
    "# color = ['rgba({0}, {1}, {2}, {3})'.format(i, j, k, l) for i, j, k, l in cols]\n",
    "# scat = go.Scatter3d(x=ex, y=ey, z=ez, mode='markers',\n",
    "#                     marker=dict(size=3, color=color,\n",
    "#                                 line=dict(width=1, color='k')))"
   ]
  },
  {
   "cell_type": "code",
   "execution_count": 9,
   "metadata": {
    "collapsed": false
   },
   "outputs": [
    {
     "name": "stdout",
     "output_type": "stream",
     "text": [
      "CPU times: user 18.9 s, sys: 825 ms, total: 19.7 s\n",
      "Wall time: 56.6 s\n"
     ]
    },
    {
     "name": "stderr",
     "output_type": "stream",
     "text": [
      "/Users/choldgraf/anaconda/lib/python2.7/site-packages/plotly/plotly/plotly.py:236: UserWarning:\n",
      "\n",
      "Woah there! Look at all those points! Due to browser limitations, the Plotly SVG drawing functions have a hard time graphing more than 500k data points for line charts, or 40k points for other types of charts. Here are some suggestions:\n",
      "(1) Use the `plotly.graph_objs.Scattergl` trace object to generate a WebGl graph.\n",
      "(2) Trying using the image API to return an image instead of a graph URL\n",
      "(3) Use matplotlib\n",
      "(4) See if you can create your visualization with fewer data points\n",
      "\n",
      "If the visualization you're using aggregates points (e.g., box plot, histogram, etc.) you can disregard this warning.\n",
      "\n"
     ]
    }
   ],
   "source": [
    "%%time\n",
    "fig = go.Figure(data=data1)\n",
    "# iplot(fig)\n",
    "py.iplot(fig, filename='/mni/surface')"
   ]
  }
 ],
 "metadata": {
  "kernelspec": {
   "display_name": "Python 2",
   "language": "python",
   "name": "python2"
  },
  "language_info": {
   "codemirror_mode": {
    "name": "ipython",
    "version": 2
   },
   "file_extension": ".py",
   "mimetype": "text/x-python",
   "name": "python",
   "nbconvert_exporter": "python",
   "pygments_lexer": "ipython2",
   "version": "2.7.11"
  }
 },
 "nbformat": 4,
 "nbformat_minor": 0
}

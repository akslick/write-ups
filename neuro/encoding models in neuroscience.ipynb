{
 "cells": [
  {
   "cell_type": "markdown",
   "metadata": {},
   "source": [
    "So you want to learn more about encoding models in the brain? Well I don't blame you, they're pretty cool. Whether it be fitting spectro (or spatio) temporal receptive fields, mapping semantic processing with brain activity, or trying to decode the stuff of thought, predictive models are a really powerful tool.\n",
    "\n",
    "However, they aren't always the easiest things to learn. This is partially because the concept of a predictive model is actually quite general, so there are bits and pieces scattered throughout the web but nothing systematic, easy to understand, and focused on practicality.\n",
    "\n",
    "However, here are a few good resources to get started:"
   ]
  },
  {
   "cell_type": "markdown",
   "metadata": {},
   "source": [
    "# Computational tools\n",
    "\n",
    "First things first, you'll need to program in order to make these models work for you. It's possible to do predictive modeling in any language, though my preference is (unsurprisingly) in python. Using a combination of numpy and scikit-learn, you can build all kinds of great modeling tools. And along with the neurophysiology package \"MNE\", you can also represent brain electrophysiology data quite easily. I'd recommend checking out the Anaconda python distribution, which has most of these packages pre-included.\n",
    "\n",
    "A lot of people have written IPython notebooks specifically for tutorials, and they're really useful to learn from. [Check out this page](https://github.com/ipython/ipython/wiki/A-gallery-of-interesting-IPython-Notebooks), which has a curated list of some of the better ipython notebooks. In particular, you should check out the \"[Python for Scientific Computing](https://github.com/ipython/ipython/wiki/A-gallery-of-interesting-IPython-Notebooks#scientific-computing-and-data-analysis-with-the-scipy-stack)\" section. It'll be really helpful in both making you more comfortable with python, and with scientific analysis in general."
   ]
  },
  {
   "cell_type": "markdown",
   "metadata": {},
   "source": [
    "# Predictive models in neuroscience\n",
    "\n",
    "At the highest level, you might want to check out [this review from Theunissen](http://www.nature.com/nrn/journal/v15/n6/full/nrn3731.html) and [this one from Buszaki](http://www.nature.com/nrn/journal/v13/n6/full/nrn3241.html). The first covers encoding models of the brain more generally, and the second is about extracellular fields.\n",
    "\n",
    "To learn specifically about modeling in the brain, I'd check out [this nice review paper](http://www.ncbi.nlm.nih.gov/pmc/articles/PMC3037423/) from the Gallant lab. It's called \"Encoding and Decoding in fMRI\", and is a general review paper about the world of encoding/decoding. It's a good start to get a general overview of the methods. Also, it's got a picture of Rambo riding a unicorn, which is pretty awesome.\n",
    "\n",
    "If you're interested in diving a bit further, check out [this paper](http://journals.plos.org/plosbiology/article?id=10.1371/journal.pbio.1001251) from Brian Pasley. It is one of the first \"decoding\" papers in electrophysiology. In it, Pasley uses predictive models along with brain activity in order to decode what speech a person is listening to. It's got more detail about the methods and analysis."
   ]
  },
  {
   "cell_type": "markdown",
   "metadata": {},
   "source": [
    "# Useful tools\n",
    "\n",
    "**Psychopy**\n",
    "Psychopy is really useful for stimulus presentation and running your experiments. I'd recommend using the \"Standalone PsychoPy\" installation. This basically comes with its own python distribution, and all packages that it needs pre-installed. This makes it much easier to use on lots of computers without worrying about whether you have the right library installed.\n",
    "\n",
    "[Here's the main website](http://www.psychopy.org/) for psychopy. In order to get familiar with psychopy, you might check out [this](https://www.youtube.com/watch?v=WKJBbVnQkj0), and [this](https://www.youtube.com/watch?v=VV6qhuQgsiI) youtube video. You can skip around to see how things work. It should be relatively straightforward, but there may be an early learning curve. I've also found that the [psychopy-users](https://groups.google.com/forum/#!forum/psychopy-users) google group is useful as well. \n",
    "\n",
    "**Visualization**\n",
    "For some quick visualizations, the [pyplot](http://matplotlib.org/api/pyplot_api.html) module of matplotlib is really useful too. Matplotlib is a general plotting package, and pyplot includes some helper functions to do things quickly.\n",
    "\n",
    "There's also [Seaborn](http://stanford.edu/~mwaskom/software/seaborn/), which is prettier than matplotlib, and has some defaults and functions that are more appropriate for scientific visualizations."
   ]
  },
  {
   "cell_type": "markdown",
   "metadata": {},
   "source": [
    "# Signal processing and time-frequency analysis\n",
    "\n",
    "Signal processing is a fundamental component of any neuroscientific analysis, and sadly is one of the more poorly-taught fields out there (for scientists, anyway). Basically, this is just a way of manipulating and understanding signals (usually that vary in time). In predictive modeling of language, the two signals we tend to care about are ones that come from the brain (e.g., EEG, ECoG) and ones that come from our mouths (e.g., speech, language). Signal processing is a HUGE field, and in neuroscience we usually only scratch the surface. It’s most important to be familiar with these techniques, and particularly know when it might affect your data.\n",
    "\n",
    "> The most basic package for doing this kind of thing in python is called “[scipy.signal](http://docs.scipy.org/doc/scipy/reference/signal.html)”. It’s the “signal” submodule of the scipy package. It’s got a lot of great features, though it can be more confusing than it needs to be.\n",
    "\n",
    "In practice, it's often easier to use signal processing tools that have been pre-crafted for neuroscience analysis. A good place to start is [MNE-python](http://martinos.org/mne/stable/mne-python.html), which has a `time_frequency` module that has many of these functions in more user-friendly form. In particular, [these are some functions](http://martinos.org/mne/stable/python_reference.html#time-frequency) that can create spectrograms of sound or brain activity. I recommend checking out their \"examples gallery\" [here](http://martinos.org/mne/stable/auto_examples/index.html) to get an idea for what's possible.\n",
    "\n",
    "Of particular interest to neuroscience are \"time-frequency\" decompositions. Extracting the frequency content of a signal allows you to take a time-domain signal (e.g., air pressure over time) into a frequency-domain signal (e.g., frequency power over frequency value). This tells us “how much” of each frequency is in the original signal.\n",
    "In neuroscience, we do this on sliding windows of a signal, and slid those windows across time (computing the frequency representation each time) in order to build a spectrogram of the signal, aka, how the frequency content changes across time.\n",
    "\n",
    "> To perform these things on a signal, check out the \"periodogram\" and \"specgram\" functions of pyplot. Also check out the time-frequency module that I linked to earlier.\n",
    "\n",
    "In general, you need to provide the signal itself, as well as the sampling rate of the signal (e.g., how many points per second are we recording). This lets the function know the highest frequency that can be detected in the signal.\n",
    "\n",
    "There are often other parameters to play around with, these often correspond to the parameters for the windows, or how the Fourier Transform is performed. Play around with them and see how it changes things.\n",
    "\n",
    "A quick note - if you've got a 3-D matrix (e.g., a spectrogram that is time x frequency x amplitude), then a useful way of visualizing is to plot it as an image (aka, time and frequency are the two sides of the image, and the color intensity is the amplitude). Check out the \"imshow\" function for this."
   ]
  },
  {
   "cell_type": "code",
   "execution_count": null,
   "metadata": {
    "collapsed": true
   },
   "outputs": [],
   "source": []
  }
 ],
 "metadata": {
  "kernelspec": {
   "display_name": "Python 2",
   "language": "python",
   "name": "python2"
  },
  "language_info": {
   "codemirror_mode": {
    "name": "ipython",
    "version": 2
   },
   "file_extension": ".py",
   "mimetype": "text/x-python",
   "name": "python",
   "nbconvert_exporter": "python",
   "pygments_lexer": "ipython2",
   "version": "2.7.11"
  }
 },
 "nbformat": 4,
 "nbformat_minor": 0
}

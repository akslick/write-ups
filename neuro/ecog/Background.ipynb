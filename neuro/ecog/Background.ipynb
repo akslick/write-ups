{
 "cells": [
  {
   "cell_type": "markdown",
   "metadata": {},
   "source": [
    "So you want to learn more about ecog and predictive models in the brain? Well I don't blame you, they're pretty cool. Whether it be fitting spectro (or spatio) temporal receptive fields, mapping semantic processing with brain activity, or trying to decode the stuff of thought, predictive models are a really powerful tool.\n",
    "\n",
    "However, they aren't always the easiest things to learn. This is partially because the concept of a predictive model is actually quite general, so there are bits and pieces scattered throughout the web but nothing systematic, easy to understand, and focused on practicality.\n",
    "\n",
    "These are a collection of notebooks that cover the basic processing of ecog data, some common computational techniques for feature extraction, and a bit about fitting models using these features. To begin, here are a few good general resources (with topic-specific resources found in each notebook)."
   ]
  },
  {
   "cell_type": "markdown",
   "metadata": {},
   "source": [
    "** Getting python **\n",
    "\n",
    "First things first, you'll need to program in order to make these models work for you. It's possible to do predictive modeling in any language, though my preference is (unsurprisingly) in python. Using a combination of numpy and scikit-learn, you can build all kinds of great modeling tools. And along with the neurophysiology package \"MNE\", you can also represent brain electrophysiology data quite easily. I'd recommend checking out the [Anaconda python distribution](https://www.continuum.io/downloads), which has most of these packages pre-included.\n",
    "\n",
    "**Learning materials**\n",
    "\n",
    "A lot of people have written IPython notebooks specifically for tutorials, and they're really useful to learn from. [Check out this page](https://github.com/ipython/ipython/wiki/A-gallery-of-interesting-IPython-Notebooks), which has a curated list of some of the better ipython notebooks. In particular, you should check out the \"[Python for Scientific Computing](https://github.com/ipython/ipython/wiki/A-gallery-of-interesting-IPython-Notebooks#scientific-computing-and-data-analysis-with-the-scipy-stack)\" section. It'll be really helpful in both making you more comfortable with python, and with scientific analysis in general.\n",
    "\n",
    "**Psychopy**\n",
    "\n",
    "Psychopy is really useful for stimulus presentation and running your experiments. I'd recommend using the \"Standalone PsychoPy\" installation. This basically comes with its own python distribution, and all packages that it needs pre-installed. This makes it much easier to use on lots of computers without worrying about whether you have the right library installed.\n",
    "\n",
    "[Here's the main website](http://www.psychopy.org/) for psychopy. In order to get familiar with psychopy, you might check out [this](https://www.youtube.com/watch?v=WKJBbVnQkj0), and [this](https://www.youtube.com/watch?v=VV6qhuQgsiI) youtube video. You can skip around to see how things work. It should be relatively straightforward, but there may be an early learning curve. I've also found that the [psychopy-users](https://groups.google.com/forum/#!forum/psychopy-users) google group is useful as well. \n",
    "\n",
    "**Visualization**\n",
    "\n",
    "For some quick visualizations, the [pyplot](http://matplotlib.org/api/pyplot_api.html) module of matplotlib is really useful too. Matplotlib is a general plotting package, and pyplot includes some helper functions to do things quickly.\n",
    "\n",
    "There's also [Seaborn](http://stanford.edu/~mwaskom/software/seaborn/), which is prettier than matplotlib, and has some defaults and functions that are more appropriate for scientific visualizations."
   ]
  },
  {
   "cell_type": "markdown",
   "metadata": {
    "collapsed": true
   },
   "source": [
    "Now take a look at the other notebooks contained here. The first one covers basic data visualization and exploration, and we'll get more complex from there."
   ]
  },
  {
   "cell_type": "code",
   "execution_count": null,
   "metadata": {
    "collapsed": true
   },
   "outputs": [],
   "source": []
  }
 ],
 "metadata": {
  "kernelspec": {
   "display_name": "Python 2",
   "language": "python",
   "name": "python2"
  },
  "language_info": {
   "codemirror_mode": {
    "name": "ipython",
    "version": 2
   },
   "file_extension": ".py",
   "mimetype": "text/x-python",
   "name": "python",
   "nbconvert_exporter": "python",
   "pygments_lexer": "ipython2",
   "version": "2.7.11"
  }
 },
 "nbformat": 4,
 "nbformat_minor": 0
}
